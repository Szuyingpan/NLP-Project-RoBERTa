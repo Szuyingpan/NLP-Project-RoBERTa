{
  "cells": [
    {
      "cell_type": "markdown",
      "metadata": {
        "id": "view-in-github",
        "colab_type": "text"
      },
      "source": [
        "<a href=\"https://colab.research.google.com/github/Szuyingpan/NLP-Project-RoBERTa/blob/main/Copy_of_NLP_Sentiment_Analysis_RoBERTa_Model_(2)_(1).ipynb\" target=\"_parent\"><img src=\"https://colab.research.google.com/assets/colab-badge.svg\" alt=\"Open In Colab\"/></a>"
      ]
    },
    {
      "cell_type": "code",
      "execution_count": null,
      "metadata": {
        "id": "22a8e041"
      },
      "outputs": [],
      "source": [],
      "id": "22a8e041"
    },
    {
      "cell_type": "code",
      "execution_count": null,
      "metadata": {
        "id": "236a57b0"
      },
      "outputs": [],
      "source": [
        "#https://huggingface.co/docs/transformers/model_doc/roberta"
      ],
      "id": "236a57b0"
    },
    {
      "cell_type": "code",
      "execution_count": null,
      "metadata": {
        "id": "JJhnIA1lyp_L"
      },
      "outputs": [],
      "source": [
        "#from google.colab import drive\n",
        "#drive.mount('/content/drive')"
      ],
      "id": "JJhnIA1lyp_L"
    },
    {
      "cell_type": "markdown",
      "metadata": {
        "id": "c2d0751c"
      },
      "source": [
        "## 1. Important library"
      ],
      "id": "c2d0751c"
    },
    {
      "cell_type": "code",
      "execution_count": null,
      "metadata": {
        "id": "73fb5587"
      },
      "outputs": [],
      "source": [
        "#!pip install transformers==3.0.2"
      ],
      "id": "73fb5587"
    },
    {
      "cell_type": "code",
      "execution_count": null,
      "metadata": {
        "id": "8qDXRi5gJWwK",
        "colab": {
          "base_uri": "https://localhost:8080/"
        },
        "outputId": "308eb7b6-094b-4f3e-e937-0ad1a29af656"
      },
      "outputs": [
        {
          "output_type": "stream",
          "name": "stdout",
          "text": [
            "Drive already mounted at /content/drive; to attempt to forcibly remount, call drive.mount(\"/content/drive\", force_remount=True).\n"
          ]
        }
      ],
      "source": [
        "from google.colab import drive\n",
        "drive.mount('/content/drive')"
      ],
      "id": "8qDXRi5gJWwK"
    },
    {
      "cell_type": "code",
      "execution_count": null,
      "metadata": {
        "id": "4999121f"
      },
      "outputs": [],
      "source": [
        "# Importing the libraries needed\n",
        "import pandas as pd\n",
        "import numpy as np\n",
        "from sklearn.model_selection import train_test_split\n",
        "import torch\n",
        "import seaborn as sns\n",
        "import transformers\n",
        "import json\n",
        "from tqdm import tqdm\n",
        "from torch.utils.data import Dataset, DataLoader\n",
        "from transformers import RobertaModel, RobertaTokenizer\n",
        "import logging\n",
        "logging.basicConfig(level=logging.ERROR)"
      ],
      "id": "4999121f"
    },
    {
      "cell_type": "code",
      "execution_count": null,
      "metadata": {
        "id": "6cO9wldlSdkb",
        "colab": {
          "base_uri": "https://localhost:8080/"
        },
        "outputId": "b9ccbd0d-cde5-4a8f-cd5c-59ac5d2b6019"
      },
      "outputs": [
        {
          "output_type": "stream",
          "name": "stdout",
          "text": [
            "Using device: cuda\n"
          ]
        }
      ],
      "source": [
        "device = torch.device(\"cuda\" if torch.cuda.is_available() else \"cpu\")\n",
        "print(f'Using device: {device}')"
      ],
      "id": "6cO9wldlSdkb"
    },
    {
      "cell_type": "code",
      "execution_count": null,
      "metadata": {
        "id": "5ef35276"
      },
      "outputs": [],
      "source": [
        "# Setting up the device for GPU usage\n",
        "\n",
        "from torch import cuda\n",
        "device = 'cuda' if cuda.is_available() else 'cpu'"
      ],
      "id": "5ef35276"
    },
    {
      "cell_type": "markdown",
      "metadata": {
        "id": "7eddbd8a"
      },
      "source": [
        "## 2. Important dataset"
      ],
      "id": "7eddbd8a"
    },
    {
      "cell_type": "code",
      "source": [
        "import re\n",
        "import random\n",
        "import pandas as pd\n",
        "\n",
        "# Probability threshold to read a line\n",
        "probability_threshold = 0.01\n",
        "\n",
        "# Initialize lists to store the separated sentiments and phrases\n",
        "sentiments = []\n",
        "phrases = []\n",
        "\n",
        "# Open the file and read line by line\n",
        "with open('/content/drive/MyDrive/Colab Notebooks/train.ft.txt', 'r', encoding='utf-8') as file:\n",
        "    for line in file:\n",
        "        # Randomly decide whether to process this line\n",
        "        if random.random() <= probability_threshold:\n",
        "            # Extract sentiment and phrase using regex\n",
        "            match = re.match(r'(__label__\\d) (.*)', line)\n",
        "            \"label_1 means negative (0); label_2 means positive(1)\"\n",
        "            if match:\n",
        "                sentiments.append(match.group(1).replace('__label__1', '0').replace('__label__2', '1'))\n",
        "                phrases.append(match.group(2))\n",
        "\n",
        "# Create a DataFrame from the lists\n",
        "train = pd.DataFrame({\n",
        "    'sentiment': sentiments,\n",
        "    'phrase': phrases\n",
        "})\n",
        "\n",
        "# Check the first few rows to ensure it's loaded correctly\n",
        "print(train.head())\n"
      ],
      "metadata": {
        "colab": {
          "base_uri": "https://localhost:8080/"
        },
        "id": "Im-C9m1yxQ0H",
        "outputId": "64764892-77f6-46da-fa5b-222f686e65eb"
      },
      "id": "Im-C9m1yxQ0H",
      "execution_count": null,
      "outputs": [
        {
          "output_type": "stream",
          "name": "stdout",
          "text": [
            "  sentiment                                             phrase\n",
            "0         0  Works, but not as advertised: I bought one of ...\n",
            "1         1  Worth the wait!: JMM has never released a bad ...\n",
            "2         0  Molly Myers: Molly Myers, in her review of \"My...\n",
            "3         1  Intriguing story: While I don't consider it th...\n",
            "4         0  Obviously, not Adam Sandler's best: An accepta...\n"
          ]
        }
      ]
    },
    {
      "cell_type": "code",
      "execution_count": null,
      "metadata": {
        "colab": {
          "base_uri": "https://localhost:8080/"
        },
        "id": "07194821",
        "outputId": "32d055f1-1b89-4ca6-878b-104e11a26354"
      },
      "outputs": [
        {
          "output_type": "execute_result",
          "data": {
            "text/plain": [
              "(35738, 2)"
            ]
          },
          "metadata": {},
          "execution_count": 157
        }
      ],
      "source": [
        "train.shape"
      ],
      "id": "07194821"
    },
    {
      "cell_type": "code",
      "execution_count": null,
      "metadata": {
        "colab": {
          "base_uri": "https://localhost:8080/",
          "height": 206
        },
        "id": "1ae66a64",
        "outputId": "de2ee0ac-5e0c-4315-8ad3-c4ace47f1d1c"
      },
      "outputs": [
        {
          "output_type": "execute_result",
          "data": {
            "text/plain": [
              "  sentiment                                             phrase\n",
              "0         0  Works, but not as advertised: I bought one of ...\n",
              "1         1  Worth the wait!: JMM has never released a bad ...\n",
              "2         0  Molly Myers: Molly Myers, in her review of \"My...\n",
              "3         1  Intriguing story: While I don't consider it th...\n",
              "4         0  Obviously, not Adam Sandler's best: An accepta..."
            ],
            "text/html": [
              "\n",
              "  <div id=\"df-3ec115e7-6765-4506-a06b-90d055708129\" class=\"colab-df-container\">\n",
              "    <div>\n",
              "<style scoped>\n",
              "    .dataframe tbody tr th:only-of-type {\n",
              "        vertical-align: middle;\n",
              "    }\n",
              "\n",
              "    .dataframe tbody tr th {\n",
              "        vertical-align: top;\n",
              "    }\n",
              "\n",
              "    .dataframe thead th {\n",
              "        text-align: right;\n",
              "    }\n",
              "</style>\n",
              "<table border=\"1\" class=\"dataframe\">\n",
              "  <thead>\n",
              "    <tr style=\"text-align: right;\">\n",
              "      <th></th>\n",
              "      <th>sentiment</th>\n",
              "      <th>phrase</th>\n",
              "    </tr>\n",
              "  </thead>\n",
              "  <tbody>\n",
              "    <tr>\n",
              "      <th>0</th>\n",
              "      <td>0</td>\n",
              "      <td>Works, but not as advertised: I bought one of ...</td>\n",
              "    </tr>\n",
              "    <tr>\n",
              "      <th>1</th>\n",
              "      <td>1</td>\n",
              "      <td>Worth the wait!: JMM has never released a bad ...</td>\n",
              "    </tr>\n",
              "    <tr>\n",
              "      <th>2</th>\n",
              "      <td>0</td>\n",
              "      <td>Molly Myers: Molly Myers, in her review of \"My...</td>\n",
              "    </tr>\n",
              "    <tr>\n",
              "      <th>3</th>\n",
              "      <td>1</td>\n",
              "      <td>Intriguing story: While I don't consider it th...</td>\n",
              "    </tr>\n",
              "    <tr>\n",
              "      <th>4</th>\n",
              "      <td>0</td>\n",
              "      <td>Obviously, not Adam Sandler's best: An accepta...</td>\n",
              "    </tr>\n",
              "  </tbody>\n",
              "</table>\n",
              "</div>\n",
              "    <div class=\"colab-df-buttons\">\n",
              "\n",
              "  <div class=\"colab-df-container\">\n",
              "    <button class=\"colab-df-convert\" onclick=\"convertToInteractive('df-3ec115e7-6765-4506-a06b-90d055708129')\"\n",
              "            title=\"Convert this dataframe to an interactive table.\"\n",
              "            style=\"display:none;\">\n",
              "\n",
              "  <svg xmlns=\"http://www.w3.org/2000/svg\" height=\"24px\" viewBox=\"0 -960 960 960\">\n",
              "    <path d=\"M120-120v-720h720v720H120Zm60-500h600v-160H180v160Zm220 220h160v-160H400v160Zm0 220h160v-160H400v160ZM180-400h160v-160H180v160Zm440 0h160v-160H620v160ZM180-180h160v-160H180v160Zm440 0h160v-160H620v160Z\"/>\n",
              "  </svg>\n",
              "    </button>\n",
              "\n",
              "  <style>\n",
              "    .colab-df-container {\n",
              "      display:flex;\n",
              "      gap: 12px;\n",
              "    }\n",
              "\n",
              "    .colab-df-convert {\n",
              "      background-color: #E8F0FE;\n",
              "      border: none;\n",
              "      border-radius: 50%;\n",
              "      cursor: pointer;\n",
              "      display: none;\n",
              "      fill: #1967D2;\n",
              "      height: 32px;\n",
              "      padding: 0 0 0 0;\n",
              "      width: 32px;\n",
              "    }\n",
              "\n",
              "    .colab-df-convert:hover {\n",
              "      background-color: #E2EBFA;\n",
              "      box-shadow: 0px 1px 2px rgba(60, 64, 67, 0.3), 0px 1px 3px 1px rgba(60, 64, 67, 0.15);\n",
              "      fill: #174EA6;\n",
              "    }\n",
              "\n",
              "    .colab-df-buttons div {\n",
              "      margin-bottom: 4px;\n",
              "    }\n",
              "\n",
              "    [theme=dark] .colab-df-convert {\n",
              "      background-color: #3B4455;\n",
              "      fill: #D2E3FC;\n",
              "    }\n",
              "\n",
              "    [theme=dark] .colab-df-convert:hover {\n",
              "      background-color: #434B5C;\n",
              "      box-shadow: 0px 1px 3px 1px rgba(0, 0, 0, 0.15);\n",
              "      filter: drop-shadow(0px 1px 2px rgba(0, 0, 0, 0.3));\n",
              "      fill: #FFFFFF;\n",
              "    }\n",
              "  </style>\n",
              "\n",
              "    <script>\n",
              "      const buttonEl =\n",
              "        document.querySelector('#df-3ec115e7-6765-4506-a06b-90d055708129 button.colab-df-convert');\n",
              "      buttonEl.style.display =\n",
              "        google.colab.kernel.accessAllowed ? 'block' : 'none';\n",
              "\n",
              "      async function convertToInteractive(key) {\n",
              "        const element = document.querySelector('#df-3ec115e7-6765-4506-a06b-90d055708129');\n",
              "        const dataTable =\n",
              "          await google.colab.kernel.invokeFunction('convertToInteractive',\n",
              "                                                    [key], {});\n",
              "        if (!dataTable) return;\n",
              "\n",
              "        const docLinkHtml = 'Like what you see? Visit the ' +\n",
              "          '<a target=\"_blank\" href=https://colab.research.google.com/notebooks/data_table.ipynb>data table notebook</a>'\n",
              "          + ' to learn more about interactive tables.';\n",
              "        element.innerHTML = '';\n",
              "        dataTable['output_type'] = 'display_data';\n",
              "        await google.colab.output.renderOutput(dataTable, element);\n",
              "        const docLink = document.createElement('div');\n",
              "        docLink.innerHTML = docLinkHtml;\n",
              "        element.appendChild(docLink);\n",
              "      }\n",
              "    </script>\n",
              "  </div>\n",
              "\n",
              "\n",
              "<div id=\"df-8bd30345-2746-4f41-b8e0-ef21b90c678e\">\n",
              "  <button class=\"colab-df-quickchart\" onclick=\"quickchart('df-8bd30345-2746-4f41-b8e0-ef21b90c678e')\"\n",
              "            title=\"Suggest charts\"\n",
              "            style=\"display:none;\">\n",
              "\n",
              "<svg xmlns=\"http://www.w3.org/2000/svg\" height=\"24px\"viewBox=\"0 0 24 24\"\n",
              "     width=\"24px\">\n",
              "    <g>\n",
              "        <path d=\"M19 3H5c-1.1 0-2 .9-2 2v14c0 1.1.9 2 2 2h14c1.1 0 2-.9 2-2V5c0-1.1-.9-2-2-2zM9 17H7v-7h2v7zm4 0h-2V7h2v10zm4 0h-2v-4h2v4z\"/>\n",
              "    </g>\n",
              "</svg>\n",
              "  </button>\n",
              "\n",
              "<style>\n",
              "  .colab-df-quickchart {\n",
              "      --bg-color: #E8F0FE;\n",
              "      --fill-color: #1967D2;\n",
              "      --hover-bg-color: #E2EBFA;\n",
              "      --hover-fill-color: #174EA6;\n",
              "      --disabled-fill-color: #AAA;\n",
              "      --disabled-bg-color: #DDD;\n",
              "  }\n",
              "\n",
              "  [theme=dark] .colab-df-quickchart {\n",
              "      --bg-color: #3B4455;\n",
              "      --fill-color: #D2E3FC;\n",
              "      --hover-bg-color: #434B5C;\n",
              "      --hover-fill-color: #FFFFFF;\n",
              "      --disabled-bg-color: #3B4455;\n",
              "      --disabled-fill-color: #666;\n",
              "  }\n",
              "\n",
              "  .colab-df-quickchart {\n",
              "    background-color: var(--bg-color);\n",
              "    border: none;\n",
              "    border-radius: 50%;\n",
              "    cursor: pointer;\n",
              "    display: none;\n",
              "    fill: var(--fill-color);\n",
              "    height: 32px;\n",
              "    padding: 0;\n",
              "    width: 32px;\n",
              "  }\n",
              "\n",
              "  .colab-df-quickchart:hover {\n",
              "    background-color: var(--hover-bg-color);\n",
              "    box-shadow: 0 1px 2px rgba(60, 64, 67, 0.3), 0 1px 3px 1px rgba(60, 64, 67, 0.15);\n",
              "    fill: var(--button-hover-fill-color);\n",
              "  }\n",
              "\n",
              "  .colab-df-quickchart-complete:disabled,\n",
              "  .colab-df-quickchart-complete:disabled:hover {\n",
              "    background-color: var(--disabled-bg-color);\n",
              "    fill: var(--disabled-fill-color);\n",
              "    box-shadow: none;\n",
              "  }\n",
              "\n",
              "  .colab-df-spinner {\n",
              "    border: 2px solid var(--fill-color);\n",
              "    border-color: transparent;\n",
              "    border-bottom-color: var(--fill-color);\n",
              "    animation:\n",
              "      spin 1s steps(1) infinite;\n",
              "  }\n",
              "\n",
              "  @keyframes spin {\n",
              "    0% {\n",
              "      border-color: transparent;\n",
              "      border-bottom-color: var(--fill-color);\n",
              "      border-left-color: var(--fill-color);\n",
              "    }\n",
              "    20% {\n",
              "      border-color: transparent;\n",
              "      border-left-color: var(--fill-color);\n",
              "      border-top-color: var(--fill-color);\n",
              "    }\n",
              "    30% {\n",
              "      border-color: transparent;\n",
              "      border-left-color: var(--fill-color);\n",
              "      border-top-color: var(--fill-color);\n",
              "      border-right-color: var(--fill-color);\n",
              "    }\n",
              "    40% {\n",
              "      border-color: transparent;\n",
              "      border-right-color: var(--fill-color);\n",
              "      border-top-color: var(--fill-color);\n",
              "    }\n",
              "    60% {\n",
              "      border-color: transparent;\n",
              "      border-right-color: var(--fill-color);\n",
              "    }\n",
              "    80% {\n",
              "      border-color: transparent;\n",
              "      border-right-color: var(--fill-color);\n",
              "      border-bottom-color: var(--fill-color);\n",
              "    }\n",
              "    90% {\n",
              "      border-color: transparent;\n",
              "      border-bottom-color: var(--fill-color);\n",
              "    }\n",
              "  }\n",
              "</style>\n",
              "\n",
              "  <script>\n",
              "    async function quickchart(key) {\n",
              "      const quickchartButtonEl =\n",
              "        document.querySelector('#' + key + ' button');\n",
              "      quickchartButtonEl.disabled = true;  // To prevent multiple clicks.\n",
              "      quickchartButtonEl.classList.add('colab-df-spinner');\n",
              "      try {\n",
              "        const charts = await google.colab.kernel.invokeFunction(\n",
              "            'suggestCharts', [key], {});\n",
              "      } catch (error) {\n",
              "        console.error('Error during call to suggestCharts:', error);\n",
              "      }\n",
              "      quickchartButtonEl.classList.remove('colab-df-spinner');\n",
              "      quickchartButtonEl.classList.add('colab-df-quickchart-complete');\n",
              "    }\n",
              "    (() => {\n",
              "      let quickchartButtonEl =\n",
              "        document.querySelector('#df-8bd30345-2746-4f41-b8e0-ef21b90c678e button');\n",
              "      quickchartButtonEl.style.display =\n",
              "        google.colab.kernel.accessAllowed ? 'block' : 'none';\n",
              "    })();\n",
              "  </script>\n",
              "</div>\n",
              "    </div>\n",
              "  </div>\n"
            ],
            "application/vnd.google.colaboratory.intrinsic+json": {
              "type": "dataframe",
              "variable_name": "train",
              "summary": "{\n  \"name\": \"train\",\n  \"rows\": 35738,\n  \"fields\": [\n    {\n      \"column\": \"sentiment\",\n      \"properties\": {\n        \"dtype\": \"category\",\n        \"num_unique_values\": 2,\n        \"samples\": [\n          \"1\",\n          \"0\"\n        ],\n        \"semantic_type\": \"\",\n        \"description\": \"\"\n      }\n    },\n    {\n      \"column\": \"phrase\",\n      \"properties\": {\n        \"dtype\": \"string\",\n        \"num_unique_values\": 35738,\n        \"samples\": [\n          \"OH MY GOD!!!!!!!!!: AAAAAAAGH!!!!!.It haunts me in my sleep. Little strange people dorky girl.I wish I could put it in my microwave and bake it. AAAAAAAGH!!!!! I won't say another word.\",\n          \"McCaffrey, \\\"Smooth & Tropic\\\": Extremely original album! Lots of variety. A very \\\"international\\\", world album. Each track is unique.\"\n        ],\n        \"semantic_type\": \"\",\n        \"description\": \"\"\n      }\n    }\n  ]\n}"
            }
          },
          "metadata": {},
          "execution_count": 158
        }
      ],
      "source": [
        "train.head()"
      ],
      "id": "1ae66a64"
    },
    {
      "source": [
        "from matplotlib import pyplot as plt\n",
        "import seaborn as sns\n",
        "train.groupby('sentiment').size().plot(kind='barh', color=sns.palettes.mpl_palette('Dark2'))\n",
        "plt.gca().spines[['top', 'right',]].set_visible(False)"
      ],
      "cell_type": "code",
      "execution_count": null,
      "outputs": [
        {
          "output_type": "display_data",
          "data": {
            "text/plain": [
              "<Figure size 640x480 with 1 Axes>"
            ],
            "image/png": "[encoded data removed]"
          },
          "metadata": {}
        }
      ],
      "metadata": {
        "colab": {
          "base_uri": "https://localhost:8080/",
          "height": 430
        },
        "id": "Oigq0UZD9HaH",
        "outputId": "c54ae7e9-5a83-4e68-a7ab-0b0e367720f5"
      },
      "id": "Oigq0UZD9HaH"
    },
    {
      "cell_type": "code",
      "execution_count": null,
      "metadata": {
        "colab": {
          "base_uri": "https://localhost:8080/"
        },
        "id": "cdeb9afb",
        "outputId": "ea16d3c7-b979-4f2f-fa92-fa5b283e1060"
      },
      "outputs": [
        {
          "output_type": "execute_result",
          "data": {
            "text/plain": [
              "array(['0', '1'], dtype=object)"
            ]
          },
          "metadata": {},
          "execution_count": 160
        }
      ],
      "source": [
        "# Again 0 stands for negative, 1 means positive\n",
        "train['sentiment'].unique()"
      ],
      "id": "cdeb9afb"
    },
    {
      "cell_type": "code",
      "execution_count": null,
      "metadata": {
        "colab": {
          "base_uri": "https://localhost:8080/"
        },
        "id": "96VEGVYl_Q9c",
        "outputId": "e19ff31a-b986-4949-8a8f-512960d60690"
      },
      "outputs": [
        {
          "output_type": "stream",
          "name": "stdout",
          "text": [
            "0        0\n",
            "1        1\n",
            "2        0\n",
            "3        1\n",
            "4        0\n",
            "        ..\n",
            "35733    1\n",
            "35734    0\n",
            "35735    1\n",
            "35736    1\n",
            "35737    1\n",
            "Name: sentiment, Length: 35738, dtype: int64\n"
          ]
        }
      ],
      "source": [
        "# change target data type to float\n",
        "print(train['sentiment'].astype(int))"
      ],
      "id": "96VEGVYl_Q9c"
    },
    {
      "cell_type": "code",
      "execution_count": null,
      "metadata": {
        "colab": {
          "base_uri": "https://localhost:8080/"
        },
        "id": "61f49cd4",
        "scrolled": true,
        "outputId": "d7d94302-f3da-4e3f-ccfa-a30955954b97"
      },
      "outputs": [
        {
          "output_type": "execute_result",
          "data": {
            "text/plain": [
              "1    17914\n",
              "0    17824\n",
              "Name: sentiment, dtype: int64"
            ]
          },
          "metadata": {},
          "execution_count": 162
        }
      ],
      "source": [
        "train['sentiment'].value_counts()"
      ],
      "id": "61f49cd4"
    },
    {
      "cell_type": "code",
      "source": [
        "import re\n",
        "import random\n",
        "import pandas as pd\n",
        "\n",
        "# Probability threshold to read a line\n",
        "probability_threshold = 0.01\n",
        "\n",
        "# Initialize lists to store the separated sentiments and phrases\n",
        "sentiments = []\n",
        "phrases = []\n",
        "\n",
        "# Open the file and read line by line\n",
        "with open('/content/drive/MyDrive/Colab Notebooks/test.ft.txt', 'r', encoding='utf-8') as file:\n",
        "    for line in file:\n",
        "        # Randomly decide whether to process this line\n",
        "        if random.random() <= probability_threshold:\n",
        "            # Extract sentiment and phrase using regex\n",
        "            match = re.match(r'(__label__\\d) (.*)', line)\n",
        "            \"label_1 means negative (0); label_2 means positive(1)\"\n",
        "            if match:\n",
        "                sentiments.append(match.group(1).replace('__label__1', '0').replace('__label__2', '1'))\n",
        "                phrases.append(match.group(2))\n",
        "\n",
        "# Create a DataFrame from the lists\n",
        "test = pd.DataFrame({\n",
        "    'sentiment': sentiments,\n",
        "    'phrase': phrases\n",
        "})\n",
        "\n",
        "# Check the first few rows to ensure it's loaded correctly\n",
        "print(test.head())"
      ],
      "metadata": {
        "colab": {
          "base_uri": "https://localhost:8080/"
        },
        "id": "TFwdGk7uyYKl",
        "outputId": "26f88240-4dfa-4f89-b29b-bb25276120b5"
      },
      "id": "TFwdGk7uyYKl",
      "execution_count": null,
      "outputs": [
        {
          "output_type": "stream",
          "name": "stdout",
          "text": [
            "  sentiment                                             phrase\n",
            "0         0  ZERO stars... OMG I can't believe I even bothe...\n",
            "1         1  Chilbirth Education Video: Great videos!!!! I'...\n",
            "2         1  Fahrenheit 451: I read this book as a teenager...\n",
            "3         0  Warning. I HIGHLY don't recommend this set!: Y...\n",
            "4         0  Great movie butt o grainy on blueray: I like a...\n"
          ]
        }
      ]
    },
    {
      "cell_type": "code",
      "execution_count": null,
      "metadata": {
        "colab": {
          "base_uri": "https://localhost:8080/"
        },
        "id": "e005f7a9",
        "outputId": "f3b5fefa-52ab-4fba-e15d-68ad218fa86c"
      },
      "outputs": [
        {
          "output_type": "execute_result",
          "data": {
            "text/plain": [
              "(3880, 2)"
            ]
          },
          "metadata": {},
          "execution_count": 164
        }
      ],
      "source": [
        "test.shape"
      ],
      "id": "e005f7a9"
    },
    {
      "cell_type": "code",
      "execution_count": null,
      "metadata": {
        "colab": {
          "base_uri": "https://localhost:8080/",
          "height": 206
        },
        "id": "3395102e",
        "outputId": "7cfe2093-4a8b-4718-e487-019a47e8c0a6"
      },
      "outputs": [
        {
          "output_type": "execute_result",
          "data": {
            "text/plain": [
              "  sentiment                                             phrase\n",
              "0         0  ZERO stars... OMG I can't believe I even bothe...\n",
              "1         1  Chilbirth Education Video: Great videos!!!! I'...\n",
              "2         1  Fahrenheit 451: I read this book as a teenager...\n",
              "3         0  Warning. I HIGHLY don't recommend this set!: Y...\n",
              "4         0  Great movie butt o grainy on blueray: I like a..."
            ],
            "text/html": [
              "\n",
              "  <div id=\"df-31b34304-13c5-4350-9f36-a41e6ddd420a\" class=\"colab-df-container\">\n",
              "    <div>\n",
              "<style scoped>\n",
              "    .dataframe tbody tr th:only-of-type {\n",
              "        vertical-align: middle;\n",
              "    }\n",
              "\n",
              "    .dataframe tbody tr th {\n",
              "        vertical-align: top;\n",
              "    }\n",
              "\n",
              "    .dataframe thead th {\n",
              "        text-align: right;\n",
              "    }\n",
              "</style>\n",
              "<table border=\"1\" class=\"dataframe\">\n",
              "  <thead>\n",
              "    <tr style=\"text-align: right;\">\n",
              "      <th></th>\n",
              "      <th>sentiment</th>\n",
              "      <th>phrase</th>\n",
              "    </tr>\n",
              "  </thead>\n",
              "  <tbody>\n",
              "    <tr>\n",
              "      <th>0</th>\n",
              "      <td>0</td>\n",
              "      <td>ZERO stars... OMG I can't believe I even bothe...</td>\n",
              "    </tr>\n",
              "    <tr>\n",
              "      <th>1</th>\n",
              "      <td>1</td>\n",
              "      <td>Chilbirth Education Video: Great videos!!!! I'...</td>\n",
              "    </tr>\n",
              "    <tr>\n",
              "      <th>2</th>\n",
              "      <td>1</td>\n",
              "      <td>Fahrenheit 451: I read this book as a teenager...</td>\n",
              "    </tr>\n",
              "    <tr>\n",
              "      <th>3</th>\n",
              "      <td>0</td>\n",
              "      <td>Warning. I HIGHLY don't recommend this set!: Y...</td>\n",
              "    </tr>\n",
              "    <tr>\n",
              "      <th>4</th>\n",
              "      <td>0</td>\n",
              "      <td>Great movie butt o grainy on blueray: I like a...</td>\n",
              "    </tr>\n",
              "  </tbody>\n",
              "</table>\n",
              "</div>\n",
              "    <div class=\"colab-df-buttons\">\n",
              "\n",
              "  <div class=\"colab-df-container\">\n",
              "    <button class=\"colab-df-convert\" onclick=\"convertToInteractive('df-31b34304-13c5-4350-9f36-a41e6ddd420a')\"\n",
              "            title=\"Convert this dataframe to an interactive table.\"\n",
              "            style=\"display:none;\">\n",
              "\n",
              "  <svg xmlns=\"http://www.w3.org/2000/svg\" height=\"24px\" viewBox=\"0 -960 960 960\">\n",
              "    <path d=\"M120-120v-720h720v720H120Zm60-500h600v-160H180v160Zm220 220h160v-160H400v160Zm0 220h160v-160H400v160ZM180-400h160v-160H180v160Zm440 0h160v-160H620v160ZM180-180h160v-160H180v160Zm440 0h160v-160H620v160Z\"/>\n",
              "  </svg>\n",
              "    </button>\n",
              "\n",
              "  <style>\n",
              "    .colab-df-container {\n",
              "      display:flex;\n",
              "      gap: 12px;\n",
              "    }\n",
              "\n",
              "    .colab-df-convert {\n",
              "      background-color: #E8F0FE;\n",
              "      border: none;\n",
              "      border-radius: 50%;\n",
              "      cursor: pointer;\n",
              "      display: none;\n",
              "      fill: #1967D2;\n",
              "      height: 32px;\n",
              "      padding: 0 0 0 0;\n",
              "      width: 32px;\n",
              "    }\n",
              "\n",
              "    .colab-df-convert:hover {\n",
              "      background-color: #E2EBFA;\n",
              "      box-shadow: 0px 1px 2px rgba(60, 64, 67, 0.3), 0px 1px 3px 1px rgba(60, 64, 67, 0.15);\n",
              "      fill: #174EA6;\n",
              "    }\n",
              "\n",
              "    .colab-df-buttons div {\n",
              "      margin-bottom: 4px;\n",
              "    }\n",
              "\n",
              "    [theme=dark] .colab-df-convert {\n",
              "      background-color: #3B4455;\n",
              "      fill: #D2E3FC;\n",
              "    }\n",
              "\n",
              "    [theme=dark] .colab-df-convert:hover {\n",
              "      background-color: #434B5C;\n",
              "      box-shadow: 0px 1px 3px 1px rgba(0, 0, 0, 0.15);\n",
              "      filter: drop-shadow(0px 1px 2px rgba(0, 0, 0, 0.3));\n",
              "      fill: #FFFFFF;\n",
              "    }\n",
              "  </style>\n",
              "\n",
              "    <script>\n",
              "      const buttonEl =\n",
              "        document.querySelector('#df-31b34304-13c5-4350-9f36-a41e6ddd420a button.colab-df-convert');\n",
              "      buttonEl.style.display =\n",
              "        google.colab.kernel.accessAllowed ? 'block' : 'none';\n",
              "\n",
              "      async function convertToInteractive(key) {\n",
              "        const element = document.querySelector('#df-31b34304-13c5-4350-9f36-a41e6ddd420a');\n",
              "        const dataTable =\n",
              "          await google.colab.kernel.invokeFunction('convertToInteractive',\n",
              "                                                    [key], {});\n",
              "        if (!dataTable) return;\n",
              "\n",
              "        const docLinkHtml = 'Like what you see? Visit the ' +\n",
              "          '<a target=\"_blank\" href=https://colab.research.google.com/notebooks/data_table.ipynb>data table notebook</a>'\n",
              "          + ' to learn more about interactive tables.';\n",
              "        element.innerHTML = '';\n",
              "        dataTable['output_type'] = 'display_data';\n",
              "        await google.colab.output.renderOutput(dataTable, element);\n",
              "        const docLink = document.createElement('div');\n",
              "        docLink.innerHTML = docLinkHtml;\n",
              "        element.appendChild(docLink);\n",
              "      }\n",
              "    </script>\n",
              "  </div>\n",
              "\n",
              "\n",
              "<div id=\"df-8f4b48ec-d7fe-4be4-b096-2ed9bd672db9\">\n",
              "  <button class=\"colab-df-quickchart\" onclick=\"quickchart('df-8f4b48ec-d7fe-4be4-b096-2ed9bd672db9')\"\n",
              "            title=\"Suggest charts\"\n",
              "            style=\"display:none;\">\n",
              "\n",
              "<svg xmlns=\"http://www.w3.org/2000/svg\" height=\"24px\"viewBox=\"0 0 24 24\"\n",
              "     width=\"24px\">\n",
              "    <g>\n",
              "        <path d=\"M19 3H5c-1.1 0-2 .9-2 2v14c0 1.1.9 2 2 2h14c1.1 0 2-.9 2-2V5c0-1.1-.9-2-2-2zM9 17H7v-7h2v7zm4 0h-2V7h2v10zm4 0h-2v-4h2v4z\"/>\n",
              "    </g>\n",
              "</svg>\n",
              "  </button>\n",
              "\n",
              "<style>\n",
              "  .colab-df-quickchart {\n",
              "      --bg-color: #E8F0FE;\n",
              "      --fill-color: #1967D2;\n",
              "      --hover-bg-color: #E2EBFA;\n",
              "      --hover-fill-color: #174EA6;\n",
              "      --disabled-fill-color: #AAA;\n",
              "      --disabled-bg-color: #DDD;\n",
              "  }\n",
              "\n",
              "  [theme=dark] .colab-df-quickchart {\n",
              "      --bg-color: #3B4455;\n",
              "      --fill-color: #D2E3FC;\n",
              "      --hover-bg-color: #434B5C;\n",
              "      --hover-fill-color: #FFFFFF;\n",
              "      --disabled-bg-color: #3B4455;\n",
              "      --disabled-fill-color: #666;\n",
              "  }\n",
              "\n",
              "  .colab-df-quickchart {\n",
              "    background-color: var(--bg-color);\n",
              "    border: none;\n",
              "    border-radius: 50%;\n",
              "    cursor: pointer;\n",
              "    display: none;\n",
              "    fill: var(--fill-color);\n",
              "    height: 32px;\n",
              "    padding: 0;\n",
              "    width: 32px;\n",
              "  }\n",
              "\n",
              "  .colab-df-quickchart:hover {\n",
              "    background-color: var(--hover-bg-color);\n",
              "    box-shadow: 0 1px 2px rgba(60, 64, 67, 0.3), 0 1px 3px 1px rgba(60, 64, 67, 0.15);\n",
              "    fill: var(--button-hover-fill-color);\n",
              "  }\n",
              "\n",
              "  .colab-df-quickchart-complete:disabled,\n",
              "  .colab-df-quickchart-complete:disabled:hover {\n",
              "    background-color: var(--disabled-bg-color);\n",
              "    fill: var(--disabled-fill-color);\n",
              "    box-shadow: none;\n",
              "  }\n",
              "\n",
              "  .colab-df-spinner {\n",
              "    border: 2px solid var(--fill-color);\n",
              "    border-color: transparent;\n",
              "    border-bottom-color: var(--fill-color);\n",
              "    animation:\n",
              "      spin 1s steps(1) infinite;\n",
              "  }\n",
              "\n",
              "  @keyframes spin {\n",
              "    0% {\n",
              "      border-color: transparent;\n",
              "      border-bottom-color: var(--fill-color);\n",
              "      border-left-color: var(--fill-color);\n",
              "    }\n",
              "    20% {\n",
              "      border-color: transparent;\n",
              "      border-left-color: var(--fill-color);\n",
              "      border-top-color: var(--fill-color);\n",
              "    }\n",
              "    30% {\n",
              "      border-color: transparent;\n",
              "      border-left-color: var(--fill-color);\n",
              "      border-top-color: var(--fill-color);\n",
              "      border-right-color: var(--fill-color);\n",
              "    }\n",
              "    40% {\n",
              "      border-color: transparent;\n",
              "      border-right-color: var(--fill-color);\n",
              "      border-top-color: var(--fill-color);\n",
              "    }\n",
              "    60% {\n",
              "      border-color: transparent;\n",
              "      border-right-color: var(--fill-color);\n",
              "    }\n",
              "    80% {\n",
              "      border-color: transparent;\n",
              "      border-right-color: var(--fill-color);\n",
              "      border-bottom-color: var(--fill-color);\n",
              "    }\n",
              "    90% {\n",
              "      border-color: transparent;\n",
              "      border-bottom-color: var(--fill-color);\n",
              "    }\n",
              "  }\n",
              "</style>\n",
              "\n",
              "  <script>\n",
              "    async function quickchart(key) {\n",
              "      const quickchartButtonEl =\n",
              "        document.querySelector('#' + key + ' button');\n",
              "      quickchartButtonEl.disabled = true;  // To prevent multiple clicks.\n",
              "      quickchartButtonEl.classList.add('colab-df-spinner');\n",
              "      try {\n",
              "        const charts = await google.colab.kernel.invokeFunction(\n",
              "            'suggestCharts', [key], {});\n",
              "      } catch (error) {\n",
              "        console.error('Error during call to suggestCharts:', error);\n",
              "      }\n",
              "      quickchartButtonEl.classList.remove('colab-df-spinner');\n",
              "      quickchartButtonEl.classList.add('colab-df-quickchart-complete');\n",
              "    }\n",
              "    (() => {\n",
              "      let quickchartButtonEl =\n",
              "        document.querySelector('#df-8f4b48ec-d7fe-4be4-b096-2ed9bd672db9 button');\n",
              "      quickchartButtonEl.style.display =\n",
              "        google.colab.kernel.accessAllowed ? 'block' : 'none';\n",
              "    })();\n",
              "  </script>\n",
              "</div>\n",
              "    </div>\n",
              "  </div>\n"
            ],
            "application/vnd.google.colaboratory.intrinsic+json": {
              "type": "dataframe",
              "variable_name": "test",
              "summary": "{\n  \"name\": \"test\",\n  \"rows\": 3880,\n  \"fields\": [\n    {\n      \"column\": \"sentiment\",\n      \"properties\": {\n        \"dtype\": \"category\",\n        \"num_unique_values\": 2,\n        \"samples\": [\n          \"1\",\n          \"0\"\n        ],\n        \"semantic_type\": \"\",\n        \"description\": \"\"\n      }\n    },\n    {\n      \"column\": \"phrase\",\n      \"properties\": {\n        \"dtype\": \"string\",\n        \"num_unique_values\": 3880,\n        \"samples\": [\n          \"he just doesn't have the voice for it: the opening track is splendid, but don't be taken in - listen to a few more before you buy. the problem with this collection of covers from the 30s and 40s is that ferry just can't live up to the great singing legends who did them first time around. bryan ferry has always been seen as a bit of a crooner, but that's because he looks the part, and all of his songs were carefully crafted (or in the case of earlier cover albums completely reworked) to accommodate his rather strange and limited vocal range.\",\n          \"How in the world did this band ever slip through the cracks?: I bought this CD a few months ago based solely on reviews - never heard the music before (except \\\"Love will Tear Us Apart\\\") - that they were supposed to sound alot like New Order. After the first listen I determined yeah, they do sound a little like New Order - except better and immediatley became my \\\"most treasured\\\" CD. These guys were so far ahead of thier time (probably the only reason they never got any recognition in 1978-1980) the material still sounds fresher than 90% of the stuff released in the past 4 years. I haven't heard any of their other CDs yet, and wonder how \\\"Closer\\\" and \\\"Unknown Pleasures\\\" stacks up musically to \\\"Substance\\\". We'll see ...\"\n        ],\n        \"semantic_type\": \"\",\n        \"description\": \"\"\n      }\n    }\n  ]\n}"
            }
          },
          "metadata": {},
          "execution_count": 165
        }
      ],
      "source": [
        "test.head()"
      ],
      "id": "3395102e"
    },
    {
      "source": [
        "from matplotlib import pyplot as plt\n",
        "import seaborn as sns\n",
        "test.groupby('sentiment').size().plot(kind='barh', color=sns.palettes.mpl_palette('Dark2'))\n",
        "plt.gca().spines[['top', 'right',]].set_visible(False)"
      ],
      "cell_type": "code",
      "execution_count": null,
      "outputs": [
        {
          "output_type": "display_data",
          "data": {
            "text/plain": [
              "<Figure size 640x480 with 1 Axes>"
            ],
            "image/png": "[encoded data removed]"
          },
          "metadata": {}
        }
      ],
      "metadata": {
        "colab": {
          "base_uri": "https://localhost:8080/",
          "height": 430
        },
        "id": "rfK8I4aN9ARS",
        "outputId": "a1f962a2-0c60-4d9d-bb49-2c4d6ae7b5bd"
      },
      "id": "rfK8I4aN9ARS"
    },
    {
      "cell_type": "code",
      "execution_count": null,
      "metadata": {
        "colab": {
          "base_uri": "https://localhost:8080/"
        },
        "id": "7db0503e",
        "outputId": "ce24d1f7-b88b-4025-813c-7e65e18020b4"
      },
      "outputs": [
        {
          "output_type": "execute_result",
          "data": {
            "text/plain": [
              "array(['0', '1'], dtype=object)"
            ]
          },
          "metadata": {},
          "execution_count": 166
        }
      ],
      "source": [
        "test['sentiment'].unique()"
      ],
      "id": "7db0503e"
    },
    {
      "cell_type": "code",
      "execution_count": null,
      "metadata": {
        "colab": {
          "base_uri": "https://localhost:8080/"
        },
        "id": "i04aexPE--Jn",
        "outputId": "32aaebf1-c36b-4b95-8f70-2a12fdf8bfd2"
      },
      "outputs": [
        {
          "output_type": "stream",
          "name": "stdout",
          "text": [
            "0       0\n",
            "1       1\n",
            "2       1\n",
            "3       0\n",
            "4       0\n",
            "       ..\n",
            "3875    0\n",
            "3876    1\n",
            "3877    0\n",
            "3878    1\n",
            "3879    0\n",
            "Name: sentiment, Length: 3880, dtype: int64\n"
          ]
        }
      ],
      "source": [
        "print(test['sentiment'].astype(int))"
      ],
      "id": "i04aexPE--Jn"
    },
    {
      "cell_type": "code",
      "execution_count": null,
      "metadata": {
        "colab": {
          "base_uri": "https://localhost:8080/"
        },
        "id": "8SxZUq5Cu0mH",
        "outputId": "59418297-9084-4bea-a900-f71593f63be3"
      },
      "outputs": [
        {
          "output_type": "execute_result",
          "data": {
            "text/plain": [
              "0    2001\n",
              "1    1879\n",
              "Name: sentiment, dtype: int64"
            ]
          },
          "metadata": {},
          "execution_count": 168
        }
      ],
      "source": [
        "test['sentiment'].value_counts()"
      ],
      "id": "8SxZUq5Cu0mH"
    },
    {
      "cell_type": "markdown",
      "metadata": {
        "id": "3e00e849"
      },
      "source": [
        "## 3. Preparing the Dataset and Dataloader"
      ],
      "id": "3e00e849"
    },
    {
      "cell_type": "markdown",
      "metadata": {
        "id": "UvEkM0KrW-XK"
      },
      "source": [
        "This code defines a custom dataset class named SentimentData, intended for sentiment analysis tasks. It is designed to be used with PyTorch's Dataset interface, which requires implementing the __init__, __len__, and __getitem__ methods. Here's a quick breakdown:\n",
        "\n",
        "Initialization (__init__ method): The constructor takes three arguments:\n",
        "\n",
        "dataframe: A Pandas DataFrame containing the dataset. The dataframe is expected to have at least two columns: one for the text data (phrase) and another for the sentiment labels (sentiment).\n",
        "tokenizer: A tokenizer that is used to convert text into a format suitable for model training (token IDs, masks, etc.). This tokenizer is typically pre-trained (e.g., part of a BERT or RoBERTa model).\n",
        "max_len: The maximum length of the tokenized sequences. If not specified, a default value MAX_LEN is used. This is to ensure uniform sequence lengths for batching purposes.\n",
        "Length (__len__ method): This method returns the number of items in the dataset (i.e., the number of rows in the dataframe).\n",
        "\n",
        "Get Item (__getitem__ method): This method retrieves a single data point from the dataset. It takes an index and returns a dictionary containing the tokenized text, its attention mask, token type ids (if applicable), and the target label. The process is as follows:\n",
        "\n",
        "The text at the specified index is cleaned (extra spaces removed) and then tokenized using the provided tokenizer. The encode_plus method of the tokenizer is used to perform tokenization, which also generates the necessary attention mask and token type IDs for the text.\n",
        "The method applies padding to ensure the tokenized text has a uniform length (max_len) and truncates texts that exceed this length.\n",
        "The token type IDs are included for models that require them, but if not provided by the tokenizer, a default list of zeros is used.\n",
        "The method returns a dictionary with the tokenized input (ids), the attention mask (mask), token type IDs (token_type_ids), and the sentiment label (targets) for the given index. Each item in the dictionary is converted to a PyTorch tensor with the appropriate data type (torch.long).\n",
        "This class is tailored for sentiment analysis, converting raw text and labels from a dataframe into a format suitable for training transformer-based models, such as BERT or RoBERTa, on sentiment classification tasks."
      ],
      "id": "UvEkM0KrW-XK"
    },
    {
      "cell_type": "code",
      "execution_count": null,
      "metadata": {
        "id": "c0e1d454"
      },
      "outputs": [],
      "source": [
        "# Defining some key variables that will be used later on in the training\n",
        "MAX_LEN = 256\n",
        "TRAIN_BATCH_SIZE = 8\n",
        "VALID_BATCH_SIZE = 4\n",
        "# EPOCHS = 1\n",
        "LEARNING_RATE = 1e-05 # increase learning rate from 1e-05\n",
        "tokenizer = RobertaTokenizer.from_pretrained('roberta-base', truncation=True, do_lower_case=True)"
      ],
      "id": "c0e1d454"
    },
    {
      "cell_type": "code",
      "execution_count": null,
      "metadata": {
        "id": "ec4266dd"
      },
      "outputs": [],
      "source": [
        "class SentimentData(Dataset):\n",
        "    def __init__(self, dataframe, tokenizer, max_len=MAX_LEN):\n",
        "        self.tokenizer = tokenizer\n",
        "        self.data = dataframe\n",
        "        self.text = dataframe.phrase\n",
        "        # Ensure targets are integers for CrossEntropyLoss compatibility\n",
        "        self.targets = dataframe.sentiment.astype(int)  # Changed from float to int\n",
        "        self.max_len = max_len\n",
        "\n",
        "    def __len__(self):\n",
        "        return len(self.text)\n",
        "\n",
        "    def __getitem__(self, index):\n",
        "        text = str(self.text[index])\n",
        "        text = \" \".join(text.split())\n",
        "\n",
        "        \"\"\" tokenize preparing text data for input into\n",
        "        a transformer-based model RoBERTa\"\"\"\n",
        "\n",
        "        inputs = self.tokenizer.encode_plus(\n",
        "            text,\n",
        "            None,\n",
        "            add_special_tokens=True,\n",
        "            max_length=self.max_len,\n",
        "            padding=\"max_length\",\n",
        "            truncation=True,\n",
        "            return_token_type_ids=True\n",
        "        )\n",
        "        ids = inputs['input_ids']\n",
        "        mask = inputs['attention_mask']\n",
        "        token_type_ids = inputs.get(\"token_type_ids\", [0] * len(ids))\n",
        "\n",
        "        return {\n",
        "            'ids': torch.tensor(ids, dtype=torch.long),\n",
        "            'mask': torch.tensor(mask, dtype=torch.long),\n",
        "            'token_type_ids': torch.tensor(token_type_ids, dtype=torch.long),\n",
        "            'targets': torch.tensor(self.targets[index], dtype=torch.long)\n",
        "        }\n"
      ],
      "id": "ec4266dd"
    },
    {
      "cell_type": "code",
      "execution_count": null,
      "metadata": {
        "id": "18d91d71",
        "colab": {
          "base_uri": "https://localhost:8080/"
        },
        "outputId": "20cdcb54-d449-4406-a80d-55d3971a9b01"
      },
      "outputs": [
        {
          "output_type": "stream",
          "name": "stdout",
          "text": [
            "TRAIN Dataset: (35738, 2)\n",
            "TEST Dataset: (3880, 2)\n"
          ]
        }
      ],
      "source": [
        "import pandas as pd\n",
        "import numpy as np\n",
        "\n",
        "train_data = train\n",
        "test_data=test\n",
        "\n",
        "print(\"TRAIN Dataset: {}\".format(train_data.shape))\n",
        "print(\"TEST Dataset: {}\".format(test_data.shape))\n",
        "\n",
        "training_set = SentimentData(train_data, tokenizer, MAX_LEN)\n",
        "testing_set = SentimentData(test_data, tokenizer, MAX_LEN)"
      ],
      "id": "18d91d71"
    },
    {
      "cell_type": "code",
      "execution_count": null,
      "metadata": {
        "id": "66ff360a"
      },
      "outputs": [],
      "source": [
        "train_params = {'batch_size': TRAIN_BATCH_SIZE,\n",
        "                'shuffle': True,\n",
        "                'num_workers': 0\n",
        "                }\n",
        "\n",
        "test_params = {'batch_size': VALID_BATCH_SIZE,\n",
        "                'shuffle': True,\n",
        "                'num_workers': 0\n",
        "                }\n",
        "\n",
        "training_loader = DataLoader(training_set, **train_params)\n",
        "testing_loader = DataLoader(testing_set, **test_params)"
      ],
      "id": "66ff360a"
    },
    {
      "cell_type": "markdown",
      "metadata": {
        "id": "99d0d612"
      },
      "source": [
        "## 4 Creating the Neural Network for Fine Tuning"
      ],
      "id": "99d0d612"
    },
    {
      "cell_type": "code",
      "execution_count": null,
      "metadata": {
        "id": "c9lQLZuMgU07"
      },
      "outputs": [],
      "source": [
        "import torch\n",
        "from transformers import RobertaModel, RobertaConfig\n",
        "\n",
        "class RobertaClass(torch.nn.Module):\n",
        "    def __init__(self):\n",
        "        super(RobertaClass, self).__init__()\n",
        "        config = RobertaConfig.from_pretrained(\"roberta-base\")\n",
        "        self.roberta = RobertaModel.from_pretrained(\"roberta-base\", config=config)\n",
        "\n",
        "        # Adjusted the classifier head dimensions\n",
        "        self.pre_classifier = torch.nn.Linear(config.hidden_size, 512)  # Reduced layer size\n",
        "        self.dropout = torch.nn.Dropout(0.1)  # Increased dropout rate to prevent overfitting\n",
        "        self.classifier = torch.nn.Linear(512, 2)  # Adjusted for binary classification\n",
        "\n",
        "    def forward(self, input_ids, attention_mask):\n",
        "        # Extract outputs from the transformer\n",
        "        outputs = self.roberta(input_ids=input_ids, attention_mask=attention_mask)\n",
        "\n",
        "        # Use the representation of the first token ([CLS]) for classification\n",
        "        cls_token_state = outputs[0][:, 0, :]\n",
        "\n",
        "        # Process through the pre-classifier and classifier layers\n",
        "        x = self.pre_classifier(cls_token_state)\n",
        "        x = torch.nn.ReLU()(x)\n",
        "        x = self.dropout(x)\n",
        "        logits = self.classifier(x)\n",
        "\n",
        "        return logits\n"
      ],
      "id": "c9lQLZuMgU07"
    },
    {
      "cell_type": "code",
      "source": [
        "\"\"\"class RobertaClass(torch.nn.Module):\n",
        "    def __init__(self):\n",
        "        super(RobertaClass, self).__init__()\n",
        "        config = RobertaConfig.from_pretrained(\"roberta-base\")\n",
        "        self.roberta = RobertaModel.from_pretrained(\"roberta-base\")\n",
        "\n",
        "        # Simplified architecture\n",
        "        self.classifier = torch.nn.Linear(config.hidden_size, 2)  # Directly to classification\n",
        "\n",
        "    def forward(self, input_ids, attention_mask):\n",
        "        outputs = self.roberta(input_ids=input_ids, attention_mask=attention_mask)\n",
        "        cls_token_state = outputs[0][:, 0, :]  # Use the [CLS] token's representation\n",
        "\n",
        "        # Directly classify from [CLS] token without additional layers\n",
        "        logits = self.classifier(cls_token_state)\n",
        "\n",
        "        return logits\"\"\"\n"
      ],
      "metadata": {
        "id": "SIVH-Joh_R9G"
      },
      "id": "SIVH-Joh_R9G",
      "execution_count": null,
      "outputs": []
    },
    {
      "cell_type": "code",
      "execution_count": null,
      "metadata": {
        "id": "4beebeaf",
        "colab": {
          "base_uri": "https://localhost:8080/"
        },
        "outputId": "27eb57d9-701b-413d-e483-17fddd4e8c32"
      },
      "outputs": [
        {
          "output_type": "stream",
          "name": "stderr",
          "text": [
            "Some weights of RobertaModel were not initialized from the model checkpoint at roberta-base and are newly initialized: ['roberta.pooler.dense.bias', 'roberta.pooler.dense.weight']\n",
            "You should probably TRAIN this model on a down-stream task to be able to use it for predictions and inference.\n"
          ]
        },
        {
          "output_type": "execute_result",
          "data": {
            "text/plain": [
              "RobertaClass(\n",
              "  (roberta): RobertaModel(\n",
              "    (embeddings): RobertaEmbeddings(\n",
              "      (word_embeddings): Embedding(50265, 768, padding_idx=1)\n",
              "      (position_embeddings): Embedding(514, 768, padding_idx=1)\n",
              "      (token_type_embeddings): Embedding(1, 768)\n",
              "      (LayerNorm): LayerNorm((768,), eps=1e-05, elementwise_affine=True)\n",
              "      (dropout): Dropout(p=0.1, inplace=False)\n",
              "    )\n",
              "    (encoder): RobertaEncoder(\n",
              "      (layer): ModuleList(\n",
              "        (0-11): 12 x RobertaLayer(\n",
              "          (attention): RobertaAttention(\n",
              "            (self): RobertaSelfAttention(\n",
              "              (query): Linear(in_features=768, out_features=768, bias=True)\n",
              "              (key): Linear(in_features=768, out_features=768, bias=True)\n",
              "              (value): Linear(in_features=768, out_features=768, bias=True)\n",
              "              (dropout): Dropout(p=0.1, inplace=False)\n",
              "            )\n",
              "            (output): RobertaSelfOutput(\n",
              "              (dense): Linear(in_features=768, out_features=768, bias=True)\n",
              "              (LayerNorm): LayerNorm((768,), eps=1e-05, elementwise_affine=True)\n",
              "              (dropout): Dropout(p=0.1, inplace=False)\n",
              "            )\n",
              "          )\n",
              "          (intermediate): RobertaIntermediate(\n",
              "            (dense): Linear(in_features=768, out_features=3072, bias=True)\n",
              "            (intermediate_act_fn): GELUActivation()\n",
              "          )\n",
              "          (output): RobertaOutput(\n",
              "            (dense): Linear(in_features=3072, out_features=768, bias=True)\n",
              "            (LayerNorm): LayerNorm((768,), eps=1e-05, elementwise_affine=True)\n",
              "            (dropout): Dropout(p=0.1, inplace=False)\n",
              "          )\n",
              "        )\n",
              "      )\n",
              "    )\n",
              "    (pooler): RobertaPooler(\n",
              "      (dense): Linear(in_features=768, out_features=768, bias=True)\n",
              "      (activation): Tanh()\n",
              "    )\n",
              "  )\n",
              "  (pre_classifier): Linear(in_features=768, out_features=512, bias=True)\n",
              "  (dropout): Dropout(p=0.1, inplace=False)\n",
              "  (classifier): Linear(in_features=512, out_features=2, bias=True)\n",
              ")"
            ]
          },
          "metadata": {},
          "execution_count": 176
        }
      ],
      "source": [
        "model = RobertaClass()\n",
        "model.to(device)"
      ],
      "id": "4beebeaf"
    },
    {
      "cell_type": "code",
      "execution_count": null,
      "metadata": {
        "id": "af83de94"
      },
      "outputs": [],
      "source": [
        "# 5. Fine tune the model\n",
        "\n",
        "# Creating the loss function and optimizer\n",
        "loss_function = torch.nn.CrossEntropyLoss()\n",
        "optimizer = torch.optim.Adam(params =  model.parameters(), lr=LEARNING_RATE)"
      ],
      "id": "af83de94"
    },
    {
      "cell_type": "code",
      "execution_count": null,
      "metadata": {
        "id": "_jjOFZOEjdW4"
      },
      "outputs": [],
      "source": [
        "def calculate_accuracy(preds, targets):\n",
        "    # Assuming preds and targets are tensors. Converts predictions to the same shape as targets, if necessary.\n",
        "    if preds.shape != targets.shape:\n",
        "        preds = preds.argmax(dim=1)\n",
        "\n",
        "    # Calculate the number of correctly predicted examples.\n",
        "    n_correct = (preds == targets).sum().item()\n",
        "\n",
        "    # Calculate the accuracy: correct predictions / total examples\n",
        "    accuracy = n_correct / targets.size(0)  # Assuming targets is a tensor that has the total number of examples as its size.\n",
        "\n",
        "    return accuracy"
      ],
      "id": "_jjOFZOEjdW4"
    },
    {
      "cell_type": "code",
      "execution_count": null,
      "metadata": {
        "id": "t3MTNfVHlH6n"
      },
      "outputs": [],
      "source": [
        "import torch\n",
        "\n",
        "# Sample predictions and targets for testing\n",
        "preds = torch.tensor([[0.2, 0.8], [0.9, 0.1]], device='cuda:0')  # Example predictions on a CUDA device\n",
        "targets = torch.tensor([1, 0], device='cuda:0')  # Corresponding targets on the same CUDA device\n"
      ],
      "id": "t3MTNfVHlH6n"
    },
    {
      "cell_type": "code",
      "execution_count": null,
      "metadata": {
        "id": "EUTZaPEGj1f5",
        "colab": {
          "base_uri": "https://localhost:8080/"
        },
        "outputId": "250637d9-f03f-4478-c65d-3b1c8ea6148d"
      },
      "outputs": [
        {
          "output_type": "stream",
          "name": "stdout",
          "text": [
            "cuda:0 cuda:0\n"
          ]
        }
      ],
      "source": [
        "print(preds.device, targets.device)"
      ],
      "id": "EUTZaPEGj1f5"
    },
    {
      "cell_type": "code",
      "execution_count": null,
      "metadata": {
        "id": "_g86I7YqkJJu",
        "colab": {
          "base_uri": "https://localhost:8080/"
        },
        "outputId": "892dfac3-1d08-41be-b72a-fd738e2fa57b"
      },
      "outputs": [
        {
          "output_type": "stream",
          "name": "stdout",
          "text": [
            "torch.Size([2, 2]) torch.Size([2])\n"
          ]
        }
      ],
      "source": [
        "print(preds.shape, targets.shape)"
      ],
      "id": "_g86I7YqkJJu"
    },
    {
      "cell_type": "code",
      "execution_count": null,
      "metadata": {
        "id": "qqFxHz_-lmH1"
      },
      "outputs": [],
      "source": [
        "model = model.to('cuda:0')  # Move model to the same device as your tensors"
      ],
      "id": "qqFxHz_-lmH1"
    },
    {
      "cell_type": "code",
      "execution_count": null,
      "metadata": {
        "id": "2370e4ce"
      },
      "outputs": [],
      "source": [
        "from tqdm import tqdm\n",
        "\n",
        "def train(epoch):\n",
        "    tr_loss = 0\n",
        "    n_correct = 0\n",
        "    nb_tr_steps = 0\n",
        "    nb_tr_examples = 0\n",
        "    model.train()\n",
        "    for _, data in tqdm(enumerate(training_loader, 0)):\n",
        "        ids = data['ids'].to(device, dtype=torch.long)\n",
        "        mask = data['mask'].to(device, dtype=torch.long)\n",
        "        token_type_ids = data['token_type_ids'].to(device, dtype=torch.long)\n",
        "        targets = data['targets'].to(device, dtype=torch.long)  # Ensure targets are class indices\n",
        "        outputs = model(ids, attention_mask=mask, token_type_ids=token_type_ids)[0]  # Adjust based on your model's output\n",
        "        loss = loss_function(outputs, targets)\n",
        "        tr_loss += loss.item()\n",
        "        big_val, big_idx = torch.max(outputs.data, dim=1)\n",
        "        n_correct += (big_idx == targets).sum().item()\n",
        "\n",
        "        nb_tr_steps += 1\n",
        "        nb_tr_examples += targets.size(0)\n",
        "\n",
        "        if _ % 5000 == 0:\n",
        "            loss_step = tr_loss / nb_tr_steps\n",
        "            accu_step = (n_correct * 100) / nb_tr_examples\n",
        "            print(f\"Training Loss per 5000 steps: {loss_step}\")\n",
        "            print(f\"Training Accuracy per 5000 steps: {accu_step}\")\n",
        "\n",
        "        optimizer.zero_grad()\n",
        "        loss.backward()\n",
        "        optimizer.step()\n",
        "        print(f'The Total Accuracy for Epoch {epoch}: {(n_correct * 100) / nb_tr_examples}')\n",
        "        epoch_loss = tr_loss / nb_tr_steps\n",
        "        epoch_accu = (n_correct * 100) / nb_tr_examples\n",
        "        print(f\"Training Loss Epoch: {epoch_loss}\")\n",
        "        print(f\"Training Accuracy Epoch: {epoch_accu}\")\n",
        "\n"
      ],
      "id": "2370e4ce"
    },
    {
      "cell_type": "code",
      "execution_count": null,
      "metadata": {
        "id": "yUChyEQDnuvc"
      },
      "outputs": [],
      "source": [
        "# Issue with n_correct variable is defined inside a function or loop and I'm\n",
        "# trying to access it outside that scope, or if the code that defines the variable hasn't been executed before the print statement."
      ],
      "id": "yUChyEQDnuvc"
    },
    {
      "cell_type": "code",
      "execution_count": null,
      "metadata": {
        "id": "tyI--2tQmwPw",
        "colab": {
          "base_uri": "https://localhost:8080/"
        },
        "outputId": "d9452987-7f56-43a4-cebe-57affc002204"
      },
      "outputs": [
        {
          "output_type": "stream",
          "name": "stdout",
          "text": [
            "The Total Accuracy for Epoch 1: 100.0\n"
          ]
        }
      ],
      "source": [
        "def train(epoch):\n",
        "    n_correct = 0\n",
        "    nb_tr_examples = 0\n",
        "    model.train()  # Set your model to training mode\n",
        "\n",
        "    for _, data in enumerate(training_loader):\n",
        "        # Your data loading and model forward pass logic here\n",
        "        # For example: outputs = model(inputs)\n",
        "\n",
        "        # Example update of 'n_correct' and 'nb_tr_examples'\n",
        "        # Here, 'outputs' would be your model predictions, and 'labels' your ground truth\n",
        "        # preds = outputs.argmax(dim=1)  # Assuming outputs are raw logits\n",
        "\n",
        "        # Dummy values for demonstration; replace with your actual logic\n",
        "        preds = torch.tensor([0, 1])  # Example predictions\n",
        "        labels = torch.tensor([0, 1])  # Example ground truth\n",
        "\n",
        "        n_correct += (preds == labels).sum().item()\n",
        "        nb_tr_examples += labels.size(0)\n",
        "\n",
        "    # Now 'n_correct' and 'nb_tr_examples' are defined and can be used\n",
        "    print(f'The Total Accuracy for Epoch {epoch}: {(n_correct * 100) / nb_tr_examples}')\n",
        "\n",
        "# Example call to the train function\n",
        "train(epoch=1)\n"
      ],
      "id": "tyI--2tQmwPw"
    },
    {
      "cell_type": "code",
      "execution_count": null,
      "metadata": {
        "id": "999957bc"
      },
      "outputs": [],
      "source": [
        "# 6. Validating the model"
      ],
      "id": "999957bc"
    },
    {
      "cell_type": "code",
      "execution_count": null,
      "metadata": {
        "id": "37a5cffe"
      },
      "outputs": [],
      "source": [
        "def valid(model, testing_loader):\n",
        "    model.eval()\n",
        "    n_correct = 0; n_wrong = 0; total = 0; tr_loss = 0; nb_tr_steps = 0; nb_tr_examples = 0\n",
        "    with torch.no_grad():\n",
        "        for _, data in tqdm(enumerate(testing_loader, 0)):\n",
        "            ids = data['ids'].to(device, dtype=torch.long)\n",
        "            mask = data['mask'].to(device, dtype=torch.long)\n",
        "            # Removed token_type_ids from the data loading as it's not used in the model's forward method\n",
        "            targets = data['targets'].to(device, dtype=torch.long)\n",
        "            outputs = model(ids, mask).squeeze()  # Adjusted the model call here\n",
        "            loss = loss_function(outputs, targets)\n",
        "            tr_loss += loss.item()\n",
        "            big_val, big_idx = torch.max(outputs.data, dim=1)\n",
        "            n_correct += (big_idx == targets).sum().item()\n",
        "\n",
        "            nb_tr_steps += 1\n",
        "            nb_tr_examples += targets.size(0)\n",
        "\n",
        "            if _ % 5000 == 0:\n",
        "                loss_step = tr_loss / nb_tr_steps\n",
        "                accu_step = (n_correct * 100) / nb_tr_examples\n",
        "                print(f\"Validation Loss per 100 steps: {loss_step}\")\n",
        "                print(f\"Validation Accuracy per 100 steps: {accu_step}\")\n",
        "\n",
        "    epoch_loss = tr_loss / nb_tr_steps\n",
        "    epoch_accu = (n_correct * 100) / nb_tr_examples\n",
        "    print(f\"Validation Loss Epoch: {epoch_loss}\")\n",
        "    print(f\"Validation Accuracy Epoch: {epoch_accu}\")\n",
        "\n",
        "    return epoch_accu\n"
      ],
      "id": "37a5cffe"
    },
    {
      "cell_type": "code",
      "execution_count": null,
      "metadata": {
        "id": "1a4ba346",
        "colab": {
          "base_uri": "https://localhost:8080/"
        },
        "outputId": "a8126238-ee10-4924-ac7d-a3c7f626af7e"
      },
      "outputs": [
        {
          "output_type": "stream",
          "name": "stderr",
          "text": [
            "9it [00:00, 40.13it/s]"
          ]
        },
        {
          "output_type": "stream",
          "name": "stdout",
          "text": [
            "Validation Loss per 100 steps: 0.6944535970687866\n",
            "Validation Accuracy per 100 steps: 50.0\n"
          ]
        },
        {
          "output_type": "stream",
          "name": "stderr",
          "text": [
            "970it [00:22, 43.46it/s]"
          ]
        },
        {
          "output_type": "stream",
          "name": "stdout",
          "text": [
            "Validation Loss Epoch: 0.6963292408849775\n",
            "Validation Accuracy Epoch: 48.42783505154639\n",
            "Accuracy on test data = 48.43%\n"
          ]
        },
        {
          "output_type": "stream",
          "name": "stderr",
          "text": [
            "\n"
          ]
        }
      ],
      "source": [
        "acc = valid(model, testing_loader)\n",
        "print(\"Accuracy on test data = %0.2f%%\" % acc)"
      ],
      "id": "1a4ba346"
    },
    {
      "cell_type": "code",
      "execution_count": null,
      "metadata": {
        "id": "90c3a4a1"
      },
      "outputs": [],
      "source": [
        "# 7. Saving the Trained Model Artifacts for inference"
      ],
      "id": "90c3a4a1"
    },
    {
      "cell_type": "code",
      "execution_count": null,
      "metadata": {
        "id": "56bf38ba"
      },
      "outputs": [],
      "source": [
        "output_model_file = 'pytorch_roberta_sentiment.bin'\n",
        "output_vocab_file = './'\n",
        "\n",
        "model_to_save = model\n",
        "torch.save(model_to_save, output_model_file)\n",
        "tokenizer.save_vocabulary(output_vocab_file)\n",
        "\n",
        "print('All files saved')\n"
      ],
      "id": "56bf38ba"
    },
    {
      "cell_type": "code",
      "execution_count": null,
      "metadata": {
        "id": "e060fe4e"
      },
      "outputs": [],
      "source": [],
      "id": "e060fe4e"
    },
    {
      "cell_type": "code",
      "execution_count": null,
      "metadata": {
        "id": "7264a061"
      },
      "outputs": [],
      "source": [],
      "id": "7264a061"
    },
    {
      "cell_type": "code",
      "execution_count": null,
      "metadata": {
        "id": "abe55f8d"
      },
      "outputs": [],
      "source": [],
      "id": "abe55f8d"
    },
    {
      "cell_type": "code",
      "execution_count": null,
      "metadata": {
        "id": "5fc13bac"
      },
      "outputs": [],
      "source": [],
      "id": "5fc13bac"
    },
    {
      "cell_type": "code",
      "execution_count": null,
      "metadata": {
        "id": "ec29bd67"
      },
      "outputs": [],
      "source": [],
      "id": "ec29bd67"
    },
    {
      "cell_type": "code",
      "execution_count": null,
      "metadata": {
        "id": "4bf203bf"
      },
      "outputs": [],
      "source": [],
      "id": "4bf203bf"
    }
  ],
  "metadata": {
    "accelerator": "GPU",
    "colab": {
      "gpuType": "V100",
      "machine_shape": "hm",
      "provenance": [],
      "include_colab_link": true
    },
    "kernelspec": {
      "display_name": "Python 3",
      "name": "python3"
    },
    "language_info": {
      "codemirror_mode": {
        "name": "ipython",
        "version": 3
      },
      "file_extension": ".py",
      "mimetype": "text/x-python",
      "name": "python",
      "nbconvert_exporter": "python",
      "pygments_lexer": "ipython3",
      "version": "3.9.18"
    }
  },
  "nbformat": 4,
  "nbformat_minor": 5
}