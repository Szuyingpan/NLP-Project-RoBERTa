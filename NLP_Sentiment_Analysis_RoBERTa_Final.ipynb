{
  "nbformat": 4,
  "nbformat_minor": 0,
  "metadata": {
    "colab": {
      "provenance": [],
      "gpuType": "V100",
      "authorship_tag": "ABX9TyOJkqzVpuX2Yxs8J26L0B7U",
      "include_colab_link": true
    },
    "kernelspec": {
      "name": "python3",
      "display_name": "Python 3"
    },
    "language_info": {
      "name": "python"
    },
    "widgets": {
      "application/vnd.jupyter.widget-state+json": {
        "0358177d369e42fdb008106b86eaa971": {
          "model_module": "@jupyter-widgets/controls",
          "model_name": "HBoxModel",
          "model_module_version": "1.5.0",
          "state": {
            "_dom_classes": [],
            "_model_module": "@jupyter-widgets/controls",
            "_model_module_version": "1.5.0",
            "_model_name": "HBoxModel",
            "_view_count": null,
            "_view_module": "@jupyter-widgets/controls",
            "_view_module_version": "1.5.0",
            "_view_name": "HBoxView",
            "box_style": "",
            "children": [
              "IPY_MODEL_20981d1180b74751a368b024c6899d7c",
              "IPY_MODEL_c54d8e829d574986a02bfb14ce2500fd",
              "IPY_MODEL_033ff9d0d08d461898391909914053b6"
            ],
            "layout": "IPY_MODEL_3e2b6163eebb4b45a369e912139dc993"
          }
        },
        "20981d1180b74751a368b024c6899d7c": {
          "model_module": "@jupyter-widgets/controls",
          "model_name": "HTMLModel",
          "model_module_version": "1.5.0",
          "state": {
            "_dom_classes": [],
            "_model_module": "@jupyter-widgets/controls",
            "_model_module_version": "1.5.0",
            "_model_name": "HTMLModel",
            "_view_count": null,
            "_view_module": "@jupyter-widgets/controls",
            "_view_module_version": "1.5.0",
            "_view_name": "HTMLView",
            "description": "",
            "description_tooltip": null,
            "layout": "IPY_MODEL_314e6974057b4d0abb61cd5c75fa63fe",
            "placeholder": "​",
            "style": "IPY_MODEL_cc4f5771a9d54abea6cfc5405c164882",
            "value": "config.json: 100%"
          }
        },
        "c54d8e829d574986a02bfb14ce2500fd": {
          "model_module": "@jupyter-widgets/controls",
          "model_name": "FloatProgressModel",
          "model_module_version": "1.5.0",
          "state": {
            "_dom_classes": [],
            "_model_module": "@jupyter-widgets/controls",
            "_model_module_version": "1.5.0",
            "_model_name": "FloatProgressModel",
            "_view_count": null,
            "_view_module": "@jupyter-widgets/controls",
            "_view_module_version": "1.5.0",
            "_view_name": "ProgressView",
            "bar_style": "success",
            "description": "",
            "description_tooltip": null,
            "layout": "IPY_MODEL_0878ee41a1b3464d913e0373efcdb423",
            "max": 747,
            "min": 0,
            "orientation": "horizontal",
            "style": "IPY_MODEL_6be7ee90211c428fb31b0d37a545ce65",
            "value": 747
          }
        },
        "033ff9d0d08d461898391909914053b6": {
          "model_module": "@jupyter-widgets/controls",
          "model_name": "HTMLModel",
          "model_module_version": "1.5.0",
          "state": {
            "_dom_classes": [],
            "_model_module": "@jupyter-widgets/controls",
            "_model_module_version": "1.5.0",
            "_model_name": "HTMLModel",
            "_view_count": null,
            "_view_module": "@jupyter-widgets/controls",
            "_view_module_version": "1.5.0",
            "_view_name": "HTMLView",
            "description": "",
            "description_tooltip": null,
            "layout": "IPY_MODEL_a97a9c5ede294297a15efbc8a3f9d268",
            "placeholder": "​",
            "style": "IPY_MODEL_739a28d95dd343a8b7cd088650021656",
            "value": " 747/747 [00:00&lt;00:00, 36.1kB/s]"
          }
        },
        "3e2b6163eebb4b45a369e912139dc993": {
          "model_module": "@jupyter-widgets/base",
          "model_name": "LayoutModel",
          "model_module_version": "1.2.0",
          "state": {
            "_model_module": "@jupyter-widgets/base",
            "_model_module_version": "1.2.0",
            "_model_name": "LayoutModel",
            "_view_count": null,
            "_view_module": "@jupyter-widgets/base",
            "_view_module_version": "1.2.0",
            "_view_name": "LayoutView",
            "align_content": null,
            "align_items": null,
            "align_self": null,
            "border": null,
            "bottom": null,
            "display": null,
            "flex": null,
            "flex_flow": null,
            "grid_area": null,
            "grid_auto_columns": null,
            "grid_auto_flow": null,
            "grid_auto_rows": null,
            "grid_column": null,
            "grid_gap": null,
            "grid_row": null,
            "grid_template_areas": null,
            "grid_template_columns": null,
            "grid_template_rows": null,
            "height": null,
            "justify_content": null,
            "justify_items": null,
            "left": null,
            "margin": null,
            "max_height": null,
            "max_width": null,
            "min_height": null,
            "min_width": null,
            "object_fit": null,
            "object_position": null,
            "order": null,
            "overflow": null,
            "overflow_x": null,
            "overflow_y": null,
            "padding": null,
            "right": null,
            "top": null,
            "visibility": null,
            "width": null
          }
        },
        "314e6974057b4d0abb61cd5c75fa63fe": {
          "model_module": "@jupyter-widgets/base",
          "model_name": "LayoutModel",
          "model_module_version": "1.2.0",
          "state": {
            "_model_module": "@jupyter-widgets/base",
            "_model_module_version": "1.2.0",
            "_model_name": "LayoutModel",
            "_view_count": null,
            "_view_module": "@jupyter-widgets/base",
            "_view_module_version": "1.2.0",
            "_view_name": "LayoutView",
            "align_content": null,
            "align_items": null,
            "align_self": null,
            "border": null,
            "bottom": null,
            "display": null,
            "flex": null,
            "flex_flow": null,
            "grid_area": null,
            "grid_auto_columns": null,
            "grid_auto_flow": null,
            "grid_auto_rows": null,
            "grid_column": null,
            "grid_gap": null,
            "grid_row": null,
            "grid_template_areas": null,
            "grid_template_columns": null,
            "grid_template_rows": null,
            "height": null,
            "justify_content": null,
            "justify_items": null,
            "left": null,
            "margin": null,
            "max_height": null,
            "max_width": null,
            "min_height": null,
            "min_width": null,
            "object_fit": null,
            "object_position": null,
            "order": null,
            "overflow": null,
            "overflow_x": null,
            "overflow_y": null,
            "padding": null,
            "right": null,
            "top": null,
            "visibility": null,
            "width": null
          }
        },
        "cc4f5771a9d54abea6cfc5405c164882": {
          "model_module": "@jupyter-widgets/controls",
          "model_name": "DescriptionStyleModel",
          "model_module_version": "1.5.0",
          "state": {
            "_model_module": "@jupyter-widgets/controls",
            "_model_module_version": "1.5.0",
            "_model_name": "DescriptionStyleModel",
            "_view_count": null,
            "_view_module": "@jupyter-widgets/base",
            "_view_module_version": "1.2.0",
            "_view_name": "StyleView",
            "description_width": ""
          }
        },
        "0878ee41a1b3464d913e0373efcdb423": {
          "model_module": "@jupyter-widgets/base",
          "model_name": "LayoutModel",
          "model_module_version": "1.2.0",
          "state": {
            "_model_module": "@jupyter-widgets/base",
            "_model_module_version": "1.2.0",
            "_model_name": "LayoutModel",
            "_view_count": null,
            "_view_module": "@jupyter-widgets/base",
            "_view_module_version": "1.2.0",
            "_view_name": "LayoutView",
            "align_content": null,
            "align_items": null,
            "align_self": null,
            "border": null,
            "bottom": null,
            "display": null,
            "flex": null,
            "flex_flow": null,
            "grid_area": null,
            "grid_auto_columns": null,
            "grid_auto_flow": null,
            "grid_auto_rows": null,
            "grid_column": null,
            "grid_gap": null,
            "grid_row": null,
            "grid_template_areas": null,
            "grid_template_columns": null,
            "grid_template_rows": null,
            "height": null,
            "justify_content": null,
            "justify_items": null,
            "left": null,
            "margin": null,
            "max_height": null,
            "max_width": null,
            "min_height": null,
            "min_width": null,
            "object_fit": null,
            "object_position": null,
            "order": null,
            "overflow": null,
            "overflow_x": null,
            "overflow_y": null,
            "padding": null,
            "right": null,
            "top": null,
            "visibility": null,
            "width": null
          }
        },
        "6be7ee90211c428fb31b0d37a545ce65": {
          "model_module": "@jupyter-widgets/controls",
          "model_name": "ProgressStyleModel",
          "model_module_version": "1.5.0",
          "state": {
            "_model_module": "@jupyter-widgets/controls",
            "_model_module_version": "1.5.0",
            "_model_name": "ProgressStyleModel",
            "_view_count": null,
            "_view_module": "@jupyter-widgets/base",
            "_view_module_version": "1.2.0",
            "_view_name": "StyleView",
            "bar_color": null,
            "description_width": ""
          }
        },
        "a97a9c5ede294297a15efbc8a3f9d268": {
          "model_module": "@jupyter-widgets/base",
          "model_name": "LayoutModel",
          "model_module_version": "1.2.0",
          "state": {
            "_model_module": "@jupyter-widgets/base",
            "_model_module_version": "1.2.0",
            "_model_name": "LayoutModel",
            "_view_count": null,
            "_view_module": "@jupyter-widgets/base",
            "_view_module_version": "1.2.0",
            "_view_name": "LayoutView",
            "align_content": null,
            "align_items": null,
            "align_self": null,
            "border": null,
            "bottom": null,
            "display": null,
            "flex": null,
            "flex_flow": null,
            "grid_area": null,
            "grid_auto_columns": null,
            "grid_auto_flow": null,
            "grid_auto_rows": null,
            "grid_column": null,
            "grid_gap": null,
            "grid_row": null,
            "grid_template_areas": null,
            "grid_template_columns": null,
            "grid_template_rows": null,
            "height": null,
            "justify_content": null,
            "justify_items": null,
            "left": null,
            "margin": null,
            "max_height": null,
            "max_width": null,
            "min_height": null,
            "min_width": null,
            "object_fit": null,
            "object_position": null,
            "order": null,
            "overflow": null,
            "overflow_x": null,
            "overflow_y": null,
            "padding": null,
            "right": null,
            "top": null,
            "visibility": null,
            "width": null
          }
        },
        "739a28d95dd343a8b7cd088650021656": {
          "model_module": "@jupyter-widgets/controls",
          "model_name": "DescriptionStyleModel",
          "model_module_version": "1.5.0",
          "state": {
            "_model_module": "@jupyter-widgets/controls",
            "_model_module_version": "1.5.0",
            "_model_name": "DescriptionStyleModel",
            "_view_count": null,
            "_view_module": "@jupyter-widgets/base",
            "_view_module_version": "1.2.0",
            "_view_name": "StyleView",
            "description_width": ""
          }
        },
        "ad956b506631457981175df13c21f2f9": {
          "model_module": "@jupyter-widgets/controls",
          "model_name": "HBoxModel",
          "model_module_version": "1.5.0",
          "state": {
            "_dom_classes": [],
            "_model_module": "@jupyter-widgets/controls",
            "_model_module_version": "1.5.0",
            "_model_name": "HBoxModel",
            "_view_count": null,
            "_view_module": "@jupyter-widgets/controls",
            "_view_module_version": "1.5.0",
            "_view_name": "HBoxView",
            "box_style": "",
            "children": [
              "IPY_MODEL_8f6f66ad9c9942feae3953f83bfa096d",
              "IPY_MODEL_82bcfba4e12145da86272abf6242bc82",
              "IPY_MODEL_a56d5a87a4c94f3ab4a0c3923f182159"
            ],
            "layout": "IPY_MODEL_3e3f306551fe420bbde135239bbe161e"
          }
        },
        "8f6f66ad9c9942feae3953f83bfa096d": {
          "model_module": "@jupyter-widgets/controls",
          "model_name": "HTMLModel",
          "model_module_version": "1.5.0",
          "state": {
            "_dom_classes": [],
            "_model_module": "@jupyter-widgets/controls",
            "_model_module_version": "1.5.0",
            "_model_name": "HTMLModel",
            "_view_count": null,
            "_view_module": "@jupyter-widgets/controls",
            "_view_module_version": "1.5.0",
            "_view_name": "HTMLView",
            "description": "",
            "description_tooltip": null,
            "layout": "IPY_MODEL_ceb927fc94c940059bab8d01875487bf",
            "placeholder": "​",
            "style": "IPY_MODEL_d5176fcc1db44e7d8893350e886e5f08",
            "value": "vocab.json: 100%"
          }
        },
        "82bcfba4e12145da86272abf6242bc82": {
          "model_module": "@jupyter-widgets/controls",
          "model_name": "FloatProgressModel",
          "model_module_version": "1.5.0",
          "state": {
            "_dom_classes": [],
            "_model_module": "@jupyter-widgets/controls",
            "_model_module_version": "1.5.0",
            "_model_name": "FloatProgressModel",
            "_view_count": null,
            "_view_module": "@jupyter-widgets/controls",
            "_view_module_version": "1.5.0",
            "_view_name": "ProgressView",
            "bar_style": "success",
            "description": "",
            "description_tooltip": null,
            "layout": "IPY_MODEL_59eb854dfaec45258844275702805108",
            "max": 898822,
            "min": 0,
            "orientation": "horizontal",
            "style": "IPY_MODEL_21490b580ab046879294f4b6c05796b5",
            "value": 898822
          }
        },
        "a56d5a87a4c94f3ab4a0c3923f182159": {
          "model_module": "@jupyter-widgets/controls",
          "model_name": "HTMLModel",
          "model_module_version": "1.5.0",
          "state": {
            "_dom_classes": [],
            "_model_module": "@jupyter-widgets/controls",
            "_model_module_version": "1.5.0",
            "_model_name": "HTMLModel",
            "_view_count": null,
            "_view_module": "@jupyter-widgets/controls",
            "_view_module_version": "1.5.0",
            "_view_name": "HTMLView",
            "description": "",
            "description_tooltip": null,
            "layout": "IPY_MODEL_0173ad1ca9b348b188d94cb02a904702",
            "placeholder": "​",
            "style": "IPY_MODEL_c1c2dd7b071d4c10b74b1f2eb2ce1c04",
            "value": " 899k/899k [00:00&lt;00:00, 9.07MB/s]"
          }
        },
        "3e3f306551fe420bbde135239bbe161e": {
          "model_module": "@jupyter-widgets/base",
          "model_name": "LayoutModel",
          "model_module_version": "1.2.0",
          "state": {
            "_model_module": "@jupyter-widgets/base",
            "_model_module_version": "1.2.0",
            "_model_name": "LayoutModel",
            "_view_count": null,
            "_view_module": "@jupyter-widgets/base",
            "_view_module_version": "1.2.0",
            "_view_name": "LayoutView",
            "align_content": null,
            "align_items": null,
            "align_self": null,
            "border": null,
            "bottom": null,
            "display": null,
            "flex": null,
            "flex_flow": null,
            "grid_area": null,
            "grid_auto_columns": null,
            "grid_auto_flow": null,
            "grid_auto_rows": null,
            "grid_column": null,
            "grid_gap": null,
            "grid_row": null,
            "grid_template_areas": null,
            "grid_template_columns": null,
            "grid_template_rows": null,
            "height": null,
            "justify_content": null,
            "justify_items": null,
            "left": null,
            "margin": null,
            "max_height": null,
            "max_width": null,
            "min_height": null,
            "min_width": null,
            "object_fit": null,
            "object_position": null,
            "order": null,
            "overflow": null,
            "overflow_x": null,
            "overflow_y": null,
            "padding": null,
            "right": null,
            "top": null,
            "visibility": null,
            "width": null
          }
        },
        "ceb927fc94c940059bab8d01875487bf": {
          "model_module": "@jupyter-widgets/base",
          "model_name": "LayoutModel",
          "model_module_version": "1.2.0",
          "state": {
            "_model_module": "@jupyter-widgets/base",
            "_model_module_version": "1.2.0",
            "_model_name": "LayoutModel",
            "_view_count": null,
            "_view_module": "@jupyter-widgets/base",
            "_view_module_version": "1.2.0",
            "_view_name": "LayoutView",
            "align_content": null,
            "align_items": null,
            "align_self": null,
            "border": null,
            "bottom": null,
            "display": null,
            "flex": null,
            "flex_flow": null,
            "grid_area": null,
            "grid_auto_columns": null,
            "grid_auto_flow": null,
            "grid_auto_rows": null,
            "grid_column": null,
            "grid_gap": null,
            "grid_row": null,
            "grid_template_areas": null,
            "grid_template_columns": null,
            "grid_template_rows": null,
            "height": null,
            "justify_content": null,
            "justify_items": null,
            "left": null,
            "margin": null,
            "max_height": null,
            "max_width": null,
            "min_height": null,
            "min_width": null,
            "object_fit": null,
            "object_position": null,
            "order": null,
            "overflow": null,
            "overflow_x": null,
            "overflow_y": null,
            "padding": null,
            "right": null,
            "top": null,
            "visibility": null,
            "width": null
          }
        },
        "d5176fcc1db44e7d8893350e886e5f08": {
          "model_module": "@jupyter-widgets/controls",
          "model_name": "DescriptionStyleModel",
          "model_module_version": "1.5.0",
          "state": {
            "_model_module": "@jupyter-widgets/controls",
            "_model_module_version": "1.5.0",
            "_model_name": "DescriptionStyleModel",
            "_view_count": null,
            "_view_module": "@jupyter-widgets/base",
            "_view_module_version": "1.2.0",
            "_view_name": "StyleView",
            "description_width": ""
          }
        },
        "59eb854dfaec45258844275702805108": {
          "model_module": "@jupyter-widgets/base",
          "model_name": "LayoutModel",
          "model_module_version": "1.2.0",
          "state": {
            "_model_module": "@jupyter-widgets/base",
            "_model_module_version": "1.2.0",
            "_model_name": "LayoutModel",
            "_view_count": null,
            "_view_module": "@jupyter-widgets/base",
            "_view_module_version": "1.2.0",
            "_view_name": "LayoutView",
            "align_content": null,
            "align_items": null,
            "align_self": null,
            "border": null,
            "bottom": null,
            "display": null,
            "flex": null,
            "flex_flow": null,
            "grid_area": null,
            "grid_auto_columns": null,
            "grid_auto_flow": null,
            "grid_auto_rows": null,
            "grid_column": null,
            "grid_gap": null,
            "grid_row": null,
            "grid_template_areas": null,
            "grid_template_columns": null,
            "grid_template_rows": null,
            "height": null,
            "justify_content": null,
            "justify_items": null,
            "left": null,
            "margin": null,
            "max_height": null,
            "max_width": null,
            "min_height": null,
            "min_width": null,
            "object_fit": null,
            "object_position": null,
            "order": null,
            "overflow": null,
            "overflow_x": null,
            "overflow_y": null,
            "padding": null,
            "right": null,
            "top": null,
            "visibility": null,
            "width": null
          }
        },
        "21490b580ab046879294f4b6c05796b5": {
          "model_module": "@jupyter-widgets/controls",
          "model_name": "ProgressStyleModel",
          "model_module_version": "1.5.0",
          "state": {
            "_model_module": "@jupyter-widgets/controls",
            "_model_module_version": "1.5.0",
            "_model_name": "ProgressStyleModel",
            "_view_count": null,
            "_view_module": "@jupyter-widgets/base",
            "_view_module_version": "1.2.0",
            "_view_name": "StyleView",
            "bar_color": null,
            "description_width": ""
          }
        },
        "0173ad1ca9b348b188d94cb02a904702": {
          "model_module": "@jupyter-widgets/base",
          "model_name": "LayoutModel",
          "model_module_version": "1.2.0",
          "state": {
            "_model_module": "@jupyter-widgets/base",
            "_model_module_version": "1.2.0",
            "_model_name": "LayoutModel",
            "_view_count": null,
            "_view_module": "@jupyter-widgets/base",
            "_view_module_version": "1.2.0",
            "_view_name": "LayoutView",
            "align_content": null,
            "align_items": null,
            "align_self": null,
            "border": null,
            "bottom": null,
            "display": null,
            "flex": null,
            "flex_flow": null,
            "grid_area": null,
            "grid_auto_columns": null,
            "grid_auto_flow": null,
            "grid_auto_rows": null,
            "grid_column": null,
            "grid_gap": null,
            "grid_row": null,
            "grid_template_areas": null,
            "grid_template_columns": null,
            "grid_template_rows": null,
            "height": null,
            "justify_content": null,
            "justify_items": null,
            "left": null,
            "margin": null,
            "max_height": null,
            "max_width": null,
            "min_height": null,
            "min_width": null,
            "object_fit": null,
            "object_position": null,
            "order": null,
            "overflow": null,
            "overflow_x": null,
            "overflow_y": null,
            "padding": null,
            "right": null,
            "top": null,
            "visibility": null,
            "width": null
          }
        },
        "c1c2dd7b071d4c10b74b1f2eb2ce1c04": {
          "model_module": "@jupyter-widgets/controls",
          "model_name": "DescriptionStyleModel",
          "model_module_version": "1.5.0",
          "state": {
            "_model_module": "@jupyter-widgets/controls",
            "_model_module_version": "1.5.0",
            "_model_name": "DescriptionStyleModel",
            "_view_count": null,
            "_view_module": "@jupyter-widgets/base",
            "_view_module_version": "1.2.0",
            "_view_name": "StyleView",
            "description_width": ""
          }
        },
        "fa3c22bed23b4cb0b0bffc0b422a0159": {
          "model_module": "@jupyter-widgets/controls",
          "model_name": "HBoxModel",
          "model_module_version": "1.5.0",
          "state": {
            "_dom_classes": [],
            "_model_module": "@jupyter-widgets/controls",
            "_model_module_version": "1.5.0",
            "_model_name": "HBoxModel",
            "_view_count": null,
            "_view_module": "@jupyter-widgets/controls",
            "_view_module_version": "1.5.0",
            "_view_name": "HBoxView",
            "box_style": "",
            "children": [
              "IPY_MODEL_0c686fa0b69546948ce997356e6c13c6",
              "IPY_MODEL_5616ef3a9c3841b18725111bb603ed13",
              "IPY_MODEL_05bfde36b49945feb38bb64b6d528686"
            ],
            "layout": "IPY_MODEL_a732d6e648eb464da2ce5dbb34323aa6"
          }
        },
        "0c686fa0b69546948ce997356e6c13c6": {
          "model_module": "@jupyter-widgets/controls",
          "model_name": "HTMLModel",
          "model_module_version": "1.5.0",
          "state": {
            "_dom_classes": [],
            "_model_module": "@jupyter-widgets/controls",
            "_model_module_version": "1.5.0",
            "_model_name": "HTMLModel",
            "_view_count": null,
            "_view_module": "@jupyter-widgets/controls",
            "_view_module_version": "1.5.0",
            "_view_name": "HTMLView",
            "description": "",
            "description_tooltip": null,
            "layout": "IPY_MODEL_f7bee1140b404f4ab246a937125d2e42",
            "placeholder": "​",
            "style": "IPY_MODEL_b2b684eb5ab44f8da7891f1541a3ff8c",
            "value": "merges.txt: 100%"
          }
        },
        "5616ef3a9c3841b18725111bb603ed13": {
          "model_module": "@jupyter-widgets/controls",
          "model_name": "FloatProgressModel",
          "model_module_version": "1.5.0",
          "state": {
            "_dom_classes": [],
            "_model_module": "@jupyter-widgets/controls",
            "_model_module_version": "1.5.0",
            "_model_name": "FloatProgressModel",
            "_view_count": null,
            "_view_module": "@jupyter-widgets/controls",
            "_view_module_version": "1.5.0",
            "_view_name": "ProgressView",
            "bar_style": "success",
            "description": "",
            "description_tooltip": null,
            "layout": "IPY_MODEL_a48befac6c8f4db587ed1c1ec2bacb6c",
            "max": 456318,
            "min": 0,
            "orientation": "horizontal",
            "style": "IPY_MODEL_709366cc42224405a0ff97a5e6d894f8",
            "value": 456318
          }
        },
        "05bfde36b49945feb38bb64b6d528686": {
          "model_module": "@jupyter-widgets/controls",
          "model_name": "HTMLModel",
          "model_module_version": "1.5.0",
          "state": {
            "_dom_classes": [],
            "_model_module": "@jupyter-widgets/controls",
            "_model_module_version": "1.5.0",
            "_model_name": "HTMLModel",
            "_view_count": null,
            "_view_module": "@jupyter-widgets/controls",
            "_view_module_version": "1.5.0",
            "_view_name": "HTMLView",
            "description": "",
            "description_tooltip": null,
            "layout": "IPY_MODEL_17353abeb5ab462195f3ee0098bdc09e",
            "placeholder": "​",
            "style": "IPY_MODEL_0b8a233a7a2141d7b78338cd921ea490",
            "value": " 456k/456k [00:00&lt;00:00, 6.15MB/s]"
          }
        },
        "a732d6e648eb464da2ce5dbb34323aa6": {
          "model_module": "@jupyter-widgets/base",
          "model_name": "LayoutModel",
          "model_module_version": "1.2.0",
          "state": {
            "_model_module": "@jupyter-widgets/base",
            "_model_module_version": "1.2.0",
            "_model_name": "LayoutModel",
            "_view_count": null,
            "_view_module": "@jupyter-widgets/base",
            "_view_module_version": "1.2.0",
            "_view_name": "LayoutView",
            "align_content": null,
            "align_items": null,
            "align_self": null,
            "border": null,
            "bottom": null,
            "display": null,
            "flex": null,
            "flex_flow": null,
            "grid_area": null,
            "grid_auto_columns": null,
            "grid_auto_flow": null,
            "grid_auto_rows": null,
            "grid_column": null,
            "grid_gap": null,
            "grid_row": null,
            "grid_template_areas": null,
            "grid_template_columns": null,
            "grid_template_rows": null,
            "height": null,
            "justify_content": null,
            "justify_items": null,
            "left": null,
            "margin": null,
            "max_height": null,
            "max_width": null,
            "min_height": null,
            "min_width": null,
            "object_fit": null,
            "object_position": null,
            "order": null,
            "overflow": null,
            "overflow_x": null,
            "overflow_y": null,
            "padding": null,
            "right": null,
            "top": null,
            "visibility": null,
            "width": null
          }
        },
        "f7bee1140b404f4ab246a937125d2e42": {
          "model_module": "@jupyter-widgets/base",
          "model_name": "LayoutModel",
          "model_module_version": "1.2.0",
          "state": {
            "_model_module": "@jupyter-widgets/base",
            "_model_module_version": "1.2.0",
            "_model_name": "LayoutModel",
            "_view_count": null,
            "_view_module": "@jupyter-widgets/base",
            "_view_module_version": "1.2.0",
            "_view_name": "LayoutView",
            "align_content": null,
            "align_items": null,
            "align_self": null,
            "border": null,
            "bottom": null,
            "display": null,
            "flex": null,
            "flex_flow": null,
            "grid_area": null,
            "grid_auto_columns": null,
            "grid_auto_flow": null,
            "grid_auto_rows": null,
            "grid_column": null,
            "grid_gap": null,
            "grid_row": null,
            "grid_template_areas": null,
            "grid_template_columns": null,
            "grid_template_rows": null,
            "height": null,
            "justify_content": null,
            "justify_items": null,
            "left": null,
            "margin": null,
            "max_height": null,
            "max_width": null,
            "min_height": null,
            "min_width": null,
            "object_fit": null,
            "object_position": null,
            "order": null,
            "overflow": null,
            "overflow_x": null,
            "overflow_y": null,
            "padding": null,
            "right": null,
            "top": null,
            "visibility": null,
            "width": null
          }
        },
        "b2b684eb5ab44f8da7891f1541a3ff8c": {
          "model_module": "@jupyter-widgets/controls",
          "model_name": "DescriptionStyleModel",
          "model_module_version": "1.5.0",
          "state": {
            "_model_module": "@jupyter-widgets/controls",
            "_model_module_version": "1.5.0",
            "_model_name": "DescriptionStyleModel",
            "_view_count": null,
            "_view_module": "@jupyter-widgets/base",
            "_view_module_version": "1.2.0",
            "_view_name": "StyleView",
            "description_width": ""
          }
        },
        "a48befac6c8f4db587ed1c1ec2bacb6c": {
          "model_module": "@jupyter-widgets/base",
          "model_name": "LayoutModel",
          "model_module_version": "1.2.0",
          "state": {
            "_model_module": "@jupyter-widgets/base",
            "_model_module_version": "1.2.0",
            "_model_name": "LayoutModel",
            "_view_count": null,
            "_view_module": "@jupyter-widgets/base",
            "_view_module_version": "1.2.0",
            "_view_name": "LayoutView",
            "align_content": null,
            "align_items": null,
            "align_self": null,
            "border": null,
            "bottom": null,
            "display": null,
            "flex": null,
            "flex_flow": null,
            "grid_area": null,
            "grid_auto_columns": null,
            "grid_auto_flow": null,
            "grid_auto_rows": null,
            "grid_column": null,
            "grid_gap": null,
            "grid_row": null,
            "grid_template_areas": null,
            "grid_template_columns": null,
            "grid_template_rows": null,
            "height": null,
            "justify_content": null,
            "justify_items": null,
            "left": null,
            "margin": null,
            "max_height": null,
            "max_width": null,
            "min_height": null,
            "min_width": null,
            "object_fit": null,
            "object_position": null,
            "order": null,
            "overflow": null,
            "overflow_x": null,
            "overflow_y": null,
            "padding": null,
            "right": null,
            "top": null,
            "visibility": null,
            "width": null
          }
        },
        "709366cc42224405a0ff97a5e6d894f8": {
          "model_module": "@jupyter-widgets/controls",
          "model_name": "ProgressStyleModel",
          "model_module_version": "1.5.0",
          "state": {
            "_model_module": "@jupyter-widgets/controls",
            "_model_module_version": "1.5.0",
            "_model_name": "ProgressStyleModel",
            "_view_count": null,
            "_view_module": "@jupyter-widgets/base",
            "_view_module_version": "1.2.0",
            "_view_name": "StyleView",
            "bar_color": null,
            "description_width": ""
          }
        },
        "17353abeb5ab462195f3ee0098bdc09e": {
          "model_module": "@jupyter-widgets/base",
          "model_name": "LayoutModel",
          "model_module_version": "1.2.0",
          "state": {
            "_model_module": "@jupyter-widgets/base",
            "_model_module_version": "1.2.0",
            "_model_name": "LayoutModel",
            "_view_count": null,
            "_view_module": "@jupyter-widgets/base",
            "_view_module_version": "1.2.0",
            "_view_name": "LayoutView",
            "align_content": null,
            "align_items": null,
            "align_self": null,
            "border": null,
            "bottom": null,
            "display": null,
            "flex": null,
            "flex_flow": null,
            "grid_area": null,
            "grid_auto_columns": null,
            "grid_auto_flow": null,
            "grid_auto_rows": null,
            "grid_column": null,
            "grid_gap": null,
            "grid_row": null,
            "grid_template_areas": null,
            "grid_template_columns": null,
            "grid_template_rows": null,
            "height": null,
            "justify_content": null,
            "justify_items": null,
            "left": null,
            "margin": null,
            "max_height": null,
            "max_width": null,
            "min_height": null,
            "min_width": null,
            "object_fit": null,
            "object_position": null,
            "order": null,
            "overflow": null,
            "overflow_x": null,
            "overflow_y": null,
            "padding": null,
            "right": null,
            "top": null,
            "visibility": null,
            "width": null
          }
        },
        "0b8a233a7a2141d7b78338cd921ea490": {
          "model_module": "@jupyter-widgets/controls",
          "model_name": "DescriptionStyleModel",
          "model_module_version": "1.5.0",
          "state": {
            "_model_module": "@jupyter-widgets/controls",
            "_model_module_version": "1.5.0",
            "_model_name": "DescriptionStyleModel",
            "_view_count": null,
            "_view_module": "@jupyter-widgets/base",
            "_view_module_version": "1.2.0",
            "_view_name": "StyleView",
            "description_width": ""
          }
        },
        "fd81a60d369e4cd3b6b4709350109f6b": {
          "model_module": "@jupyter-widgets/controls",
          "model_name": "HBoxModel",
          "model_module_version": "1.5.0",
          "state": {
            "_dom_classes": [],
            "_model_module": "@jupyter-widgets/controls",
            "_model_module_version": "1.5.0",
            "_model_name": "HBoxModel",
            "_view_count": null,
            "_view_module": "@jupyter-widgets/controls",
            "_view_module_version": "1.5.0",
            "_view_name": "HBoxView",
            "box_style": "",
            "children": [
              "IPY_MODEL_3b334c0ae6714b0184c59921d8a1f972",
              "IPY_MODEL_7f0542d273af4712bf259be54c287b7b",
              "IPY_MODEL_b5f5562844eb49eaae07c6717783a2fe"
            ],
            "layout": "IPY_MODEL_ca3af91f92c042c5b38f33c4ca251bf3"
          }
        },
        "3b334c0ae6714b0184c59921d8a1f972": {
          "model_module": "@jupyter-widgets/controls",
          "model_name": "HTMLModel",
          "model_module_version": "1.5.0",
          "state": {
            "_dom_classes": [],
            "_model_module": "@jupyter-widgets/controls",
            "_model_module_version": "1.5.0",
            "_model_name": "HTMLModel",
            "_view_count": null,
            "_view_module": "@jupyter-widgets/controls",
            "_view_module_version": "1.5.0",
            "_view_name": "HTMLView",
            "description": "",
            "description_tooltip": null,
            "layout": "IPY_MODEL_1efe3e9b89e142728c77858477bd9ffe",
            "placeholder": "​",
            "style": "IPY_MODEL_66b8c32988a04eb2bb5fcb3c5e8f4cb1",
            "value": "special_tokens_map.json: 100%"
          }
        },
        "7f0542d273af4712bf259be54c287b7b": {
          "model_module": "@jupyter-widgets/controls",
          "model_name": "FloatProgressModel",
          "model_module_version": "1.5.0",
          "state": {
            "_dom_classes": [],
            "_model_module": "@jupyter-widgets/controls",
            "_model_module_version": "1.5.0",
            "_model_name": "FloatProgressModel",
            "_view_count": null,
            "_view_module": "@jupyter-widgets/controls",
            "_view_module_version": "1.5.0",
            "_view_name": "ProgressView",
            "bar_style": "success",
            "description": "",
            "description_tooltip": null,
            "layout": "IPY_MODEL_c22076844a5443db8385d32d261cf173",
            "max": 150,
            "min": 0,
            "orientation": "horizontal",
            "style": "IPY_MODEL_cc779e46f96d41138591e5e2788b994b",
            "value": 150
          }
        },
        "b5f5562844eb49eaae07c6717783a2fe": {
          "model_module": "@jupyter-widgets/controls",
          "model_name": "HTMLModel",
          "model_module_version": "1.5.0",
          "state": {
            "_dom_classes": [],
            "_model_module": "@jupyter-widgets/controls",
            "_model_module_version": "1.5.0",
            "_model_name": "HTMLModel",
            "_view_count": null,
            "_view_module": "@jupyter-widgets/controls",
            "_view_module_version": "1.5.0",
            "_view_name": "HTMLView",
            "description": "",
            "description_tooltip": null,
            "layout": "IPY_MODEL_18520b8c755d47e5bb1c0a7769a34e35",
            "placeholder": "​",
            "style": "IPY_MODEL_f864dcf9f5a1404aba69c042923ba39f",
            "value": " 150/150 [00:00&lt;00:00, 7.41kB/s]"
          }
        },
        "ca3af91f92c042c5b38f33c4ca251bf3": {
          "model_module": "@jupyter-widgets/base",
          "model_name": "LayoutModel",
          "model_module_version": "1.2.0",
          "state": {
            "_model_module": "@jupyter-widgets/base",
            "_model_module_version": "1.2.0",
            "_model_name": "LayoutModel",
            "_view_count": null,
            "_view_module": "@jupyter-widgets/base",
            "_view_module_version": "1.2.0",
            "_view_name": "LayoutView",
            "align_content": null,
            "align_items": null,
            "align_self": null,
            "border": null,
            "bottom": null,
            "display": null,
            "flex": null,
            "flex_flow": null,
            "grid_area": null,
            "grid_auto_columns": null,
            "grid_auto_flow": null,
            "grid_auto_rows": null,
            "grid_column": null,
            "grid_gap": null,
            "grid_row": null,
            "grid_template_areas": null,
            "grid_template_columns": null,
            "grid_template_rows": null,
            "height": null,
            "justify_content": null,
            "justify_items": null,
            "left": null,
            "margin": null,
            "max_height": null,
            "max_width": null,
            "min_height": null,
            "min_width": null,
            "object_fit": null,
            "object_position": null,
            "order": null,
            "overflow": null,
            "overflow_x": null,
            "overflow_y": null,
            "padding": null,
            "right": null,
            "top": null,
            "visibility": null,
            "width": null
          }
        },
        "1efe3e9b89e142728c77858477bd9ffe": {
          "model_module": "@jupyter-widgets/base",
          "model_name": "LayoutModel",
          "model_module_version": "1.2.0",
          "state": {
            "_model_module": "@jupyter-widgets/base",
            "_model_module_version": "1.2.0",
            "_model_name": "LayoutModel",
            "_view_count": null,
            "_view_module": "@jupyter-widgets/base",
            "_view_module_version": "1.2.0",
            "_view_name": "LayoutView",
            "align_content": null,
            "align_items": null,
            "align_self": null,
            "border": null,
            "bottom": null,
            "display": null,
            "flex": null,
            "flex_flow": null,
            "grid_area": null,
            "grid_auto_columns": null,
            "grid_auto_flow": null,
            "grid_auto_rows": null,
            "grid_column": null,
            "grid_gap": null,
            "grid_row": null,
            "grid_template_areas": null,
            "grid_template_columns": null,
            "grid_template_rows": null,
            "height": null,
            "justify_content": null,
            "justify_items": null,
            "left": null,
            "margin": null,
            "max_height": null,
            "max_width": null,
            "min_height": null,
            "min_width": null,
            "object_fit": null,
            "object_position": null,
            "order": null,
            "overflow": null,
            "overflow_x": null,
            "overflow_y": null,
            "padding": null,
            "right": null,
            "top": null,
            "visibility": null,
            "width": null
          }
        },
        "66b8c32988a04eb2bb5fcb3c5e8f4cb1": {
          "model_module": "@jupyter-widgets/controls",
          "model_name": "DescriptionStyleModel",
          "model_module_version": "1.5.0",
          "state": {
            "_model_module": "@jupyter-widgets/controls",
            "_model_module_version": "1.5.0",
            "_model_name": "DescriptionStyleModel",
            "_view_count": null,
            "_view_module": "@jupyter-widgets/base",
            "_view_module_version": "1.2.0",
            "_view_name": "StyleView",
            "description_width": ""
          }
        },
        "c22076844a5443db8385d32d261cf173": {
          "model_module": "@jupyter-widgets/base",
          "model_name": "LayoutModel",
          "model_module_version": "1.2.0",
          "state": {
            "_model_module": "@jupyter-widgets/base",
            "_model_module_version": "1.2.0",
            "_model_name": "LayoutModel",
            "_view_count": null,
            "_view_module": "@jupyter-widgets/base",
            "_view_module_version": "1.2.0",
            "_view_name": "LayoutView",
            "align_content": null,
            "align_items": null,
            "align_self": null,
            "border": null,
            "bottom": null,
            "display": null,
            "flex": null,
            "flex_flow": null,
            "grid_area": null,
            "grid_auto_columns": null,
            "grid_auto_flow": null,
            "grid_auto_rows": null,
            "grid_column": null,
            "grid_gap": null,
            "grid_row": null,
            "grid_template_areas": null,
            "grid_template_columns": null,
            "grid_template_rows": null,
            "height": null,
            "justify_content": null,
            "justify_items": null,
            "left": null,
            "margin": null,
            "max_height": null,
            "max_width": null,
            "min_height": null,
            "min_width": null,
            "object_fit": null,
            "object_position": null,
            "order": null,
            "overflow": null,
            "overflow_x": null,
            "overflow_y": null,
            "padding": null,
            "right": null,
            "top": null,
            "visibility": null,
            "width": null
          }
        },
        "cc779e46f96d41138591e5e2788b994b": {
          "model_module": "@jupyter-widgets/controls",
          "model_name": "ProgressStyleModel",
          "model_module_version": "1.5.0",
          "state": {
            "_model_module": "@jupyter-widgets/controls",
            "_model_module_version": "1.5.0",
            "_model_name": "ProgressStyleModel",
            "_view_count": null,
            "_view_module": "@jupyter-widgets/base",
            "_view_module_version": "1.2.0",
            "_view_name": "StyleView",
            "bar_color": null,
            "description_width": ""
          }
        },
        "18520b8c755d47e5bb1c0a7769a34e35": {
          "model_module": "@jupyter-widgets/base",
          "model_name": "LayoutModel",
          "model_module_version": "1.2.0",
          "state": {
            "_model_module": "@jupyter-widgets/base",
            "_model_module_version": "1.2.0",
            "_model_name": "LayoutModel",
            "_view_count": null,
            "_view_module": "@jupyter-widgets/base",
            "_view_module_version": "1.2.0",
            "_view_name": "LayoutView",
            "align_content": null,
            "align_items": null,
            "align_self": null,
            "border": null,
            "bottom": null,
            "display": null,
            "flex": null,
            "flex_flow": null,
            "grid_area": null,
            "grid_auto_columns": null,
            "grid_auto_flow": null,
            "grid_auto_rows": null,
            "grid_column": null,
            "grid_gap": null,
            "grid_row": null,
            "grid_template_areas": null,
            "grid_template_columns": null,
            "grid_template_rows": null,
            "height": null,
            "justify_content": null,
            "justify_items": null,
            "left": null,
            "margin": null,
            "max_height": null,
            "max_width": null,
            "min_height": null,
            "min_width": null,
            "object_fit": null,
            "object_position": null,
            "order": null,
            "overflow": null,
            "overflow_x": null,
            "overflow_y": null,
            "padding": null,
            "right": null,
            "top": null,
            "visibility": null,
            "width": null
          }
        },
        "f864dcf9f5a1404aba69c042923ba39f": {
          "model_module": "@jupyter-widgets/controls",
          "model_name": "DescriptionStyleModel",
          "model_module_version": "1.5.0",
          "state": {
            "_model_module": "@jupyter-widgets/controls",
            "_model_module_version": "1.5.0",
            "_model_name": "DescriptionStyleModel",
            "_view_count": null,
            "_view_module": "@jupyter-widgets/base",
            "_view_module_version": "1.2.0",
            "_view_name": "StyleView",
            "description_width": ""
          }
        },
        "8fe7b167f3c24057bc5d1f37fb3d3cb0": {
          "model_module": "@jupyter-widgets/controls",
          "model_name": "HBoxModel",
          "model_module_version": "1.5.0",
          "state": {
            "_dom_classes": [],
            "_model_module": "@jupyter-widgets/controls",
            "_model_module_version": "1.5.0",
            "_model_name": "HBoxModel",
            "_view_count": null,
            "_view_module": "@jupyter-widgets/controls",
            "_view_module_version": "1.5.0",
            "_view_name": "HBoxView",
            "box_style": "",
            "children": [
              "IPY_MODEL_35c56d5bdf3e46d1903c53afe132b2e9",
              "IPY_MODEL_19b6972b4c114ad4a6568d33c64dd8de",
              "IPY_MODEL_5435da8539364e50bae62bc548730d08"
            ],
            "layout": "IPY_MODEL_e8d34c1f69c14398bdec80e179eaec49"
          }
        },
        "35c56d5bdf3e46d1903c53afe132b2e9": {
          "model_module": "@jupyter-widgets/controls",
          "model_name": "HTMLModel",
          "model_module_version": "1.5.0",
          "state": {
            "_dom_classes": [],
            "_model_module": "@jupyter-widgets/controls",
            "_model_module_version": "1.5.0",
            "_model_name": "HTMLModel",
            "_view_count": null,
            "_view_module": "@jupyter-widgets/controls",
            "_view_module_version": "1.5.0",
            "_view_name": "HTMLView",
            "description": "",
            "description_tooltip": null,
            "layout": "IPY_MODEL_58be99a9abb3448e9d687ad3321bf1ef",
            "placeholder": "​",
            "style": "IPY_MODEL_9eebc6f47ac5495d9b2072f144dd0249",
            "value": "pytorch_model.bin: 100%"
          }
        },
        "19b6972b4c114ad4a6568d33c64dd8de": {
          "model_module": "@jupyter-widgets/controls",
          "model_name": "FloatProgressModel",
          "model_module_version": "1.5.0",
          "state": {
            "_dom_classes": [],
            "_model_module": "@jupyter-widgets/controls",
            "_model_module_version": "1.5.0",
            "_model_name": "FloatProgressModel",
            "_view_count": null,
            "_view_module": "@jupyter-widgets/controls",
            "_view_module_version": "1.5.0",
            "_view_name": "ProgressView",
            "bar_style": "success",
            "description": "",
            "description_tooltip": null,
            "layout": "IPY_MODEL_ec88e08e883c4a7e9bc892dda0fd3a8b",
            "max": 498679497,
            "min": 0,
            "orientation": "horizontal",
            "style": "IPY_MODEL_e7180a59561940f9945e72eba39413af",
            "value": 498679497
          }
        },
        "5435da8539364e50bae62bc548730d08": {
          "model_module": "@jupyter-widgets/controls",
          "model_name": "HTMLModel",
          "model_module_version": "1.5.0",
          "state": {
            "_dom_classes": [],
            "_model_module": "@jupyter-widgets/controls",
            "_model_module_version": "1.5.0",
            "_model_name": "HTMLModel",
            "_view_count": null,
            "_view_module": "@jupyter-widgets/controls",
            "_view_module_version": "1.5.0",
            "_view_name": "HTMLView",
            "description": "",
            "description_tooltip": null,
            "layout": "IPY_MODEL_6bf8d2c107df43a286fcd520d0ede961",
            "placeholder": "​",
            "style": "IPY_MODEL_1776a0a414734d699998285f74f515df",
            "value": " 499M/499M [00:05&lt;00:00, 129MB/s]"
          }
        },
        "e8d34c1f69c14398bdec80e179eaec49": {
          "model_module": "@jupyter-widgets/base",
          "model_name": "LayoutModel",
          "model_module_version": "1.2.0",
          "state": {
            "_model_module": "@jupyter-widgets/base",
            "_model_module_version": "1.2.0",
            "_model_name": "LayoutModel",
            "_view_count": null,
            "_view_module": "@jupyter-widgets/base",
            "_view_module_version": "1.2.0",
            "_view_name": "LayoutView",
            "align_content": null,
            "align_items": null,
            "align_self": null,
            "border": null,
            "bottom": null,
            "display": null,
            "flex": null,
            "flex_flow": null,
            "grid_area": null,
            "grid_auto_columns": null,
            "grid_auto_flow": null,
            "grid_auto_rows": null,
            "grid_column": null,
            "grid_gap": null,
            "grid_row": null,
            "grid_template_areas": null,
            "grid_template_columns": null,
            "grid_template_rows": null,
            "height": null,
            "justify_content": null,
            "justify_items": null,
            "left": null,
            "margin": null,
            "max_height": null,
            "max_width": null,
            "min_height": null,
            "min_width": null,
            "object_fit": null,
            "object_position": null,
            "order": null,
            "overflow": null,
            "overflow_x": null,
            "overflow_y": null,
            "padding": null,
            "right": null,
            "top": null,
            "visibility": null,
            "width": null
          }
        },
        "58be99a9abb3448e9d687ad3321bf1ef": {
          "model_module": "@jupyter-widgets/base",
          "model_name": "LayoutModel",
          "model_module_version": "1.2.0",
          "state": {
            "_model_module": "@jupyter-widgets/base",
            "_model_module_version": "1.2.0",
            "_model_name": "LayoutModel",
            "_view_count": null,
            "_view_module": "@jupyter-widgets/base",
            "_view_module_version": "1.2.0",
            "_view_name": "LayoutView",
            "align_content": null,
            "align_items": null,
            "align_self": null,
            "border": null,
            "bottom": null,
            "display": null,
            "flex": null,
            "flex_flow": null,
            "grid_area": null,
            "grid_auto_columns": null,
            "grid_auto_flow": null,
            "grid_auto_rows": null,
            "grid_column": null,
            "grid_gap": null,
            "grid_row": null,
            "grid_template_areas": null,
            "grid_template_columns": null,
            "grid_template_rows": null,
            "height": null,
            "justify_content": null,
            "justify_items": null,
            "left": null,
            "margin": null,
            "max_height": null,
            "max_width": null,
            "min_height": null,
            "min_width": null,
            "object_fit": null,
            "object_position": null,
            "order": null,
            "overflow": null,
            "overflow_x": null,
            "overflow_y": null,
            "padding": null,
            "right": null,
            "top": null,
            "visibility": null,
            "width": null
          }
        },
        "9eebc6f47ac5495d9b2072f144dd0249": {
          "model_module": "@jupyter-widgets/controls",
          "model_name": "DescriptionStyleModel",
          "model_module_version": "1.5.0",
          "state": {
            "_model_module": "@jupyter-widgets/controls",
            "_model_module_version": "1.5.0",
            "_model_name": "DescriptionStyleModel",
            "_view_count": null,
            "_view_module": "@jupyter-widgets/base",
            "_view_module_version": "1.2.0",
            "_view_name": "StyleView",
            "description_width": ""
          }
        },
        "ec88e08e883c4a7e9bc892dda0fd3a8b": {
          "model_module": "@jupyter-widgets/base",
          "model_name": "LayoutModel",
          "model_module_version": "1.2.0",
          "state": {
            "_model_module": "@jupyter-widgets/base",
            "_model_module_version": "1.2.0",
            "_model_name": "LayoutModel",
            "_view_count": null,
            "_view_module": "@jupyter-widgets/base",
            "_view_module_version": "1.2.0",
            "_view_name": "LayoutView",
            "align_content": null,
            "align_items": null,
            "align_self": null,
            "border": null,
            "bottom": null,
            "display": null,
            "flex": null,
            "flex_flow": null,
            "grid_area": null,
            "grid_auto_columns": null,
            "grid_auto_flow": null,
            "grid_auto_rows": null,
            "grid_column": null,
            "grid_gap": null,
            "grid_row": null,
            "grid_template_areas": null,
            "grid_template_columns": null,
            "grid_template_rows": null,
            "height": null,
            "justify_content": null,
            "justify_items": null,
            "left": null,
            "margin": null,
            "max_height": null,
            "max_width": null,
            "min_height": null,
            "min_width": null,
            "object_fit": null,
            "object_position": null,
            "order": null,
            "overflow": null,
            "overflow_x": null,
            "overflow_y": null,
            "padding": null,
            "right": null,
            "top": null,
            "visibility": null,
            "width": null
          }
        },
        "e7180a59561940f9945e72eba39413af": {
          "model_module": "@jupyter-widgets/controls",
          "model_name": "ProgressStyleModel",
          "model_module_version": "1.5.0",
          "state": {
            "_model_module": "@jupyter-widgets/controls",
            "_model_module_version": "1.5.0",
            "_model_name": "ProgressStyleModel",
            "_view_count": null,
            "_view_module": "@jupyter-widgets/base",
            "_view_module_version": "1.2.0",
            "_view_name": "StyleView",
            "bar_color": null,
            "description_width": ""
          }
        },
        "6bf8d2c107df43a286fcd520d0ede961": {
          "model_module": "@jupyter-widgets/base",
          "model_name": "LayoutModel",
          "model_module_version": "1.2.0",
          "state": {
            "_model_module": "@jupyter-widgets/base",
            "_model_module_version": "1.2.0",
            "_model_name": "LayoutModel",
            "_view_count": null,
            "_view_module": "@jupyter-widgets/base",
            "_view_module_version": "1.2.0",
            "_view_name": "LayoutView",
            "align_content": null,
            "align_items": null,
            "align_self": null,
            "border": null,
            "bottom": null,
            "display": null,
            "flex": null,
            "flex_flow": null,
            "grid_area": null,
            "grid_auto_columns": null,
            "grid_auto_flow": null,
            "grid_auto_rows": null,
            "grid_column": null,
            "grid_gap": null,
            "grid_row": null,
            "grid_template_areas": null,
            "grid_template_columns": null,
            "grid_template_rows": null,
            "height": null,
            "justify_content": null,
            "justify_items": null,
            "left": null,
            "margin": null,
            "max_height": null,
            "max_width": null,
            "min_height": null,
            "min_width": null,
            "object_fit": null,
            "object_position": null,
            "order": null,
            "overflow": null,
            "overflow_x": null,
            "overflow_y": null,
            "padding": null,
            "right": null,
            "top": null,
            "visibility": null,
            "width": null
          }
        },
        "1776a0a414734d699998285f74f515df": {
          "model_module": "@jupyter-widgets/controls",
          "model_name": "DescriptionStyleModel",
          "model_module_version": "1.5.0",
          "state": {
            "_model_module": "@jupyter-widgets/controls",
            "_model_module_version": "1.5.0",
            "_model_name": "DescriptionStyleModel",
            "_view_count": null,
            "_view_module": "@jupyter-widgets/base",
            "_view_module_version": "1.2.0",
            "_view_name": "StyleView",
            "description_width": ""
          }
        }
      }
    },
    "accelerator": "GPU"
  },
  "cells": [
    {
      "cell_type": "markdown",
      "metadata": {
        "id": "view-in-github",
        "colab_type": "text"
      },
      "source": [
        "<a href=\"https://colab.research.google.com/github/Szuyingpan/NLP-Project-RoBERTa/blob/main/NLP_Sentiment_Analysis_RoBERTa_Final.ipynb\" target=\"_parent\"><img src=\"https://colab.research.google.com/assets/colab-badge.svg\" alt=\"Open In Colab\"/></a>"
      ]
    },
    {
      "cell_type": "markdown",
      "source": [
        "## Natural Language Processing for Sentiment Analysis by using Amazon reviews dataset"
      ],
      "metadata": {
        "id": "OHvLfE_WJ4FA"
      }
    },
    {
      "cell_type": "markdown",
      "source": [
        "This notebook is followed by another notebook named 'NLP_Sentiment Analysis_LSTM_Final.' The goal is to first apply an LSTM model and then Huggingface's RoBERTa transformers. We aim to compare the results using a corpus of data trained models. In doing so, the Transformer model not only accounts for individual words but also considers the context related to other words."
      ],
      "metadata": {
        "id": "lqZoP5bng3Sq"
      }
    },
    {
      "cell_type": "code",
      "source": [
        "# Setup environment\n",
        "\n",
        "import os\n",
        "for dirname, _, filenames in os.walk('/kaggle/input'):\n",
        "    for filename in filenames:\n",
        "        print(os.path.join(dirname, filename))"
      ],
      "metadata": {
        "id": "4Hh4UsBWEiA7"
      },
      "execution_count": 3,
      "outputs": []
    },
    {
      "cell_type": "code",
      "source": [
        "from google.colab import drive\n",
        "drive.mount('/content/drive')"
      ],
      "metadata": {
        "colab": {
          "base_uri": "https://localhost:8080/"
        },
        "id": "iTbG5o9UIpKh",
        "outputId": "06e5b7a4-8308-4d14-83ad-fbdaabd1f891"
      },
      "execution_count": 4,
      "outputs": [
        {
          "output_type": "stream",
          "name": "stdout",
          "text": [
            "Mounted at /content/drive\n"
          ]
        }
      ]
    },
    {
      "cell_type": "markdown",
      "source": [
        "## 1. Import Library"
      ],
      "metadata": {
        "id": "fjrxF69-FFsG"
      }
    },
    {
      "cell_type": "code",
      "source": [
        "import bz2\n",
        "import pandas as pd\n",
        "\n",
        "from transformers import AutoTokenizer, AutoModelForSequenceClassification\n",
        "from scipy.special import softmax\n",
        "\n",
        "import matplotlib.pyplot as plt\n",
        "import seaborn as sns\n",
        "\n",
        "from tqdm.notebook import tqdm\n"
      ],
      "metadata": {
        "id": "XgftqDgLEwEM"
      },
      "execution_count": 5,
      "outputs": []
    },
    {
      "cell_type": "code",
      "source": [
        "# add this for pandas, to better look at the data\n",
        "pd.set_option('display.max_columns', None)\n",
        "pd.set_option('expand_frame_repr', False)"
      ],
      "metadata": {
        "id": "y71Jb1h6k0HO"
      },
      "execution_count": 6,
      "outputs": []
    },
    {
      "cell_type": "markdown",
      "source": [
        "## 2. Import data"
      ],
      "metadata": {
        "id": "RScOGv_FFPAY"
      }
    },
    {
      "cell_type": "code",
      "source": [
        "import pandas as pd\n",
        "\n",
        "NUMBER_OF_LINES = 9000\n",
        "\n",
        "data = {}\n",
        "\n",
        "# Counter to keep track of the number of processed lines\n",
        "i = 0\n",
        "\n",
        "# Open the file and read line by line\n",
        "with open('/content/drive/MyDrive/Colab Notebooks/train.ft.txt', 'r', encoding='utf-8') as file:\n",
        "    for line in file:\n",
        "        # Check if we have processed the desired number of lines\n",
        "        if i == NUMBER_OF_LINES:\n",
        "            break\n",
        "\n",
        "        # Determine the label based on the line prefix\n",
        "        label = 1 if line[:10] == \"__label__1\" else 2\n",
        "\n",
        "        # Extract the text, removing the label part\n",
        "        text = line[10:].strip() # Also strip to remove leading/trailing whitespaces\n",
        "\n",
        "        # Store the processed line in the dictionary\n",
        "        data[i] = {\"label\": label, \"text\": text}\n",
        "\n",
        "        # Increment the counter\n",
        "        i += 1\n",
        "\n",
        "# Convert the dictionary to a pandas DataFrame\n",
        "df = pd.DataFrame.from_dict(data, orient='index')\n",
        "df = df.reset_index().rename(columns={\"index\": \"Id\"})\n",
        "\n",
        "# Display the first few rows of the DataFrame to verify\n",
        "print(df.head())\n"
      ],
      "metadata": {
        "colab": {
          "base_uri": "https://localhost:8080/"
        },
        "id": "KBESUFYVHoJP",
        "outputId": "87fe54cd-73ab-41e2-8101-fdf8bad36afd"
      },
      "execution_count": 7,
      "outputs": [
        {
          "output_type": "stream",
          "name": "stdout",
          "text": [
            "   Id  label                                               text\n",
            "0   0      2  Stuning even for the non-gamer: This sound tra...\n",
            "1   1      2  The best soundtrack ever to anything.: I'm rea...\n",
            "2   2      2  Amazing!: This soundtrack is my favorite music...\n",
            "3   3      2  Excellent Soundtrack: I truly like this soundt...\n",
            "4   4      2  Remember, Pull Your Jaw Off The Floor After He...\n"
          ]
        }
      ]
    },
    {
      "cell_type": "code",
      "source": [
        "print(df.head(10))\n",
        "\n",
        "print(\"the shape of the data\", df.shape)\n",
        "\n",
        "print(\"unique labels\", df[\"label\"].unique())\n",
        "\n",
        "valueCounts = df[\"label\"].value_counts().sort_index()\n",
        "print(valueCounts)\n",
        "\n",
        "ax = valueCounts.plot(kind=\"bar\", title=\"Label distribution by count\", figsize=(12, 6))\n",
        "ax.set_xlabel(\"Label distribution\")\n",
        "plt.show()"
      ],
      "metadata": {
        "colab": {
          "base_uri": "https://localhost:8080/",
          "height": 845
        },
        "id": "NcvDZL_OJ7RR",
        "outputId": "b8e94a74-4868-4360-dbc7-58282e9fac6b"
      },
      "execution_count": 8,
      "outputs": [
        {
          "output_type": "stream",
          "name": "stdout",
          "text": [
            "   Id  label                                               text\n",
            "0   0      2  Stuning even for the non-gamer: This sound tra...\n",
            "1   1      2  The best soundtrack ever to anything.: I'm rea...\n",
            "2   2      2  Amazing!: This soundtrack is my favorite music...\n",
            "3   3      2  Excellent Soundtrack: I truly like this soundt...\n",
            "4   4      2  Remember, Pull Your Jaw Off The Floor After He...\n",
            "5   5      2  an absolute masterpiece: I am quite sure any o...\n",
            "6   6      1  Buyer beware: This is a self-published book, a...\n",
            "7   7      2  Glorious story: I loved Whisper of the wicked ...\n",
            "8   8      2  A FIVE STAR BOOK: I just finished reading Whis...\n",
            "9   9      2  Whispers of the Wicked Saints: This was a easy...\n",
            "the shape of the data (9000, 3)\n",
            "unique labels [2 1]\n",
            "1    4616\n",
            "2    4384\n",
            "Name: label, dtype: int64\n"
          ]
        },
        {
          "output_type": "display_data",
          "data": {
            "text/plain": [
              "<Figure size 1200x600 with 1 Axes>"
            ],
            "image/png": "[encoded data removed]"
          },
          "metadata": {}
        }
      ]
    },
    {
      "cell_type": "code",
      "source": [
        "import pandas as pd\n",
        "\n",
        "NUMBER_OF_LINES = 1000\n",
        "\n",
        "data = {}\n",
        "\n",
        "# Counter to keep track of the number of processed lines\n",
        "i = 0\n",
        "\n",
        "# Open the file and read line by line\n",
        "with open('/content/drive/MyDrive/Colab Notebooks/test.ft.txt', 'r', encoding='utf-8') as file:\n",
        "    for line in file:\n",
        "        # Check if we have processed the desired number of lines\n",
        "        if i == NUMBER_OF_LINES:\n",
        "            break\n",
        "\n",
        "        # Determine the label based on the line prefix\n",
        "        label = 1 if line[:10] == \"__label__1\" else 2\n",
        "\n",
        "        # Extract the text, removing the label part\n",
        "        text = line[10:].strip() # Also strip to remove leading/trailing whitespaces\n",
        "\n",
        "        # Store the processed line in the dictionary\n",
        "        data[i] = {\"label\": label, \"text\": text}\n",
        "\n",
        "        # Increment the counter\n",
        "        i += 1\n",
        "\n",
        "# Convert the dictionary to a pandas DataFrame\n",
        "test = pd.DataFrame.from_dict(data, orient='index')\n",
        "test = test.reset_index().rename(columns={\"index\": \"Id\"})\n",
        "\n",
        "# Display the first few rows of the DataFrame to verify\n",
        "print(test.head())\n"
      ],
      "metadata": {
        "colab": {
          "base_uri": "https://localhost:8080/"
        },
        "id": "l9FptGv_0gfj",
        "outputId": "a11ef274-7a29-40ee-8bd6-26bbf3f512a3"
      },
      "execution_count": 9,
      "outputs": [
        {
          "output_type": "stream",
          "name": "stdout",
          "text": [
            "   Id  label                                               text\n",
            "0   0      2  Great CD: My lovely Pat has one of the GREAT v...\n",
            "1   1      2  One of the best game music soundtracks - for a...\n",
            "2   2      1  Batteries died within a year ...: I bought thi...\n",
            "3   3      2  works fine, but Maha Energy is better: Check o...\n",
            "4   4      2  Great for the non-audiophile: Reviewed quite a...\n"
          ]
        }
      ]
    },
    {
      "cell_type": "markdown",
      "source": [
        "## 3. Semtiment prediction with RoBERTa transformer"
      ],
      "metadata": {
        "id": "azMQoz7aKFob"
      }
    },
    {
      "cell_type": "code",
      "source": [
        "# Pull the pretrained model from Huggingface\n",
        "modelName = \"cardiffnlp/twitter-roberta-base-sentiment\"\n",
        "# Initialise the token and the model for our defined model name\n",
        "myTokenizer = AutoTokenizer.from_pretrained(modelName, max_length=512)\n",
        "myModel = AutoModelForSequenceClassification.from_pretrained(modelName, max_length=512)"
      ],
      "metadata": {
        "colab": {
          "base_uri": "https://localhost:8080/",
          "height": 304,
          "referenced_widgets": [
            "0358177d369e42fdb008106b86eaa971",
            "20981d1180b74751a368b024c6899d7c",
            "c54d8e829d574986a02bfb14ce2500fd",
            "033ff9d0d08d461898391909914053b6",
            "3e2b6163eebb4b45a369e912139dc993",
            "314e6974057b4d0abb61cd5c75fa63fe",
            "cc4f5771a9d54abea6cfc5405c164882",
            "0878ee41a1b3464d913e0373efcdb423",
            "6be7ee90211c428fb31b0d37a545ce65",
            "a97a9c5ede294297a15efbc8a3f9d268",
            "739a28d95dd343a8b7cd088650021656",
            "ad956b506631457981175df13c21f2f9",
            "8f6f66ad9c9942feae3953f83bfa096d",
            "82bcfba4e12145da86272abf6242bc82",
            "a56d5a87a4c94f3ab4a0c3923f182159",
            "3e3f306551fe420bbde135239bbe161e",
            "ceb927fc94c940059bab8d01875487bf",
            "d5176fcc1db44e7d8893350e886e5f08",
            "59eb854dfaec45258844275702805108",
            "21490b580ab046879294f4b6c05796b5",
            "0173ad1ca9b348b188d94cb02a904702",
            "c1c2dd7b071d4c10b74b1f2eb2ce1c04",
            "fa3c22bed23b4cb0b0bffc0b422a0159",
            "0c686fa0b69546948ce997356e6c13c6",
            "5616ef3a9c3841b18725111bb603ed13",
            "05bfde36b49945feb38bb64b6d528686",
            "a732d6e648eb464da2ce5dbb34323aa6",
            "f7bee1140b404f4ab246a937125d2e42",
            "b2b684eb5ab44f8da7891f1541a3ff8c",
            "a48befac6c8f4db587ed1c1ec2bacb6c",
            "709366cc42224405a0ff97a5e6d894f8",
            "17353abeb5ab462195f3ee0098bdc09e",
            "0b8a233a7a2141d7b78338cd921ea490",
            "fd81a60d369e4cd3b6b4709350109f6b",
            "3b334c0ae6714b0184c59921d8a1f972",
            "7f0542d273af4712bf259be54c287b7b",
            "b5f5562844eb49eaae07c6717783a2fe",
            "ca3af91f92c042c5b38f33c4ca251bf3",
            "1efe3e9b89e142728c77858477bd9ffe",
            "66b8c32988a04eb2bb5fcb3c5e8f4cb1",
            "c22076844a5443db8385d32d261cf173",
            "cc779e46f96d41138591e5e2788b994b",
            "18520b8c755d47e5bb1c0a7769a34e35",
            "f864dcf9f5a1404aba69c042923ba39f",
            "8fe7b167f3c24057bc5d1f37fb3d3cb0",
            "35c56d5bdf3e46d1903c53afe132b2e9",
            "19b6972b4c114ad4a6568d33c64dd8de",
            "5435da8539364e50bae62bc548730d08",
            "e8d34c1f69c14398bdec80e179eaec49",
            "58be99a9abb3448e9d687ad3321bf1ef",
            "9eebc6f47ac5495d9b2072f144dd0249",
            "ec88e08e883c4a7e9bc892dda0fd3a8b",
            "e7180a59561940f9945e72eba39413af",
            "6bf8d2c107df43a286fcd520d0ede961",
            "1776a0a414734d699998285f74f515df"
          ]
        },
        "id": "j0lxKUYBlH-r",
        "outputId": "57011fc2-6c06-4ffa-e6f6-7741bc79fb7e"
      },
      "execution_count": 11,
      "outputs": [
        {
          "output_type": "stream",
          "name": "stderr",
          "text": [
            "/usr/local/lib/python3.10/dist-packages/huggingface_hub/utils/_token.py:88: UserWarning: \n",
            "The secret `HF_TOKEN` does not exist in your Colab secrets.\n",
            "To authenticate with the Hugging Face Hub, create a token in your settings tab (https://huggingface.co/settings/tokens), set it as secret in your Google Colab and restart your session.\n",
            "You will be able to reuse this secret in all of your notebooks.\n",
            "Please note that authentication is recommended but still optional to access public models or datasets.\n",
            "  warnings.warn(\n"
          ]
        },
        {
          "output_type": "display_data",
          "data": {
            "text/plain": [
              "config.json:   0%|          | 0.00/747 [00:00<?, ?B/s]"
            ],
            "application/vnd.jupyter.widget-view+json": {
              "version_major": 2,
              "version_minor": 0,
              "model_id": "0358177d369e42fdb008106b86eaa971"
            }
          },
          "metadata": {}
        },
        {
          "output_type": "display_data",
          "data": {
            "text/plain": [
              "vocab.json:   0%|          | 0.00/899k [00:00<?, ?B/s]"
            ],
            "application/vnd.jupyter.widget-view+json": {
              "version_major": 2,
              "version_minor": 0,
              "model_id": "ad956b506631457981175df13c21f2f9"
            }
          },
          "metadata": {}
        },
        {
          "output_type": "display_data",
          "data": {
            "text/plain": [
              "merges.txt:   0%|          | 0.00/456k [00:00<?, ?B/s]"
            ],
            "application/vnd.jupyter.widget-view+json": {
              "version_major": 2,
              "version_minor": 0,
              "model_id": "fa3c22bed23b4cb0b0bffc0b422a0159"
            }
          },
          "metadata": {}
        },
        {
          "output_type": "display_data",
          "data": {
            "text/plain": [
              "special_tokens_map.json:   0%|          | 0.00/150 [00:00<?, ?B/s]"
            ],
            "application/vnd.jupyter.widget-view+json": {
              "version_major": 2,
              "version_minor": 0,
              "model_id": "fd81a60d369e4cd3b6b4709350109f6b"
            }
          },
          "metadata": {}
        },
        {
          "output_type": "display_data",
          "data": {
            "text/plain": [
              "pytorch_model.bin:   0%|          | 0.00/499M [00:00<?, ?B/s]"
            ],
            "application/vnd.jupyter.widget-view+json": {
              "version_major": 2,
              "version_minor": 0,
              "model_id": "8fe7b167f3c24057bc5d1f37fb3d3cb0"
            }
          },
          "metadata": {}
        }
      ]
    },
    {
      "cell_type": "code",
      "source": [
        "# Apply on train set\n",
        "\n",
        "robertaResults = {} # initialized to store the sentiment analysis results\n",
        "\n",
        "# using a loop \"tqdm\" iterates over each row of the DataFrame \"df\"\n",
        "for i, row in tqdm(df.iterrows(), total=len(df)):\n",
        "    text = row[\"text\"]\n",
        "\n",
        "    \"\"\" first create the tokens from the input text,\n",
        "    return_tensors=\"pt\" means output should be PyTorch tensors,\n",
        "    and ensures that texts longer than 512 tokens are truncated\"\"\"\n",
        "\n",
        "    tokens = myTokenizer.__call__(text, return_tensors=\"pt\", max_length=512, truncation=True)\n",
        "\n",
        "    # next we apply the tokens to our model\n",
        "    out = myModel.__call__(**tokens)\n",
        "\n",
        "    \"\"\" get the actual scores from the tensors.\n",
        "    extracts the logits for the first and only input in the batch,\n",
        "    detaches them from the computation graph, and converts them to a NumPy array.\"\"\"\n",
        "    scores = out[0][0].detach().numpy()\n",
        "\n",
        "    \"\"\" applies the softmax function to the logits, converting them into probabilities.\n",
        "    there are three values negative, neutral, positive.\"\"\"\n",
        "    softScores = softmax(scores)\n",
        "\n",
        "    # create a map with the results\n",
        "    robertaScores = {\n",
        "        \"roberta_negative\": softScores[0],\n",
        "        \"roberta_neutral\": softScores[1],\n",
        "        \"roberta_positive\": softScores[2],\n",
        "        \"predicted_label\": 1 if softScores[0] > softScores[2] else 2\n",
        "    }\n",
        "\n",
        "    # add the local scores to all the results\n",
        "    robertaResults[i] = robertaScores\n",
        "\n",
        "# create a pandas data frame from the parsed map\n",
        "robertaDf = pd.DataFrame(robertaResults).T\n",
        "\n",
        "# merged with the original DataFrame df to align each text with its sentiment analysis results\n",
        "# resulting in sentimentDf\n",
        "robertaDf = robertaDf.reset_index().rename(columns= {\"index\": \"Id\"})\n",
        "\n",
        "sentimentDf = robertaDf.merge(df, how=\"left\")\n",
        "\n",
        "print(sentimentDf.head())"
      ],
      "metadata": {
        "colab": {
          "base_uri": "https://localhost:8080/"
        },
        "id": "yoinQK9ZE1rl",
        "outputId": "049e188c-b123-4160-b463-ffcdb54d6fff"
      },
      "execution_count": 14,
      "outputs": [
        {
          "output_type": "stream",
          "name": "stderr",
          "text": [
            "100%|██████████| 9000/9000 [58:40<00:00,  2.56it/s]"
          ]
        },
        {
          "output_type": "stream",
          "name": "stdout",
          "text": [
            "   Id  roberta_negative  roberta_neutral  roberta_positive  predicted_label  label                                               text\n",
            "0   0          0.003296         0.014339          0.982364              2.0      2  Stuning even for the non-gamer: This sound tra...\n",
            "1   1          0.008890         0.053305          0.937805              2.0      2  The best soundtrack ever to anything.: I'm rea...\n",
            "2   2          0.003940         0.021520          0.974540              2.0      2  Amazing!: This soundtrack is my favorite music...\n",
            "3   3          0.001481         0.027240          0.971279              2.0      2  Excellent Soundtrack: I truly like this soundt...\n",
            "4   4          0.001758         0.016666          0.981577              2.0      2  Remember, Pull Your Jaw Off The Floor After He...\n"
          ]
        },
        {
          "output_type": "stream",
          "name": "stderr",
          "text": [
            "\n"
          ]
        }
      ]
    },
    {
      "cell_type": "code",
      "source": [
        "fig, axs = plt.subplots(1, 2, figsize=(12, 3))\n",
        "sns.barplot(data=sentimentDf, x='label', y='roberta_positive', ax=axs[0])\n",
        "sns.barplot(data=sentimentDf, x='label', y='roberta_negative', ax=axs[1])\n",
        "axs[0].set_title('Positive')\n",
        "axs[1].set_title('Negative')\n",
        "plt.tight_layout()\n",
        "plt.show()"
      ],
      "metadata": {
        "colab": {
          "base_uri": "https://localhost:8080/",
          "height": 307
        },
        "id": "FbbSUb0CKUj7",
        "outputId": "ca172d95-01a7-4c1e-e74b-00e239cc0b33"
      },
      "execution_count": 9,
      "outputs": [
        {
          "output_type": "display_data",
          "data": {
            "text/plain": [
              "<Figure size 1200x300 with 2 Axes>"
            ],
            "image/png": "[encoded data removed]"
          },
          "metadata": {}
        }
      ]
    },
    {
      "cell_type": "code",
      "source": [
        "# Apply RoBERTa on test set\n",
        "\n",
        "from tqdm import tqdm\n",
        "import pandas as pd\n",
        "from scipy.special import softmax\n",
        "\n",
        "robertaTestResults = {}  # Initialize to store the sentiment analysis results for the test set\n",
        "\n",
        "for i, row in tqdm(test.iterrows(), total=len(test)):\n",
        "    text = row[\"text\"]\n",
        "\n",
        "    # Tokenize the text\n",
        "    tokens = myTokenizer(text, return_tensors=\"pt\", max_length=512, truncation=True)\n",
        "\n",
        "    # Apply the tokens to the RoBERTa model\n",
        "    out = myModel(**tokens)\n",
        "\n",
        "    # Get the scores and convert to probabilities\n",
        "    scores = out.logits[0].detach().numpy()  # Updated to use logits for clarity\n",
        "    softScores = softmax(scores)\n",
        "\n",
        "    # Map the results\n",
        "    robertaScores = {\n",
        "        \"roberta_negative\": softScores[0],\n",
        "        \"roberta_neutral\": softScores[1],\n",
        "        \"roberta_positive\": softScores[2],\n",
        "        \"predicted_label\": 1 if softScores[0] > softScores[2] else 2\n",
        "    }\n",
        "\n",
        "    # Add to the results\n",
        "    robertaTestResults[i] = robertaScores\n",
        "\n",
        "# Convert the results to a DataFrame\n",
        "robertaTestDf = pd.DataFrame(robertaTestResults).T\n",
        "\n",
        "# If your test DataFrame has an index or ID column that you'd like to maintain, adjust accordingly\n",
        "robertaTestDf = robertaTestDf.reset_index().rename(columns={\"index\": \"Id\"})\n",
        "\n",
        "# Merge with the original test DataFrame to align each text with its sentiment analysis results\n",
        "sentimentTestDf = robertaTestDf.merge(test, how=\"left\", on=\"Id\")\n",
        "\n",
        "print(sentimentTestDf.head())\n"
      ],
      "metadata": {
        "colab": {
          "base_uri": "https://localhost:8080/"
        },
        "id": "9a46W5Ob5wZH",
        "outputId": "578c45a1-a1f4-4989-80c5-f71cfc38bd38"
      },
      "execution_count": 12,
      "outputs": [
        {
          "output_type": "stream",
          "name": "stderr",
          "text": [
            "100%|██████████| 1000/1000 [06:56<00:00,  2.40it/s]"
          ]
        },
        {
          "output_type": "stream",
          "name": "stdout",
          "text": [
            "   Id  roberta_negative  roberta_neutral  roberta_positive  predicted_label  label                                               text\n",
            "0   0          0.005815         0.024149          0.970036              2.0      2  Great CD: My lovely Pat has one of the GREAT v...\n",
            "1   1          0.040374         0.114920          0.844705              2.0      2  One of the best game music soundtracks - for a...\n",
            "2   2          0.320658         0.420270          0.259072              1.0      1  Batteries died within a year ...: I bought thi...\n",
            "3   3          0.006435         0.099892          0.893673              2.0      2  works fine, but Maha Energy is better: Check o...\n",
            "4   4          0.076798         0.252621          0.670581              2.0      2  Great for the non-audiophile: Reviewed quite a...\n"
          ]
        },
        {
          "output_type": "stream",
          "name": "stderr",
          "text": [
            "\n"
          ]
        }
      ]
    },
    {
      "cell_type": "code",
      "source": [
        "fig, axs = plt.subplots(1, 2, figsize=(12, 3))\n",
        "sns.barplot(data=sentimentTestDf, x='label', y='roberta_positive', ax=axs[0])\n",
        "sns.barplot(data=sentimentTestDf, x='label', y='roberta_negative', ax=axs[1])\n",
        "axs[0].set_title('Positive')\n",
        "axs[1].set_title('Negative')\n",
        "plt.tight_layout()\n",
        "plt.show()"
      ],
      "metadata": {
        "colab": {
          "base_uri": "https://localhost:8080/",
          "height": 307
        },
        "id": "W3tDI1iHMKoW",
        "outputId": "378a1fcf-16d0-43df-de21-aa4b613c8d74"
      },
      "execution_count": 22,
      "outputs": [
        {
          "output_type": "display_data",
          "data": {
            "text/plain": [
              "<Figure size 1200x300 with 2 Axes>"
            ],
            "image/png": "[encoded data removed]"
          },
          "metadata": {}
        }
      ]
    },
    {
      "cell_type": "code",
      "source": [
        "correct = 0\n",
        "\n",
        "for i, row in sentimentDf.iterrows():\n",
        "\n",
        "    if row[\"label\"] == int(row[\"predicted_label\"]):\n",
        "        correct += 1\n",
        "\n",
        "\n",
        "accuracy = correct / len(sentimentDf)\n",
        "print(f\"Accuracy is {accuracy}\")\n"
      ],
      "metadata": {
        "colab": {
          "base_uri": "https://localhost:8080/"
        },
        "id": "Ti3nzQNGKrmU",
        "outputId": "50e1d0b9-4d58-4849-ee7c-2f323142eade"
      },
      "execution_count": 15,
      "outputs": [
        {
          "output_type": "stream",
          "name": "stdout",
          "text": [
            "Accuracy is 0.8952222222222223\n"
          ]
        }
      ]
    },
    {
      "cell_type": "code",
      "source": [
        "actual_labels = test[\"label\"].astype(int)  # Make sure this column exists in your test DataFrame\n",
        "predicted_labels = sentimentTestDf[\"predicted_label\"].astype(int)  # Assuming sentimentTestDf contains predictions for the test set"
      ],
      "metadata": {
        "id": "sdvqi4GJnvAZ"
      },
      "execution_count": 18,
      "outputs": []
    },
    {
      "cell_type": "code",
      "source": [
        "from sklearn.metrics import precision_score, recall_score, f1_score, confusion_matrix\n",
        "\n",
        "precision = precision_score(actual_labels, predicted_labels)\n",
        "recall = recall_score(actual_labels, predicted_labels)\n",
        "f1 = f1_score(actual_labels, predicted_labels)\n",
        "\n",
        "# To calculate specificity, first get the confusion matrix\n",
        "tn, fp, fn, tp = confusion_matrix(actual_labels, predicted_labels).ravel()\n",
        "\n",
        "# Specificity (also called True Negative Rate)\n",
        "specificity = tn / (tn + fp)\n",
        "\n",
        "print(f\"Precision: {precision}\")\n",
        "print(f\"Recall: {recall}\")\n",
        "print(f\"F1 Score: {f1}\")\n"
      ],
      "metadata": {
        "colab": {
          "base_uri": "https://localhost:8080/"
        },
        "id": "L16407Acshdj",
        "outputId": "81088546-d25a-4ce0-dd5a-2c58858d8eee"
      },
      "execution_count": 23,
      "outputs": [
        {
          "output_type": "stream",
          "name": "stdout",
          "text": [
            "Precision: 0.8888888888888888\n",
            "Recall: 0.8674698795180723\n",
            "F1 Score: 0.8780487804878048\n"
          ]
        }
      ]
    }
  ]
}