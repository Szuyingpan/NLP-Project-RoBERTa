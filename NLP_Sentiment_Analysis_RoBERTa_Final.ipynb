{
  "nbformat": 4,
  "nbformat_minor": 0,
  "metadata": {
    "colab": {
      "provenance": [],
      "gpuType": "T4",
      "authorship_tag": "ABX9TyMdOxgu+XkNndq755aZ+TXW",
      "include_colab_link": true
    },
    "kernelspec": {
      "name": "python3",
      "display_name": "Python 3"
    },
    "language_info": {
      "name": "python"
    },
    "widgets": {
      "application/vnd.jupyter.widget-state+json": {
        "7d1961ffde014801a1fe1f1f85143897": {
          "model_module": "@jupyter-widgets/controls",
          "model_name": "HBoxModel",
          "model_module_version": "1.5.0",
          "state": {
            "_dom_classes": [],
            "_model_module": "@jupyter-widgets/controls",
            "_model_module_version": "1.5.0",
            "_model_name": "HBoxModel",
            "_view_count": null,
            "_view_module": "@jupyter-widgets/controls",
            "_view_module_version": "1.5.0",
            "_view_name": "HBoxView",
            "box_style": "",
            "children": [
              "IPY_MODEL_63d2de42cfed404b8ef6b8840410e62c",
              "IPY_MODEL_a39699399a9545caa64c4c01bc8526d5",
              "IPY_MODEL_f9be67e9d6c640108e981b2d22d5990c"
            ],
            "layout": "IPY_MODEL_e82f61c6d8834d04892159b195239041"
          }
        },
        "63d2de42cfed404b8ef6b8840410e62c": {
          "model_module": "@jupyter-widgets/controls",
          "model_name": "HTMLModel",
          "model_module_version": "1.5.0",
          "state": {
            "_dom_classes": [],
            "_model_module": "@jupyter-widgets/controls",
            "_model_module_version": "1.5.0",
            "_model_name": "HTMLModel",
            "_view_count": null,
            "_view_module": "@jupyter-widgets/controls",
            "_view_module_version": "1.5.0",
            "_view_name": "HTMLView",
            "description": "",
            "description_tooltip": null,
            "layout": "IPY_MODEL_729c246516c34c83ad6ab0849e0e8ea0",
            "placeholder": "​",
            "style": "IPY_MODEL_489cee8407e6439a9f458baaac7e38e9",
            "value": "config.json: 100%"
          }
        },
        "a39699399a9545caa64c4c01bc8526d5": {
          "model_module": "@jupyter-widgets/controls",
          "model_name": "FloatProgressModel",
          "model_module_version": "1.5.0",
          "state": {
            "_dom_classes": [],
            "_model_module": "@jupyter-widgets/controls",
            "_model_module_version": "1.5.0",
            "_model_name": "FloatProgressModel",
            "_view_count": null,
            "_view_module": "@jupyter-widgets/controls",
            "_view_module_version": "1.5.0",
            "_view_name": "ProgressView",
            "bar_style": "success",
            "description": "",
            "description_tooltip": null,
            "layout": "IPY_MODEL_0daf02e9f8ec4ed2af9d1464325d16bd",
            "max": 747,
            "min": 0,
            "orientation": "horizontal",
            "style": "IPY_MODEL_163b5c0665464157b82a41db79bd294e",
            "value": 747
          }
        },
        "f9be67e9d6c640108e981b2d22d5990c": {
          "model_module": "@jupyter-widgets/controls",
          "model_name": "HTMLModel",
          "model_module_version": "1.5.0",
          "state": {
            "_dom_classes": [],
            "_model_module": "@jupyter-widgets/controls",
            "_model_module_version": "1.5.0",
            "_model_name": "HTMLModel",
            "_view_count": null,
            "_view_module": "@jupyter-widgets/controls",
            "_view_module_version": "1.5.0",
            "_view_name": "HTMLView",
            "description": "",
            "description_tooltip": null,
            "layout": "IPY_MODEL_5d7d06e500ad48fdbc74f5731c4e43b8",
            "placeholder": "​",
            "style": "IPY_MODEL_852eff182f29436893d1401fa9719d38",
            "value": " 747/747 [00:00&lt;00:00, 35.5kB/s]"
          }
        },
        "e82f61c6d8834d04892159b195239041": {
          "model_module": "@jupyter-widgets/base",
          "model_name": "LayoutModel",
          "model_module_version": "1.2.0",
          "state": {
            "_model_module": "@jupyter-widgets/base",
            "_model_module_version": "1.2.0",
            "_model_name": "LayoutModel",
            "_view_count": null,
            "_view_module": "@jupyter-widgets/base",
            "_view_module_version": "1.2.0",
            "_view_name": "LayoutView",
            "align_content": null,
            "align_items": null,
            "align_self": null,
            "border": null,
            "bottom": null,
            "display": null,
            "flex": null,
            "flex_flow": null,
            "grid_area": null,
            "grid_auto_columns": null,
            "grid_auto_flow": null,
            "grid_auto_rows": null,
            "grid_column": null,
            "grid_gap": null,
            "grid_row": null,
            "grid_template_areas": null,
            "grid_template_columns": null,
            "grid_template_rows": null,
            "height": null,
            "justify_content": null,
            "justify_items": null,
            "left": null,
            "margin": null,
            "max_height": null,
            "max_width": null,
            "min_height": null,
            "min_width": null,
            "object_fit": null,
            "object_position": null,
            "order": null,
            "overflow": null,
            "overflow_x": null,
            "overflow_y": null,
            "padding": null,
            "right": null,
            "top": null,
            "visibility": null,
            "width": null
          }
        },
        "729c246516c34c83ad6ab0849e0e8ea0": {
          "model_module": "@jupyter-widgets/base",
          "model_name": "LayoutModel",
          "model_module_version": "1.2.0",
          "state": {
            "_model_module": "@jupyter-widgets/base",
            "_model_module_version": "1.2.0",
            "_model_name": "LayoutModel",
            "_view_count": null,
            "_view_module": "@jupyter-widgets/base",
            "_view_module_version": "1.2.0",
            "_view_name": "LayoutView",
            "align_content": null,
            "align_items": null,
            "align_self": null,
            "border": null,
            "bottom": null,
            "display": null,
            "flex": null,
            "flex_flow": null,
            "grid_area": null,
            "grid_auto_columns": null,
            "grid_auto_flow": null,
            "grid_auto_rows": null,
            "grid_column": null,
            "grid_gap": null,
            "grid_row": null,
            "grid_template_areas": null,
            "grid_template_columns": null,
            "grid_template_rows": null,
            "height": null,
            "justify_content": null,
            "justify_items": null,
            "left": null,
            "margin": null,
            "max_height": null,
            "max_width": null,
            "min_height": null,
            "min_width": null,
            "object_fit": null,
            "object_position": null,
            "order": null,
            "overflow": null,
            "overflow_x": null,
            "overflow_y": null,
            "padding": null,
            "right": null,
            "top": null,
            "visibility": null,
            "width": null
          }
        },
        "489cee8407e6439a9f458baaac7e38e9": {
          "model_module": "@jupyter-widgets/controls",
          "model_name": "DescriptionStyleModel",
          "model_module_version": "1.5.0",
          "state": {
            "_model_module": "@jupyter-widgets/controls",
            "_model_module_version": "1.5.0",
            "_model_name": "DescriptionStyleModel",
            "_view_count": null,
            "_view_module": "@jupyter-widgets/base",
            "_view_module_version": "1.2.0",
            "_view_name": "StyleView",
            "description_width": ""
          }
        },
        "0daf02e9f8ec4ed2af9d1464325d16bd": {
          "model_module": "@jupyter-widgets/base",
          "model_name": "LayoutModel",
          "model_module_version": "1.2.0",
          "state": {
            "_model_module": "@jupyter-widgets/base",
            "_model_module_version": "1.2.0",
            "_model_name": "LayoutModel",
            "_view_count": null,
            "_view_module": "@jupyter-widgets/base",
            "_view_module_version": "1.2.0",
            "_view_name": "LayoutView",
            "align_content": null,
            "align_items": null,
            "align_self": null,
            "border": null,
            "bottom": null,
            "display": null,
            "flex": null,
            "flex_flow": null,
            "grid_area": null,
            "grid_auto_columns": null,
            "grid_auto_flow": null,
            "grid_auto_rows": null,
            "grid_column": null,
            "grid_gap": null,
            "grid_row": null,
            "grid_template_areas": null,
            "grid_template_columns": null,
            "grid_template_rows": null,
            "height": null,
            "justify_content": null,
            "justify_items": null,
            "left": null,
            "margin": null,
            "max_height": null,
            "max_width": null,
            "min_height": null,
            "min_width": null,
            "object_fit": null,
            "object_position": null,
            "order": null,
            "overflow": null,
            "overflow_x": null,
            "overflow_y": null,
            "padding": null,
            "right": null,
            "top": null,
            "visibility": null,
            "width": null
          }
        },
        "163b5c0665464157b82a41db79bd294e": {
          "model_module": "@jupyter-widgets/controls",
          "model_name": "ProgressStyleModel",
          "model_module_version": "1.5.0",
          "state": {
            "_model_module": "@jupyter-widgets/controls",
            "_model_module_version": "1.5.0",
            "_model_name": "ProgressStyleModel",
            "_view_count": null,
            "_view_module": "@jupyter-widgets/base",
            "_view_module_version": "1.2.0",
            "_view_name": "StyleView",
            "bar_color": null,
            "description_width": ""
          }
        },
        "5d7d06e500ad48fdbc74f5731c4e43b8": {
          "model_module": "@jupyter-widgets/base",
          "model_name": "LayoutModel",
          "model_module_version": "1.2.0",
          "state": {
            "_model_module": "@jupyter-widgets/base",
            "_model_module_version": "1.2.0",
            "_model_name": "LayoutModel",
            "_view_count": null,
            "_view_module": "@jupyter-widgets/base",
            "_view_module_version": "1.2.0",
            "_view_name": "LayoutView",
            "align_content": null,
            "align_items": null,
            "align_self": null,
            "border": null,
            "bottom": null,
            "display": null,
            "flex": null,
            "flex_flow": null,
            "grid_area": null,
            "grid_auto_columns": null,
            "grid_auto_flow": null,
            "grid_auto_rows": null,
            "grid_column": null,
            "grid_gap": null,
            "grid_row": null,
            "grid_template_areas": null,
            "grid_template_columns": null,
            "grid_template_rows": null,
            "height": null,
            "justify_content": null,
            "justify_items": null,
            "left": null,
            "margin": null,
            "max_height": null,
            "max_width": null,
            "min_height": null,
            "min_width": null,
            "object_fit": null,
            "object_position": null,
            "order": null,
            "overflow": null,
            "overflow_x": null,
            "overflow_y": null,
            "padding": null,
            "right": null,
            "top": null,
            "visibility": null,
            "width": null
          }
        },
        "852eff182f29436893d1401fa9719d38": {
          "model_module": "@jupyter-widgets/controls",
          "model_name": "DescriptionStyleModel",
          "model_module_version": "1.5.0",
          "state": {
            "_model_module": "@jupyter-widgets/controls",
            "_model_module_version": "1.5.0",
            "_model_name": "DescriptionStyleModel",
            "_view_count": null,
            "_view_module": "@jupyter-widgets/base",
            "_view_module_version": "1.2.0",
            "_view_name": "StyleView",
            "description_width": ""
          }
        },
        "ce7548626f3d41dea5d76a1abc4a8f9b": {
          "model_module": "@jupyter-widgets/controls",
          "model_name": "HBoxModel",
          "model_module_version": "1.5.0",
          "state": {
            "_dom_classes": [],
            "_model_module": "@jupyter-widgets/controls",
            "_model_module_version": "1.5.0",
            "_model_name": "HBoxModel",
            "_view_count": null,
            "_view_module": "@jupyter-widgets/controls",
            "_view_module_version": "1.5.0",
            "_view_name": "HBoxView",
            "box_style": "",
            "children": [
              "IPY_MODEL_9b2fe365b0a6497fa4e00bec8f88b31e",
              "IPY_MODEL_94675ae7979445b5b9b5cdf711c1b42c",
              "IPY_MODEL_b3a94a581c8647a993cddfed43ec60db"
            ],
            "layout": "IPY_MODEL_1fe44fd0962a40d885b31e54cd27655f"
          }
        },
        "9b2fe365b0a6497fa4e00bec8f88b31e": {
          "model_module": "@jupyter-widgets/controls",
          "model_name": "HTMLModel",
          "model_module_version": "1.5.0",
          "state": {
            "_dom_classes": [],
            "_model_module": "@jupyter-widgets/controls",
            "_model_module_version": "1.5.0",
            "_model_name": "HTMLModel",
            "_view_count": null,
            "_view_module": "@jupyter-widgets/controls",
            "_view_module_version": "1.5.0",
            "_view_name": "HTMLView",
            "description": "",
            "description_tooltip": null,
            "layout": "IPY_MODEL_bfce5ee6fa894051adb967c7fcba3c47",
            "placeholder": "​",
            "style": "IPY_MODEL_334a372c37704939a97df41288e9a5b6",
            "value": "vocab.json: 100%"
          }
        },
        "94675ae7979445b5b9b5cdf711c1b42c": {
          "model_module": "@jupyter-widgets/controls",
          "model_name": "FloatProgressModel",
          "model_module_version": "1.5.0",
          "state": {
            "_dom_classes": [],
            "_model_module": "@jupyter-widgets/controls",
            "_model_module_version": "1.5.0",
            "_model_name": "FloatProgressModel",
            "_view_count": null,
            "_view_module": "@jupyter-widgets/controls",
            "_view_module_version": "1.5.0",
            "_view_name": "ProgressView",
            "bar_style": "success",
            "description": "",
            "description_tooltip": null,
            "layout": "IPY_MODEL_d0a2f83efc054f87917659deb7724268",
            "max": 898822,
            "min": 0,
            "orientation": "horizontal",
            "style": "IPY_MODEL_8f8eaa4d13b44b24a51a5a83dfe3a68e",
            "value": 898822
          }
        },
        "b3a94a581c8647a993cddfed43ec60db": {
          "model_module": "@jupyter-widgets/controls",
          "model_name": "HTMLModel",
          "model_module_version": "1.5.0",
          "state": {
            "_dom_classes": [],
            "_model_module": "@jupyter-widgets/controls",
            "_model_module_version": "1.5.0",
            "_model_name": "HTMLModel",
            "_view_count": null,
            "_view_module": "@jupyter-widgets/controls",
            "_view_module_version": "1.5.0",
            "_view_name": "HTMLView",
            "description": "",
            "description_tooltip": null,
            "layout": "IPY_MODEL_d5de310701d4428eb159ec04a499edb5",
            "placeholder": "​",
            "style": "IPY_MODEL_24d56c4ed9834f5683539e6e4c9f90b0",
            "value": " 899k/899k [00:00&lt;00:00, 12.5MB/s]"
          }
        },
        "1fe44fd0962a40d885b31e54cd27655f": {
          "model_module": "@jupyter-widgets/base",
          "model_name": "LayoutModel",
          "model_module_version": "1.2.0",
          "state": {
            "_model_module": "@jupyter-widgets/base",
            "_model_module_version": "1.2.0",
            "_model_name": "LayoutModel",
            "_view_count": null,
            "_view_module": "@jupyter-widgets/base",
            "_view_module_version": "1.2.0",
            "_view_name": "LayoutView",
            "align_content": null,
            "align_items": null,
            "align_self": null,
            "border": null,
            "bottom": null,
            "display": null,
            "flex": null,
            "flex_flow": null,
            "grid_area": null,
            "grid_auto_columns": null,
            "grid_auto_flow": null,
            "grid_auto_rows": null,
            "grid_column": null,
            "grid_gap": null,
            "grid_row": null,
            "grid_template_areas": null,
            "grid_template_columns": null,
            "grid_template_rows": null,
            "height": null,
            "justify_content": null,
            "justify_items": null,
            "left": null,
            "margin": null,
            "max_height": null,
            "max_width": null,
            "min_height": null,
            "min_width": null,
            "object_fit": null,
            "object_position": null,
            "order": null,
            "overflow": null,
            "overflow_x": null,
            "overflow_y": null,
            "padding": null,
            "right": null,
            "top": null,
            "visibility": null,
            "width": null
          }
        },
        "bfce5ee6fa894051adb967c7fcba3c47": {
          "model_module": "@jupyter-widgets/base",
          "model_name": "LayoutModel",
          "model_module_version": "1.2.0",
          "state": {
            "_model_module": "@jupyter-widgets/base",
            "_model_module_version": "1.2.0",
            "_model_name": "LayoutModel",
            "_view_count": null,
            "_view_module": "@jupyter-widgets/base",
            "_view_module_version": "1.2.0",
            "_view_name": "LayoutView",
            "align_content": null,
            "align_items": null,
            "align_self": null,
            "border": null,
            "bottom": null,
            "display": null,
            "flex": null,
            "flex_flow": null,
            "grid_area": null,
            "grid_auto_columns": null,
            "grid_auto_flow": null,
            "grid_auto_rows": null,
            "grid_column": null,
            "grid_gap": null,
            "grid_row": null,
            "grid_template_areas": null,
            "grid_template_columns": null,
            "grid_template_rows": null,
            "height": null,
            "justify_content": null,
            "justify_items": null,
            "left": null,
            "margin": null,
            "max_height": null,
            "max_width": null,
            "min_height": null,
            "min_width": null,
            "object_fit": null,
            "object_position": null,
            "order": null,
            "overflow": null,
            "overflow_x": null,
            "overflow_y": null,
            "padding": null,
            "right": null,
            "top": null,
            "visibility": null,
            "width": null
          }
        },
        "334a372c37704939a97df41288e9a5b6": {
          "model_module": "@jupyter-widgets/controls",
          "model_name": "DescriptionStyleModel",
          "model_module_version": "1.5.0",
          "state": {
            "_model_module": "@jupyter-widgets/controls",
            "_model_module_version": "1.5.0",
            "_model_name": "DescriptionStyleModel",
            "_view_count": null,
            "_view_module": "@jupyter-widgets/base",
            "_view_module_version": "1.2.0",
            "_view_name": "StyleView",
            "description_width": ""
          }
        },
        "d0a2f83efc054f87917659deb7724268": {
          "model_module": "@jupyter-widgets/base",
          "model_name": "LayoutModel",
          "model_module_version": "1.2.0",
          "state": {
            "_model_module": "@jupyter-widgets/base",
            "_model_module_version": "1.2.0",
            "_model_name": "LayoutModel",
            "_view_count": null,
            "_view_module": "@jupyter-widgets/base",
            "_view_module_version": "1.2.0",
            "_view_name": "LayoutView",
            "align_content": null,
            "align_items": null,
            "align_self": null,
            "border": null,
            "bottom": null,
            "display": null,
            "flex": null,
            "flex_flow": null,
            "grid_area": null,
            "grid_auto_columns": null,
            "grid_auto_flow": null,
            "grid_auto_rows": null,
            "grid_column": null,
            "grid_gap": null,
            "grid_row": null,
            "grid_template_areas": null,
            "grid_template_columns": null,
            "grid_template_rows": null,
            "height": null,
            "justify_content": null,
            "justify_items": null,
            "left": null,
            "margin": null,
            "max_height": null,
            "max_width": null,
            "min_height": null,
            "min_width": null,
            "object_fit": null,
            "object_position": null,
            "order": null,
            "overflow": null,
            "overflow_x": null,
            "overflow_y": null,
            "padding": null,
            "right": null,
            "top": null,
            "visibility": null,
            "width": null
          }
        },
        "8f8eaa4d13b44b24a51a5a83dfe3a68e": {
          "model_module": "@jupyter-widgets/controls",
          "model_name": "ProgressStyleModel",
          "model_module_version": "1.5.0",
          "state": {
            "_model_module": "@jupyter-widgets/controls",
            "_model_module_version": "1.5.0",
            "_model_name": "ProgressStyleModel",
            "_view_count": null,
            "_view_module": "@jupyter-widgets/base",
            "_view_module_version": "1.2.0",
            "_view_name": "StyleView",
            "bar_color": null,
            "description_width": ""
          }
        },
        "d5de310701d4428eb159ec04a499edb5": {
          "model_module": "@jupyter-widgets/base",
          "model_name": "LayoutModel",
          "model_module_version": "1.2.0",
          "state": {
            "_model_module": "@jupyter-widgets/base",
            "_model_module_version": "1.2.0",
            "_model_name": "LayoutModel",
            "_view_count": null,
            "_view_module": "@jupyter-widgets/base",
            "_view_module_version": "1.2.0",
            "_view_name": "LayoutView",
            "align_content": null,
            "align_items": null,
            "align_self": null,
            "border": null,
            "bottom": null,
            "display": null,
            "flex": null,
            "flex_flow": null,
            "grid_area": null,
            "grid_auto_columns": null,
            "grid_auto_flow": null,
            "grid_auto_rows": null,
            "grid_column": null,
            "grid_gap": null,
            "grid_row": null,
            "grid_template_areas": null,
            "grid_template_columns": null,
            "grid_template_rows": null,
            "height": null,
            "justify_content": null,
            "justify_items": null,
            "left": null,
            "margin": null,
            "max_height": null,
            "max_width": null,
            "min_height": null,
            "min_width": null,
            "object_fit": null,
            "object_position": null,
            "order": null,
            "overflow": null,
            "overflow_x": null,
            "overflow_y": null,
            "padding": null,
            "right": null,
            "top": null,
            "visibility": null,
            "width": null
          }
        },
        "24d56c4ed9834f5683539e6e4c9f90b0": {
          "model_module": "@jupyter-widgets/controls",
          "model_name": "DescriptionStyleModel",
          "model_module_version": "1.5.0",
          "state": {
            "_model_module": "@jupyter-widgets/controls",
            "_model_module_version": "1.5.0",
            "_model_name": "DescriptionStyleModel",
            "_view_count": null,
            "_view_module": "@jupyter-widgets/base",
            "_view_module_version": "1.2.0",
            "_view_name": "StyleView",
            "description_width": ""
          }
        },
        "8336c07a006e458eab021d23a2ee152b": {
          "model_module": "@jupyter-widgets/controls",
          "model_name": "HBoxModel",
          "model_module_version": "1.5.0",
          "state": {
            "_dom_classes": [],
            "_model_module": "@jupyter-widgets/controls",
            "_model_module_version": "1.5.0",
            "_model_name": "HBoxModel",
            "_view_count": null,
            "_view_module": "@jupyter-widgets/controls",
            "_view_module_version": "1.5.0",
            "_view_name": "HBoxView",
            "box_style": "",
            "children": [
              "IPY_MODEL_7e8388662a5648b1a365269e6e29948c",
              "IPY_MODEL_c5abd4ec3b6a4e1a9a8772b6a491fdb3",
              "IPY_MODEL_ba95d35f7bb848b7bd21514105b14e3d"
            ],
            "layout": "IPY_MODEL_33dff84e11814e2c8d66d4b904fd2f64"
          }
        },
        "7e8388662a5648b1a365269e6e29948c": {
          "model_module": "@jupyter-widgets/controls",
          "model_name": "HTMLModel",
          "model_module_version": "1.5.0",
          "state": {
            "_dom_classes": [],
            "_model_module": "@jupyter-widgets/controls",
            "_model_module_version": "1.5.0",
            "_model_name": "HTMLModel",
            "_view_count": null,
            "_view_module": "@jupyter-widgets/controls",
            "_view_module_version": "1.5.0",
            "_view_name": "HTMLView",
            "description": "",
            "description_tooltip": null,
            "layout": "IPY_MODEL_5b3cefecf44d4b7d93c7ef9a3509b3a9",
            "placeholder": "​",
            "style": "IPY_MODEL_a234f58d18e54591acea0cb0a89c6d0d",
            "value": "merges.txt: 100%"
          }
        },
        "c5abd4ec3b6a4e1a9a8772b6a491fdb3": {
          "model_module": "@jupyter-widgets/controls",
          "model_name": "FloatProgressModel",
          "model_module_version": "1.5.0",
          "state": {
            "_dom_classes": [],
            "_model_module": "@jupyter-widgets/controls",
            "_model_module_version": "1.5.0",
            "_model_name": "FloatProgressModel",
            "_view_count": null,
            "_view_module": "@jupyter-widgets/controls",
            "_view_module_version": "1.5.0",
            "_view_name": "ProgressView",
            "bar_style": "success",
            "description": "",
            "description_tooltip": null,
            "layout": "IPY_MODEL_7bf3a691643a49babe74bb38d957e2be",
            "max": 456318,
            "min": 0,
            "orientation": "horizontal",
            "style": "IPY_MODEL_31efdf4438fd486eaeb17b746705a3e5",
            "value": 456318
          }
        },
        "ba95d35f7bb848b7bd21514105b14e3d": {
          "model_module": "@jupyter-widgets/controls",
          "model_name": "HTMLModel",
          "model_module_version": "1.5.0",
          "state": {
            "_dom_classes": [],
            "_model_module": "@jupyter-widgets/controls",
            "_model_module_version": "1.5.0",
            "_model_name": "HTMLModel",
            "_view_count": null,
            "_view_module": "@jupyter-widgets/controls",
            "_view_module_version": "1.5.0",
            "_view_name": "HTMLView",
            "description": "",
            "description_tooltip": null,
            "layout": "IPY_MODEL_7bffe50fa02d462aa00a7d24dedb7b10",
            "placeholder": "​",
            "style": "IPY_MODEL_d06a247eae424a83b87f8a767a0bd89b",
            "value": " 456k/456k [00:00&lt;00:00, 22.9MB/s]"
          }
        },
        "33dff84e11814e2c8d66d4b904fd2f64": {
          "model_module": "@jupyter-widgets/base",
          "model_name": "LayoutModel",
          "model_module_version": "1.2.0",
          "state": {
            "_model_module": "@jupyter-widgets/base",
            "_model_module_version": "1.2.0",
            "_model_name": "LayoutModel",
            "_view_count": null,
            "_view_module": "@jupyter-widgets/base",
            "_view_module_version": "1.2.0",
            "_view_name": "LayoutView",
            "align_content": null,
            "align_items": null,
            "align_self": null,
            "border": null,
            "bottom": null,
            "display": null,
            "flex": null,
            "flex_flow": null,
            "grid_area": null,
            "grid_auto_columns": null,
            "grid_auto_flow": null,
            "grid_auto_rows": null,
            "grid_column": null,
            "grid_gap": null,
            "grid_row": null,
            "grid_template_areas": null,
            "grid_template_columns": null,
            "grid_template_rows": null,
            "height": null,
            "justify_content": null,
            "justify_items": null,
            "left": null,
            "margin": null,
            "max_height": null,
            "max_width": null,
            "min_height": null,
            "min_width": null,
            "object_fit": null,
            "object_position": null,
            "order": null,
            "overflow": null,
            "overflow_x": null,
            "overflow_y": null,
            "padding": null,
            "right": null,
            "top": null,
            "visibility": null,
            "width": null
          }
        },
        "5b3cefecf44d4b7d93c7ef9a3509b3a9": {
          "model_module": "@jupyter-widgets/base",
          "model_name": "LayoutModel",
          "model_module_version": "1.2.0",
          "state": {
            "_model_module": "@jupyter-widgets/base",
            "_model_module_version": "1.2.0",
            "_model_name": "LayoutModel",
            "_view_count": null,
            "_view_module": "@jupyter-widgets/base",
            "_view_module_version": "1.2.0",
            "_view_name": "LayoutView",
            "align_content": null,
            "align_items": null,
            "align_self": null,
            "border": null,
            "bottom": null,
            "display": null,
            "flex": null,
            "flex_flow": null,
            "grid_area": null,
            "grid_auto_columns": null,
            "grid_auto_flow": null,
            "grid_auto_rows": null,
            "grid_column": null,
            "grid_gap": null,
            "grid_row": null,
            "grid_template_areas": null,
            "grid_template_columns": null,
            "grid_template_rows": null,
            "height": null,
            "justify_content": null,
            "justify_items": null,
            "left": null,
            "margin": null,
            "max_height": null,
            "max_width": null,
            "min_height": null,
            "min_width": null,
            "object_fit": null,
            "object_position": null,
            "order": null,
            "overflow": null,
            "overflow_x": null,
            "overflow_y": null,
            "padding": null,
            "right": null,
            "top": null,
            "visibility": null,
            "width": null
          }
        },
        "a234f58d18e54591acea0cb0a89c6d0d": {
          "model_module": "@jupyter-widgets/controls",
          "model_name": "DescriptionStyleModel",
          "model_module_version": "1.5.0",
          "state": {
            "_model_module": "@jupyter-widgets/controls",
            "_model_module_version": "1.5.0",
            "_model_name": "DescriptionStyleModel",
            "_view_count": null,
            "_view_module": "@jupyter-widgets/base",
            "_view_module_version": "1.2.0",
            "_view_name": "StyleView",
            "description_width": ""
          }
        },
        "7bf3a691643a49babe74bb38d957e2be": {
          "model_module": "@jupyter-widgets/base",
          "model_name": "LayoutModel",
          "model_module_version": "1.2.0",
          "state": {
            "_model_module": "@jupyter-widgets/base",
            "_model_module_version": "1.2.0",
            "_model_name": "LayoutModel",
            "_view_count": null,
            "_view_module": "@jupyter-widgets/base",
            "_view_module_version": "1.2.0",
            "_view_name": "LayoutView",
            "align_content": null,
            "align_items": null,
            "align_self": null,
            "border": null,
            "bottom": null,
            "display": null,
            "flex": null,
            "flex_flow": null,
            "grid_area": null,
            "grid_auto_columns": null,
            "grid_auto_flow": null,
            "grid_auto_rows": null,
            "grid_column": null,
            "grid_gap": null,
            "grid_row": null,
            "grid_template_areas": null,
            "grid_template_columns": null,
            "grid_template_rows": null,
            "height": null,
            "justify_content": null,
            "justify_items": null,
            "left": null,
            "margin": null,
            "max_height": null,
            "max_width": null,
            "min_height": null,
            "min_width": null,
            "object_fit": null,
            "object_position": null,
            "order": null,
            "overflow": null,
            "overflow_x": null,
            "overflow_y": null,
            "padding": null,
            "right": null,
            "top": null,
            "visibility": null,
            "width": null
          }
        },
        "31efdf4438fd486eaeb17b746705a3e5": {
          "model_module": "@jupyter-widgets/controls",
          "model_name": "ProgressStyleModel",
          "model_module_version": "1.5.0",
          "state": {
            "_model_module": "@jupyter-widgets/controls",
            "_model_module_version": "1.5.0",
            "_model_name": "ProgressStyleModel",
            "_view_count": null,
            "_view_module": "@jupyter-widgets/base",
            "_view_module_version": "1.2.0",
            "_view_name": "StyleView",
            "bar_color": null,
            "description_width": ""
          }
        },
        "7bffe50fa02d462aa00a7d24dedb7b10": {
          "model_module": "@jupyter-widgets/base",
          "model_name": "LayoutModel",
          "model_module_version": "1.2.0",
          "state": {
            "_model_module": "@jupyter-widgets/base",
            "_model_module_version": "1.2.0",
            "_model_name": "LayoutModel",
            "_view_count": null,
            "_view_module": "@jupyter-widgets/base",
            "_view_module_version": "1.2.0",
            "_view_name": "LayoutView",
            "align_content": null,
            "align_items": null,
            "align_self": null,
            "border": null,
            "bottom": null,
            "display": null,
            "flex": null,
            "flex_flow": null,
            "grid_area": null,
            "grid_auto_columns": null,
            "grid_auto_flow": null,
            "grid_auto_rows": null,
            "grid_column": null,
            "grid_gap": null,
            "grid_row": null,
            "grid_template_areas": null,
            "grid_template_columns": null,
            "grid_template_rows": null,
            "height": null,
            "justify_content": null,
            "justify_items": null,
            "left": null,
            "margin": null,
            "max_height": null,
            "max_width": null,
            "min_height": null,
            "min_width": null,
            "object_fit": null,
            "object_position": null,
            "order": null,
            "overflow": null,
            "overflow_x": null,
            "overflow_y": null,
            "padding": null,
            "right": null,
            "top": null,
            "visibility": null,
            "width": null
          }
        },
        "d06a247eae424a83b87f8a767a0bd89b": {
          "model_module": "@jupyter-widgets/controls",
          "model_name": "DescriptionStyleModel",
          "model_module_version": "1.5.0",
          "state": {
            "_model_module": "@jupyter-widgets/controls",
            "_model_module_version": "1.5.0",
            "_model_name": "DescriptionStyleModel",
            "_view_count": null,
            "_view_module": "@jupyter-widgets/base",
            "_view_module_version": "1.2.0",
            "_view_name": "StyleView",
            "description_width": ""
          }
        },
        "e0d62e6c9be64d5dbc4ccc48d732a31f": {
          "model_module": "@jupyter-widgets/controls",
          "model_name": "HBoxModel",
          "model_module_version": "1.5.0",
          "state": {
            "_dom_classes": [],
            "_model_module": "@jupyter-widgets/controls",
            "_model_module_version": "1.5.0",
            "_model_name": "HBoxModel",
            "_view_count": null,
            "_view_module": "@jupyter-widgets/controls",
            "_view_module_version": "1.5.0",
            "_view_name": "HBoxView",
            "box_style": "",
            "children": [
              "IPY_MODEL_0dbc1cc5254f4b26bbe9ac41b4217a75",
              "IPY_MODEL_5ef1ea1c38c042519e9edaa7966b160f",
              "IPY_MODEL_fe6a7c5f6afb4c198a3fd3848e857224"
            ],
            "layout": "IPY_MODEL_9a72104fb2004607a1d992d8d91d55a6"
          }
        },
        "0dbc1cc5254f4b26bbe9ac41b4217a75": {
          "model_module": "@jupyter-widgets/controls",
          "model_name": "HTMLModel",
          "model_module_version": "1.5.0",
          "state": {
            "_dom_classes": [],
            "_model_module": "@jupyter-widgets/controls",
            "_model_module_version": "1.5.0",
            "_model_name": "HTMLModel",
            "_view_count": null,
            "_view_module": "@jupyter-widgets/controls",
            "_view_module_version": "1.5.0",
            "_view_name": "HTMLView",
            "description": "",
            "description_tooltip": null,
            "layout": "IPY_MODEL_dbb9982bbc7c46869b34719266ec1203",
            "placeholder": "​",
            "style": "IPY_MODEL_2033c2f60eb74df5b2b998596d57eeae",
            "value": "special_tokens_map.json: 100%"
          }
        },
        "5ef1ea1c38c042519e9edaa7966b160f": {
          "model_module": "@jupyter-widgets/controls",
          "model_name": "FloatProgressModel",
          "model_module_version": "1.5.0",
          "state": {
            "_dom_classes": [],
            "_model_module": "@jupyter-widgets/controls",
            "_model_module_version": "1.5.0",
            "_model_name": "FloatProgressModel",
            "_view_count": null,
            "_view_module": "@jupyter-widgets/controls",
            "_view_module_version": "1.5.0",
            "_view_name": "ProgressView",
            "bar_style": "success",
            "description": "",
            "description_tooltip": null,
            "layout": "IPY_MODEL_3277bfd783944b43aa0124fd39f44923",
            "max": 150,
            "min": 0,
            "orientation": "horizontal",
            "style": "IPY_MODEL_8bffbb53bd834cffa900eeb3072ec109",
            "value": 150
          }
        },
        "fe6a7c5f6afb4c198a3fd3848e857224": {
          "model_module": "@jupyter-widgets/controls",
          "model_name": "HTMLModel",
          "model_module_version": "1.5.0",
          "state": {
            "_dom_classes": [],
            "_model_module": "@jupyter-widgets/controls",
            "_model_module_version": "1.5.0",
            "_model_name": "HTMLModel",
            "_view_count": null,
            "_view_module": "@jupyter-widgets/controls",
            "_view_module_version": "1.5.0",
            "_view_name": "HTMLView",
            "description": "",
            "description_tooltip": null,
            "layout": "IPY_MODEL_4a0fda5c7a90493f960dc9ffd87d0c2c",
            "placeholder": "​",
            "style": "IPY_MODEL_f00e87901ab74f668fecaed9eba19d5a",
            "value": " 150/150 [00:00&lt;00:00, 10.5kB/s]"
          }
        },
        "9a72104fb2004607a1d992d8d91d55a6": {
          "model_module": "@jupyter-widgets/base",
          "model_name": "LayoutModel",
          "model_module_version": "1.2.0",
          "state": {
            "_model_module": "@jupyter-widgets/base",
            "_model_module_version": "1.2.0",
            "_model_name": "LayoutModel",
            "_view_count": null,
            "_view_module": "@jupyter-widgets/base",
            "_view_module_version": "1.2.0",
            "_view_name": "LayoutView",
            "align_content": null,
            "align_items": null,
            "align_self": null,
            "border": null,
            "bottom": null,
            "display": null,
            "flex": null,
            "flex_flow": null,
            "grid_area": null,
            "grid_auto_columns": null,
            "grid_auto_flow": null,
            "grid_auto_rows": null,
            "grid_column": null,
            "grid_gap": null,
            "grid_row": null,
            "grid_template_areas": null,
            "grid_template_columns": null,
            "grid_template_rows": null,
            "height": null,
            "justify_content": null,
            "justify_items": null,
            "left": null,
            "margin": null,
            "max_height": null,
            "max_width": null,
            "min_height": null,
            "min_width": null,
            "object_fit": null,
            "object_position": null,
            "order": null,
            "overflow": null,
            "overflow_x": null,
            "overflow_y": null,
            "padding": null,
            "right": null,
            "top": null,
            "visibility": null,
            "width": null
          }
        },
        "dbb9982bbc7c46869b34719266ec1203": {
          "model_module": "@jupyter-widgets/base",
          "model_name": "LayoutModel",
          "model_module_version": "1.2.0",
          "state": {
            "_model_module": "@jupyter-widgets/base",
            "_model_module_version": "1.2.0",
            "_model_name": "LayoutModel",
            "_view_count": null,
            "_view_module": "@jupyter-widgets/base",
            "_view_module_version": "1.2.0",
            "_view_name": "LayoutView",
            "align_content": null,
            "align_items": null,
            "align_self": null,
            "border": null,
            "bottom": null,
            "display": null,
            "flex": null,
            "flex_flow": null,
            "grid_area": null,
            "grid_auto_columns": null,
            "grid_auto_flow": null,
            "grid_auto_rows": null,
            "grid_column": null,
            "grid_gap": null,
            "grid_row": null,
            "grid_template_areas": null,
            "grid_template_columns": null,
            "grid_template_rows": null,
            "height": null,
            "justify_content": null,
            "justify_items": null,
            "left": null,
            "margin": null,
            "max_height": null,
            "max_width": null,
            "min_height": null,
            "min_width": null,
            "object_fit": null,
            "object_position": null,
            "order": null,
            "overflow": null,
            "overflow_x": null,
            "overflow_y": null,
            "padding": null,
            "right": null,
            "top": null,
            "visibility": null,
            "width": null
          }
        },
        "2033c2f60eb74df5b2b998596d57eeae": {
          "model_module": "@jupyter-widgets/controls",
          "model_name": "DescriptionStyleModel",
          "model_module_version": "1.5.0",
          "state": {
            "_model_module": "@jupyter-widgets/controls",
            "_model_module_version": "1.5.0",
            "_model_name": "DescriptionStyleModel",
            "_view_count": null,
            "_view_module": "@jupyter-widgets/base",
            "_view_module_version": "1.2.0",
            "_view_name": "StyleView",
            "description_width": ""
          }
        },
        "3277bfd783944b43aa0124fd39f44923": {
          "model_module": "@jupyter-widgets/base",
          "model_name": "LayoutModel",
          "model_module_version": "1.2.0",
          "state": {
            "_model_module": "@jupyter-widgets/base",
            "_model_module_version": "1.2.0",
            "_model_name": "LayoutModel",
            "_view_count": null,
            "_view_module": "@jupyter-widgets/base",
            "_view_module_version": "1.2.0",
            "_view_name": "LayoutView",
            "align_content": null,
            "align_items": null,
            "align_self": null,
            "border": null,
            "bottom": null,
            "display": null,
            "flex": null,
            "flex_flow": null,
            "grid_area": null,
            "grid_auto_columns": null,
            "grid_auto_flow": null,
            "grid_auto_rows": null,
            "grid_column": null,
            "grid_gap": null,
            "grid_row": null,
            "grid_template_areas": null,
            "grid_template_columns": null,
            "grid_template_rows": null,
            "height": null,
            "justify_content": null,
            "justify_items": null,
            "left": null,
            "margin": null,
            "max_height": null,
            "max_width": null,
            "min_height": null,
            "min_width": null,
            "object_fit": null,
            "object_position": null,
            "order": null,
            "overflow": null,
            "overflow_x": null,
            "overflow_y": null,
            "padding": null,
            "right": null,
            "top": null,
            "visibility": null,
            "width": null
          }
        },
        "8bffbb53bd834cffa900eeb3072ec109": {
          "model_module": "@jupyter-widgets/controls",
          "model_name": "ProgressStyleModel",
          "model_module_version": "1.5.0",
          "state": {
            "_model_module": "@jupyter-widgets/controls",
            "_model_module_version": "1.5.0",
            "_model_name": "ProgressStyleModel",
            "_view_count": null,
            "_view_module": "@jupyter-widgets/base",
            "_view_module_version": "1.2.0",
            "_view_name": "StyleView",
            "bar_color": null,
            "description_width": ""
          }
        },
        "4a0fda5c7a90493f960dc9ffd87d0c2c": {
          "model_module": "@jupyter-widgets/base",
          "model_name": "LayoutModel",
          "model_module_version": "1.2.0",
          "state": {
            "_model_module": "@jupyter-widgets/base",
            "_model_module_version": "1.2.0",
            "_model_name": "LayoutModel",
            "_view_count": null,
            "_view_module": "@jupyter-widgets/base",
            "_view_module_version": "1.2.0",
            "_view_name": "LayoutView",
            "align_content": null,
            "align_items": null,
            "align_self": null,
            "border": null,
            "bottom": null,
            "display": null,
            "flex": null,
            "flex_flow": null,
            "grid_area": null,
            "grid_auto_columns": null,
            "grid_auto_flow": null,
            "grid_auto_rows": null,
            "grid_column": null,
            "grid_gap": null,
            "grid_row": null,
            "grid_template_areas": null,
            "grid_template_columns": null,
            "grid_template_rows": null,
            "height": null,
            "justify_content": null,
            "justify_items": null,
            "left": null,
            "margin": null,
            "max_height": null,
            "max_width": null,
            "min_height": null,
            "min_width": null,
            "object_fit": null,
            "object_position": null,
            "order": null,
            "overflow": null,
            "overflow_x": null,
            "overflow_y": null,
            "padding": null,
            "right": null,
            "top": null,
            "visibility": null,
            "width": null
          }
        },
        "f00e87901ab74f668fecaed9eba19d5a": {
          "model_module": "@jupyter-widgets/controls",
          "model_name": "DescriptionStyleModel",
          "model_module_version": "1.5.0",
          "state": {
            "_model_module": "@jupyter-widgets/controls",
            "_model_module_version": "1.5.0",
            "_model_name": "DescriptionStyleModel",
            "_view_count": null,
            "_view_module": "@jupyter-widgets/base",
            "_view_module_version": "1.2.0",
            "_view_name": "StyleView",
            "description_width": ""
          }
        },
        "3b18c51f1a2d4fbc91b6c919f5aa0896": {
          "model_module": "@jupyter-widgets/controls",
          "model_name": "HBoxModel",
          "model_module_version": "1.5.0",
          "state": {
            "_dom_classes": [],
            "_model_module": "@jupyter-widgets/controls",
            "_model_module_version": "1.5.0",
            "_model_name": "HBoxModel",
            "_view_count": null,
            "_view_module": "@jupyter-widgets/controls",
            "_view_module_version": "1.5.0",
            "_view_name": "HBoxView",
            "box_style": "",
            "children": [
              "IPY_MODEL_fd8e4fc998014538b49110d6d559e8d3",
              "IPY_MODEL_442e56492791494d823728bf49b3538c",
              "IPY_MODEL_a2450ee4f6444e19bd8024416f613bcd"
            ],
            "layout": "IPY_MODEL_a4e3b3c13e6546cea4bedf6f8f2d270b"
          }
        },
        "fd8e4fc998014538b49110d6d559e8d3": {
          "model_module": "@jupyter-widgets/controls",
          "model_name": "HTMLModel",
          "model_module_version": "1.5.0",
          "state": {
            "_dom_classes": [],
            "_model_module": "@jupyter-widgets/controls",
            "_model_module_version": "1.5.0",
            "_model_name": "HTMLModel",
            "_view_count": null,
            "_view_module": "@jupyter-widgets/controls",
            "_view_module_version": "1.5.0",
            "_view_name": "HTMLView",
            "description": "",
            "description_tooltip": null,
            "layout": "IPY_MODEL_e51c6294706f4ef6afca2ff1e5cf0932",
            "placeholder": "​",
            "style": "IPY_MODEL_58859dddd66740208a4db105f9efc2ee",
            "value": "pytorch_model.bin: 100%"
          }
        },
        "442e56492791494d823728bf49b3538c": {
          "model_module": "@jupyter-widgets/controls",
          "model_name": "FloatProgressModel",
          "model_module_version": "1.5.0",
          "state": {
            "_dom_classes": [],
            "_model_module": "@jupyter-widgets/controls",
            "_model_module_version": "1.5.0",
            "_model_name": "FloatProgressModel",
            "_view_count": null,
            "_view_module": "@jupyter-widgets/controls",
            "_view_module_version": "1.5.0",
            "_view_name": "ProgressView",
            "bar_style": "success",
            "description": "",
            "description_tooltip": null,
            "layout": "IPY_MODEL_80e143faa326479e95862cf98e414042",
            "max": 498679497,
            "min": 0,
            "orientation": "horizontal",
            "style": "IPY_MODEL_2d45653c32e74123a4f9fd5d94068f08",
            "value": 498679497
          }
        },
        "a2450ee4f6444e19bd8024416f613bcd": {
          "model_module": "@jupyter-widgets/controls",
          "model_name": "HTMLModel",
          "model_module_version": "1.5.0",
          "state": {
            "_dom_classes": [],
            "_model_module": "@jupyter-widgets/controls",
            "_model_module_version": "1.5.0",
            "_model_name": "HTMLModel",
            "_view_count": null,
            "_view_module": "@jupyter-widgets/controls",
            "_view_module_version": "1.5.0",
            "_view_name": "HTMLView",
            "description": "",
            "description_tooltip": null,
            "layout": "IPY_MODEL_9d913a1dbd5b4f31b875887d8ecfae4d",
            "placeholder": "​",
            "style": "IPY_MODEL_9cf1181d77ec47df99ca75f796dde598",
            "value": " 499M/499M [00:06&lt;00:00, 116MB/s]"
          }
        },
        "a4e3b3c13e6546cea4bedf6f8f2d270b": {
          "model_module": "@jupyter-widgets/base",
          "model_name": "LayoutModel",
          "model_module_version": "1.2.0",
          "state": {
            "_model_module": "@jupyter-widgets/base",
            "_model_module_version": "1.2.0",
            "_model_name": "LayoutModel",
            "_view_count": null,
            "_view_module": "@jupyter-widgets/base",
            "_view_module_version": "1.2.0",
            "_view_name": "LayoutView",
            "align_content": null,
            "align_items": null,
            "align_self": null,
            "border": null,
            "bottom": null,
            "display": null,
            "flex": null,
            "flex_flow": null,
            "grid_area": null,
            "grid_auto_columns": null,
            "grid_auto_flow": null,
            "grid_auto_rows": null,
            "grid_column": null,
            "grid_gap": null,
            "grid_row": null,
            "grid_template_areas": null,
            "grid_template_columns": null,
            "grid_template_rows": null,
            "height": null,
            "justify_content": null,
            "justify_items": null,
            "left": null,
            "margin": null,
            "max_height": null,
            "max_width": null,
            "min_height": null,
            "min_width": null,
            "object_fit": null,
            "object_position": null,
            "order": null,
            "overflow": null,
            "overflow_x": null,
            "overflow_y": null,
            "padding": null,
            "right": null,
            "top": null,
            "visibility": null,
            "width": null
          }
        },
        "e51c6294706f4ef6afca2ff1e5cf0932": {
          "model_module": "@jupyter-widgets/base",
          "model_name": "LayoutModel",
          "model_module_version": "1.2.0",
          "state": {
            "_model_module": "@jupyter-widgets/base",
            "_model_module_version": "1.2.0",
            "_model_name": "LayoutModel",
            "_view_count": null,
            "_view_module": "@jupyter-widgets/base",
            "_view_module_version": "1.2.0",
            "_view_name": "LayoutView",
            "align_content": null,
            "align_items": null,
            "align_self": null,
            "border": null,
            "bottom": null,
            "display": null,
            "flex": null,
            "flex_flow": null,
            "grid_area": null,
            "grid_auto_columns": null,
            "grid_auto_flow": null,
            "grid_auto_rows": null,
            "grid_column": null,
            "grid_gap": null,
            "grid_row": null,
            "grid_template_areas": null,
            "grid_template_columns": null,
            "grid_template_rows": null,
            "height": null,
            "justify_content": null,
            "justify_items": null,
            "left": null,
            "margin": null,
            "max_height": null,
            "max_width": null,
            "min_height": null,
            "min_width": null,
            "object_fit": null,
            "object_position": null,
            "order": null,
            "overflow": null,
            "overflow_x": null,
            "overflow_y": null,
            "padding": null,
            "right": null,
            "top": null,
            "visibility": null,
            "width": null
          }
        },
        "58859dddd66740208a4db105f9efc2ee": {
          "model_module": "@jupyter-widgets/controls",
          "model_name": "DescriptionStyleModel",
          "model_module_version": "1.5.0",
          "state": {
            "_model_module": "@jupyter-widgets/controls",
            "_model_module_version": "1.5.0",
            "_model_name": "DescriptionStyleModel",
            "_view_count": null,
            "_view_module": "@jupyter-widgets/base",
            "_view_module_version": "1.2.0",
            "_view_name": "StyleView",
            "description_width": ""
          }
        },
        "80e143faa326479e95862cf98e414042": {
          "model_module": "@jupyter-widgets/base",
          "model_name": "LayoutModel",
          "model_module_version": "1.2.0",
          "state": {
            "_model_module": "@jupyter-widgets/base",
            "_model_module_version": "1.2.0",
            "_model_name": "LayoutModel",
            "_view_count": null,
            "_view_module": "@jupyter-widgets/base",
            "_view_module_version": "1.2.0",
            "_view_name": "LayoutView",
            "align_content": null,
            "align_items": null,
            "align_self": null,
            "border": null,
            "bottom": null,
            "display": null,
            "flex": null,
            "flex_flow": null,
            "grid_area": null,
            "grid_auto_columns": null,
            "grid_auto_flow": null,
            "grid_auto_rows": null,
            "grid_column": null,
            "grid_gap": null,
            "grid_row": null,
            "grid_template_areas": null,
            "grid_template_columns": null,
            "grid_template_rows": null,
            "height": null,
            "justify_content": null,
            "justify_items": null,
            "left": null,
            "margin": null,
            "max_height": null,
            "max_width": null,
            "min_height": null,
            "min_width": null,
            "object_fit": null,
            "object_position": null,
            "order": null,
            "overflow": null,
            "overflow_x": null,
            "overflow_y": null,
            "padding": null,
            "right": null,
            "top": null,
            "visibility": null,
            "width": null
          }
        },
        "2d45653c32e74123a4f9fd5d94068f08": {
          "model_module": "@jupyter-widgets/controls",
          "model_name": "ProgressStyleModel",
          "model_module_version": "1.5.0",
          "state": {
            "_model_module": "@jupyter-widgets/controls",
            "_model_module_version": "1.5.0",
            "_model_name": "ProgressStyleModel",
            "_view_count": null,
            "_view_module": "@jupyter-widgets/base",
            "_view_module_version": "1.2.0",
            "_view_name": "StyleView",
            "bar_color": null,
            "description_width": ""
          }
        },
        "9d913a1dbd5b4f31b875887d8ecfae4d": {
          "model_module": "@jupyter-widgets/base",
          "model_name": "LayoutModel",
          "model_module_version": "1.2.0",
          "state": {
            "_model_module": "@jupyter-widgets/base",
            "_model_module_version": "1.2.0",
            "_model_name": "LayoutModel",
            "_view_count": null,
            "_view_module": "@jupyter-widgets/base",
            "_view_module_version": "1.2.0",
            "_view_name": "LayoutView",
            "align_content": null,
            "align_items": null,
            "align_self": null,
            "border": null,
            "bottom": null,
            "display": null,
            "flex": null,
            "flex_flow": null,
            "grid_area": null,
            "grid_auto_columns": null,
            "grid_auto_flow": null,
            "grid_auto_rows": null,
            "grid_column": null,
            "grid_gap": null,
            "grid_row": null,
            "grid_template_areas": null,
            "grid_template_columns": null,
            "grid_template_rows": null,
            "height": null,
            "justify_content": null,
            "justify_items": null,
            "left": null,
            "margin": null,
            "max_height": null,
            "max_width": null,
            "min_height": null,
            "min_width": null,
            "object_fit": null,
            "object_position": null,
            "order": null,
            "overflow": null,
            "overflow_x": null,
            "overflow_y": null,
            "padding": null,
            "right": null,
            "top": null,
            "visibility": null,
            "width": null
          }
        },
        "9cf1181d77ec47df99ca75f796dde598": {
          "model_module": "@jupyter-widgets/controls",
          "model_name": "DescriptionStyleModel",
          "model_module_version": "1.5.0",
          "state": {
            "_model_module": "@jupyter-widgets/controls",
            "_model_module_version": "1.5.0",
            "_model_name": "DescriptionStyleModel",
            "_view_count": null,
            "_view_module": "@jupyter-widgets/base",
            "_view_module_version": "1.2.0",
            "_view_name": "StyleView",
            "description_width": ""
          }
        }
      }
    },
    "accelerator": "GPU"
  },
  "cells": [
    {
      "cell_type": "markdown",
      "metadata": {
        "id": "view-in-github",
        "colab_type": "text"
      },
      "source": [
        "<a href=\"https://colab.research.google.com/github/Szuyingpan/NLP-Project-RoBERTa/blob/main/NLP_Sentiment_Analysis_RoBERTa_Final.ipynb\" target=\"_parent\"><img src=\"https://colab.research.google.com/assets/colab-badge.svg\" alt=\"Open In Colab\"/></a>"
      ]
    },
    {
      "cell_type": "markdown",
      "source": [
        "## Natural Language Processing for Sentiment Analysis by using Amazon reviews dataset"
      ],
      "metadata": {
        "id": "OHvLfE_WJ4FA"
      }
    },
    {
      "cell_type": "markdown",
      "source": [
        "This notebook is followed by another notebook named 'NLP_Sentiment Analysis_LSTM_Final.' The goal is to first apply an LSTM model and then Huggingface's RoBERTa transformers. We aim to compare the results using a corpus of data trained models. In doing so, the Transformer model not only accounts for individual words but also considers the context related to other words."
      ],
      "metadata": {
        "id": "lqZoP5bng3Sq"
      }
    },
    {
      "cell_type": "code",
      "source": [
        "# Setup environment\n",
        "\n",
        "import os\n",
        "for dirname, _, filenames in os.walk('/kaggle/input'):\n",
        "    for filename in filenames:\n",
        "        print(os.path.join(dirname, filename))"
      ],
      "metadata": {
        "id": "4Hh4UsBWEiA7"
      },
      "execution_count": 1,
      "outputs": []
    },
    {
      "cell_type": "code",
      "source": [
        "from google.colab import drive\n",
        "drive.mount('/content/drive')"
      ],
      "metadata": {
        "colab": {
          "base_uri": "https://localhost:8080/"
        },
        "id": "iTbG5o9UIpKh",
        "outputId": "1456527a-8b7e-4adc-8f25-1b05a85edfde"
      },
      "execution_count": 2,
      "outputs": [
        {
          "output_type": "stream",
          "name": "stdout",
          "text": [
            "Mounted at /content/drive\n"
          ]
        }
      ]
    },
    {
      "cell_type": "markdown",
      "source": [
        "## 1. Import Library"
      ],
      "metadata": {
        "id": "fjrxF69-FFsG"
      }
    },
    {
      "cell_type": "code",
      "source": [
        "import bz2\n",
        "import pandas as pd\n",
        "\n",
        "from transformers import AutoTokenizer, AutoModelForSequenceClassification\n",
        "from scipy.special import softmax\n",
        "\n",
        "import matplotlib.pyplot as plt\n",
        "import seaborn as sns\n",
        "\n",
        "from tqdm.notebook import tqdm\n"
      ],
      "metadata": {
        "id": "XgftqDgLEwEM"
      },
      "execution_count": 3,
      "outputs": []
    },
    {
      "cell_type": "code",
      "source": [
        "# add this for pandas, to better look at the data\n",
        "pd.set_option('display.max_columns', None)\n",
        "pd.set_option('expand_frame_repr', False)"
      ],
      "metadata": {
        "id": "y71Jb1h6k0HO"
      },
      "execution_count": 4,
      "outputs": []
    },
    {
      "cell_type": "markdown",
      "source": [
        "## 2. Import data"
      ],
      "metadata": {
        "id": "RScOGv_FFPAY"
      }
    },
    {
      "cell_type": "code",
      "source": [
        "import pandas as pd\n",
        "\n",
        "NUMBER_OF_LINES = 9000\n",
        "\n",
        "data = {}\n",
        "\n",
        "# Counter to keep track of the number of processed lines\n",
        "i = 0\n",
        "\n",
        "# Open the file and read line by line\n",
        "with open('/content/drive/MyDrive/Colab Notebooks/train.ft.txt', 'r', encoding='utf-8') as file:\n",
        "    for line in file:\n",
        "        # Check if we have processed the desired number of lines\n",
        "        if i == NUMBER_OF_LINES:\n",
        "            break\n",
        "\n",
        "        # Determine the label based on the line prefix\n",
        "        label = 1 if line[:10] == \"__label__1\" else 2\n",
        "\n",
        "        # Extract the text, removing the label part\n",
        "        text = line[10:].strip() # Also strip to remove leading/trailing whitespaces\n",
        "\n",
        "        # Store the processed line in the dictionary\n",
        "        data[i] = {\"label\": label, \"text\": text}\n",
        "\n",
        "        # Increment the counter\n",
        "        i += 1\n",
        "\n",
        "# Convert the dictionary to a pandas DataFrame\n",
        "df = pd.DataFrame.from_dict(data, orient='index')\n",
        "df = df.reset_index().rename(columns={\"index\": \"Id\"})\n",
        "\n",
        "# Display the first few rows of the DataFrame to verify\n",
        "print(df.head())\n"
      ],
      "metadata": {
        "colab": {
          "base_uri": "https://localhost:8080/"
        },
        "id": "KBESUFYVHoJP",
        "outputId": "87fe54cd-73ab-41e2-8101-fdf8bad36afd"
      },
      "execution_count": 7,
      "outputs": [
        {
          "output_type": "stream",
          "name": "stdout",
          "text": [
            "   Id  label                                               text\n",
            "0   0      2  Stuning even for the non-gamer: This sound tra...\n",
            "1   1      2  The best soundtrack ever to anything.: I'm rea...\n",
            "2   2      2  Amazing!: This soundtrack is my favorite music...\n",
            "3   3      2  Excellent Soundtrack: I truly like this soundt...\n",
            "4   4      2  Remember, Pull Your Jaw Off The Floor After He...\n"
          ]
        }
      ]
    },
    {
      "cell_type": "code",
      "source": [
        "print(df.head(10))\n",
        "\n",
        "print(\"the shape of the data\", df.shape)\n",
        "\n",
        "print(\"unique labels\", df[\"label\"].unique())\n",
        "\n",
        "valueCounts = df[\"label\"].value_counts().sort_index()\n",
        "print(valueCounts)\n",
        "\n",
        "ax = valueCounts.plot(kind=\"bar\", title=\"Label distribution by count\", figsize=(12, 6))\n",
        "ax.set_xlabel(\"Label distribution\")\n",
        "plt.show()"
      ],
      "metadata": {
        "colab": {
          "base_uri": "https://localhost:8080/",
          "height": 734
        },
        "id": "NcvDZL_OJ7RR",
        "outputId": "b8e94a74-4868-4360-dbc7-58282e9fac6b"
      },
      "execution_count": 8,
      "outputs": [
        {
          "output_type": "stream",
          "name": "stdout",
          "text": [
            "   Id  label                                               text\n",
            "0   0      2  Stuning even for the non-gamer: This sound tra...\n",
            "1   1      2  The best soundtrack ever to anything.: I'm rea...\n",
            "2   2      2  Amazing!: This soundtrack is my favorite music...\n",
            "3   3      2  Excellent Soundtrack: I truly like this soundt...\n",
            "4   4      2  Remember, Pull Your Jaw Off The Floor After He...\n",
            "5   5      2  an absolute masterpiece: I am quite sure any o...\n",
            "6   6      1  Buyer beware: This is a self-published book, a...\n",
            "7   7      2  Glorious story: I loved Whisper of the wicked ...\n",
            "8   8      2  A FIVE STAR BOOK: I just finished reading Whis...\n",
            "9   9      2  Whispers of the Wicked Saints: This was a easy...\n",
            "the shape of the data (9000, 3)\n",
            "unique labels [2 1]\n",
            "1    4616\n",
            "2    4384\n",
            "Name: label, dtype: int64\n"
          ]
        },
        {
          "output_type": "display_data",
          "data": {
            "text/plain": [
              "<Figure size 1200x600 with 1 Axes>"
            ],
            "image/png": "[encoded data removed]"
          },
          "metadata": {}
        }
      ]
    },
    {
      "cell_type": "code",
      "source": [
        "import pandas as pd\n",
        "\n",
        "NUMBER_OF_LINES = 1000\n",
        "\n",
        "data = {}\n",
        "\n",
        "# Counter to keep track of the number of processed lines\n",
        "i = 0\n",
        "\n",
        "# Open the file and read line by line\n",
        "with open('/content/drive/MyDrive/Colab Notebooks/test.ft.txt', 'r', encoding='utf-8') as file:\n",
        "    for line in file:\n",
        "        # Check if we have processed the desired number of lines\n",
        "        if i == NUMBER_OF_LINES:\n",
        "            break\n",
        "\n",
        "        # Determine the label based on the line prefix\n",
        "        label = 1 if line[:10] == \"__label__1\" else 2\n",
        "\n",
        "        # Extract the text, removing the label part\n",
        "        text = line[10:].strip() # Also strip to remove leading/trailing whitespaces\n",
        "\n",
        "        # Store the processed line in the dictionary\n",
        "        data[i] = {\"label\": label, \"text\": text}\n",
        "\n",
        "        # Increment the counter\n",
        "        i += 1\n",
        "\n",
        "# Convert the dictionary to a pandas DataFrame\n",
        "test = pd.DataFrame.from_dict(data, orient='index')\n",
        "test = test.reset_index().rename(columns={\"index\": \"Id\"})\n",
        "\n",
        "# Display the first few rows of the DataFrame to verify\n",
        "print(test.head())\n"
      ],
      "metadata": {
        "colab": {
          "base_uri": "https://localhost:8080/"
        },
        "id": "l9FptGv_0gfj",
        "outputId": "a11ef274-7a29-40ee-8bd6-26bbf3f512a3"
      },
      "execution_count": 9,
      "outputs": [
        {
          "output_type": "stream",
          "name": "stdout",
          "text": [
            "   Id  label                                               text\n",
            "0   0      2  Great CD: My lovely Pat has one of the GREAT v...\n",
            "1   1      2  One of the best game music soundtracks - for a...\n",
            "2   2      1  Batteries died within a year ...: I bought thi...\n",
            "3   3      2  works fine, but Maha Energy is better: Check o...\n",
            "4   4      2  Great for the non-audiophile: Reviewed quite a...\n"
          ]
        }
      ]
    },
    {
      "cell_type": "code",
      "source": [
        "import pandas as pd\n",
        "\n",
        "NUMBER_OF_LINES_PER_LABEL = 500  # Target number of lines for each label\n",
        "\n",
        "data = {}\n",
        "\n",
        "# Counters to keep track of the number of processed lines for each label\n",
        "count_label_1 = 0\n",
        "count_label_2 = 0\n",
        "\n",
        "with open('/content/drive/MyDrive/Colab Notebooks/test.ft.txt', 'r', encoding='utf-8') as file:\n",
        "    for line in file:\n",
        "        # Determine the label based on the line prefix\n",
        "        label = 1 if line.startswith(\"__label__1\") else 2\n",
        "\n",
        "        # Check if we have reached the desired number of lines for each label\n",
        "        if label == 1 and count_label_1 == NUMBER_OF_LINES_PER_LABEL:\n",
        "            continue  # Skip this line and continue with the next iteration\n",
        "        elif label == 2 and count_label_2 == NUMBER_OF_LINES_PER_LABEL:\n",
        "            continue  # Skip this line and continue with the next iteration\n",
        "\n",
        "        # Extract the text, removing the label part\n",
        "        text = line[10:].strip()  # Also strip to remove leading/trailing whitespaces\n",
        "\n",
        "        # Use a new index for the data dictionary, which counts both labels up to their respective max\n",
        "        new_index = count_label_1 + count_label_2\n",
        "\n",
        "        # Store the processed line in the dictionary\n",
        "        data[new_index] = {\"label\": label, \"text\": text}\n",
        "\n",
        "        # Increment the counter for the respective label\n",
        "        if label == 1:\n",
        "            count_label_1 += 1\n",
        "        else:  # label == 2\n",
        "            count_label_2 += 1\n",
        "\n",
        "        # Check if we have reached the desired number of lines for both labels\n",
        "        if count_label_1 == NUMBER_OF_LINES_PER_LABEL and count_label_2 == NUMBER_OF_LINES_PER_LABEL:\n",
        "            break  # Stop processing once both targets are reached\n",
        "\n",
        "# Convert the dictionary to a pandas DataFrame\n",
        "test = pd.DataFrame.from_dict(data, orient='index')\n",
        "test = test.reset_index().rename(columns={\"index\": \"Id\"})\n",
        "\n",
        "# Display the first few rows of the DataFrame to verify\n",
        "print(test.head())\n"
      ],
      "metadata": {
        "colab": {
          "base_uri": "https://localhost:8080/"
        },
        "id": "u-qm1wPcFkz4",
        "outputId": "29a8fc17-e8c9-41a9-a390-fddbd6c3eabc"
      },
      "execution_count": 5,
      "outputs": [
        {
          "output_type": "stream",
          "name": "stdout",
          "text": [
            "   Id  label                                               text\n",
            "0   0      2  Great CD: My lovely Pat has one of the GREAT v...\n",
            "1   1      2  One of the best game music soundtracks - for a...\n",
            "2   2      1  Batteries died within a year ...: I bought thi...\n",
            "3   3      2  works fine, but Maha Energy is better: Check o...\n",
            "4   4      2  Great for the non-audiophile: Reviewed quite a...\n"
          ]
        }
      ]
    },
    {
      "cell_type": "markdown",
      "source": [
        "## 3. Semtiment prediction with RoBERTa transformer"
      ],
      "metadata": {
        "id": "azMQoz7aKFob"
      }
    },
    {
      "cell_type": "code",
      "source": [
        "# Pull the pretrained model from Huggingface\n",
        "modelName = \"cardiffnlp/twitter-roberta-base-sentiment\"\n",
        "# Initialise the token and the model for our defined model name\n",
        "myTokenizer = AutoTokenizer.from_pretrained(modelName, max_length=512)\n",
        "myModel = AutoModelForSequenceClassification.from_pretrained(modelName, max_length=512)"
      ],
      "metadata": {
        "colab": {
          "base_uri": "https://localhost:8080/",
          "height": 304,
          "referenced_widgets": [
            "7d1961ffde014801a1fe1f1f85143897",
            "63d2de42cfed404b8ef6b8840410e62c",
            "a39699399a9545caa64c4c01bc8526d5",
            "f9be67e9d6c640108e981b2d22d5990c",
            "e82f61c6d8834d04892159b195239041",
            "729c246516c34c83ad6ab0849e0e8ea0",
            "489cee8407e6439a9f458baaac7e38e9",
            "0daf02e9f8ec4ed2af9d1464325d16bd",
            "163b5c0665464157b82a41db79bd294e",
            "5d7d06e500ad48fdbc74f5731c4e43b8",
            "852eff182f29436893d1401fa9719d38",
            "ce7548626f3d41dea5d76a1abc4a8f9b",
            "9b2fe365b0a6497fa4e00bec8f88b31e",
            "94675ae7979445b5b9b5cdf711c1b42c",
            "b3a94a581c8647a993cddfed43ec60db",
            "1fe44fd0962a40d885b31e54cd27655f",
            "bfce5ee6fa894051adb967c7fcba3c47",
            "334a372c37704939a97df41288e9a5b6",
            "d0a2f83efc054f87917659deb7724268",
            "8f8eaa4d13b44b24a51a5a83dfe3a68e",
            "d5de310701d4428eb159ec04a499edb5",
            "24d56c4ed9834f5683539e6e4c9f90b0",
            "8336c07a006e458eab021d23a2ee152b",
            "7e8388662a5648b1a365269e6e29948c",
            "c5abd4ec3b6a4e1a9a8772b6a491fdb3",
            "ba95d35f7bb848b7bd21514105b14e3d",
            "33dff84e11814e2c8d66d4b904fd2f64",
            "5b3cefecf44d4b7d93c7ef9a3509b3a9",
            "a234f58d18e54591acea0cb0a89c6d0d",
            "7bf3a691643a49babe74bb38d957e2be",
            "31efdf4438fd486eaeb17b746705a3e5",
            "7bffe50fa02d462aa00a7d24dedb7b10",
            "d06a247eae424a83b87f8a767a0bd89b",
            "e0d62e6c9be64d5dbc4ccc48d732a31f",
            "0dbc1cc5254f4b26bbe9ac41b4217a75",
            "5ef1ea1c38c042519e9edaa7966b160f",
            "fe6a7c5f6afb4c198a3fd3848e857224",
            "9a72104fb2004607a1d992d8d91d55a6",
            "dbb9982bbc7c46869b34719266ec1203",
            "2033c2f60eb74df5b2b998596d57eeae",
            "3277bfd783944b43aa0124fd39f44923",
            "8bffbb53bd834cffa900eeb3072ec109",
            "4a0fda5c7a90493f960dc9ffd87d0c2c",
            "f00e87901ab74f668fecaed9eba19d5a",
            "3b18c51f1a2d4fbc91b6c919f5aa0896",
            "fd8e4fc998014538b49110d6d559e8d3",
            "442e56492791494d823728bf49b3538c",
            "a2450ee4f6444e19bd8024416f613bcd",
            "a4e3b3c13e6546cea4bedf6f8f2d270b",
            "e51c6294706f4ef6afca2ff1e5cf0932",
            "58859dddd66740208a4db105f9efc2ee",
            "80e143faa326479e95862cf98e414042",
            "2d45653c32e74123a4f9fd5d94068f08",
            "9d913a1dbd5b4f31b875887d8ecfae4d",
            "9cf1181d77ec47df99ca75f796dde598"
          ]
        },
        "id": "j0lxKUYBlH-r",
        "outputId": "aa9164ee-c63a-4b31-fb9e-be210ae7883d"
      },
      "execution_count": 6,
      "outputs": [
        {
          "output_type": "stream",
          "name": "stderr",
          "text": [
            "/usr/local/lib/python3.10/dist-packages/huggingface_hub/utils/_token.py:88: UserWarning: \n",
            "The secret `HF_TOKEN` does not exist in your Colab secrets.\n",
            "To authenticate with the Hugging Face Hub, create a token in your settings tab (https://huggingface.co/settings/tokens), set it as secret in your Google Colab and restart your session.\n",
            "You will be able to reuse this secret in all of your notebooks.\n",
            "Please note that authentication is recommended but still optional to access public models or datasets.\n",
            "  warnings.warn(\n"
          ]
        },
        {
          "output_type": "display_data",
          "data": {
            "text/plain": [
              "config.json:   0%|          | 0.00/747 [00:00<?, ?B/s]"
            ],
            "application/vnd.jupyter.widget-view+json": {
              "version_major": 2,
              "version_minor": 0,
              "model_id": "7d1961ffde014801a1fe1f1f85143897"
            }
          },
          "metadata": {}
        },
        {
          "output_type": "display_data",
          "data": {
            "text/plain": [
              "vocab.json:   0%|          | 0.00/899k [00:00<?, ?B/s]"
            ],
            "application/vnd.jupyter.widget-view+json": {
              "version_major": 2,
              "version_minor": 0,
              "model_id": "ce7548626f3d41dea5d76a1abc4a8f9b"
            }
          },
          "metadata": {}
        },
        {
          "output_type": "display_data",
          "data": {
            "text/plain": [
              "merges.txt:   0%|          | 0.00/456k [00:00<?, ?B/s]"
            ],
            "application/vnd.jupyter.widget-view+json": {
              "version_major": 2,
              "version_minor": 0,
              "model_id": "8336c07a006e458eab021d23a2ee152b"
            }
          },
          "metadata": {}
        },
        {
          "output_type": "display_data",
          "data": {
            "text/plain": [
              "special_tokens_map.json:   0%|          | 0.00/150 [00:00<?, ?B/s]"
            ],
            "application/vnd.jupyter.widget-view+json": {
              "version_major": 2,
              "version_minor": 0,
              "model_id": "e0d62e6c9be64d5dbc4ccc48d732a31f"
            }
          },
          "metadata": {}
        },
        {
          "output_type": "display_data",
          "data": {
            "text/plain": [
              "pytorch_model.bin:   0%|          | 0.00/499M [00:00<?, ?B/s]"
            ],
            "application/vnd.jupyter.widget-view+json": {
              "version_major": 2,
              "version_minor": 0,
              "model_id": "3b18c51f1a2d4fbc91b6c919f5aa0896"
            }
          },
          "metadata": {}
        }
      ]
    },
    {
      "cell_type": "markdown",
      "source": [
        "## 3.1 RoBERTa model apply on train set"
      ],
      "metadata": {
        "id": "s3ZUEC16P3d_"
      }
    },
    {
      "cell_type": "code",
      "source": [
        "robertaResults = {} # initialized to store the sentiment analysis results\n",
        "\n",
        "# using a loop \"tqdm\" iterates over each row of the DataFrame \"df\"\n",
        "for i, row in tqdm(df.iterrows(), total=len(df)):\n",
        "    text = row[\"text\"]\n",
        "\n",
        "    \"\"\" first create the tokens from the input text,\n",
        "    return_tensors=\"pt\" means output should be PyTorch tensors,\n",
        "    and ensures that texts longer than 512 tokens are truncated\"\"\"\n",
        "\n",
        "    tokens = myTokenizer.__call__(text, return_tensors=\"pt\", max_length=512, truncation=True)\n",
        "\n",
        "    # next we apply the tokens to our model\n",
        "    out = myModel.__call__(**tokens)\n",
        "\n",
        "    \"\"\" get the actual scores from the tensors.\n",
        "    extracts the logits for the first and only input in the batch,\n",
        "    detaches them from the computation graph, and converts them to a NumPy array.\"\"\"\n",
        "    scores = out[0][0].detach().numpy()\n",
        "\n",
        "    \"\"\" applies the softmax function to the logits, converting them into probabilities.\n",
        "    there are three values negative, neutral, positive.\"\"\"\n",
        "    softScores = softmax(scores)\n",
        "\n",
        "    # create a map with the results\n",
        "    robertaScores = {\n",
        "        \"roberta_negative\": softScores[0],\n",
        "        \"roberta_neutral\": softScores[1],\n",
        "        \"roberta_positive\": softScores[2],\n",
        "        \"predicted_label\": 1 if softScores[0] > softScores[2] else 2\n",
        "    }\n",
        "\n",
        "    # add the local scores to all the results\n",
        "    robertaResults[i] = robertaScores\n",
        "\n",
        "# create a pandas data frame from the parsed map\n",
        "robertaDf = pd.DataFrame(robertaResults).T\n",
        "\n",
        "# merged with the original DataFrame df to align each text with its sentiment analysis results\n",
        "# resulting in sentimentDf\n",
        "robertaDf = robertaDf.reset_index().rename(columns= {\"index\": \"Id\"})\n",
        "\n",
        "sentimentDf = robertaDf.merge(df, how=\"left\")\n",
        "\n",
        "print(sentimentDf.head())"
      ],
      "metadata": {
        "colab": {
          "base_uri": "https://localhost:8080/"
        },
        "id": "yoinQK9ZE1rl",
        "outputId": "049e188c-b123-4160-b463-ffcdb54d6fff"
      },
      "execution_count": 14,
      "outputs": [
        {
          "output_type": "stream",
          "name": "stderr",
          "text": [
            "100%|██████████| 9000/9000 [58:40<00:00,  2.56it/s]"
          ]
        },
        {
          "output_type": "stream",
          "name": "stdout",
          "text": [
            "   Id  roberta_negative  roberta_neutral  roberta_positive  predicted_label  label                                               text\n",
            "0   0          0.003296         0.014339          0.982364              2.0      2  Stuning even for the non-gamer: This sound tra...\n",
            "1   1          0.008890         0.053305          0.937805              2.0      2  The best soundtrack ever to anything.: I'm rea...\n",
            "2   2          0.003940         0.021520          0.974540              2.0      2  Amazing!: This soundtrack is my favorite music...\n",
            "3   3          0.001481         0.027240          0.971279              2.0      2  Excellent Soundtrack: I truly like this soundt...\n",
            "4   4          0.001758         0.016666          0.981577              2.0      2  Remember, Pull Your Jaw Off The Floor After He...\n"
          ]
        },
        {
          "output_type": "stream",
          "name": "stderr",
          "text": [
            "\n"
          ]
        }
      ]
    },
    {
      "cell_type": "code",
      "source": [
        "fig, axs = plt.subplots(1, 2, figsize=(12, 3))\n",
        "sns.barplot(data=sentimentDf, x='label', y='roberta_positive', ax=axs[0])\n",
        "sns.barplot(data=sentimentDf, x='label', y='roberta_negative', ax=axs[1])\n",
        "axs[0].set_title('Positive')\n",
        "axs[1].set_title('Negative')\n",
        "plt.tight_layout()\n",
        "plt.show()"
      ],
      "metadata": {
        "colab": {
          "base_uri": "https://localhost:8080/",
          "height": 210
        },
        "id": "FbbSUb0CKUj7",
        "outputId": "ca172d95-01a7-4c1e-e74b-00e239cc0b33"
      },
      "execution_count": 9,
      "outputs": [
        {
          "output_type": "display_data",
          "data": {
            "text/plain": [
              "<Figure size 1200x300 with 2 Axes>"
            ],
            "image/png": "[encoded data removed]"
          },
          "metadata": {}
        }
      ]
    },
    {
      "cell_type": "markdown",
      "source": [
        "## 3.2 RoBERTa model apply on test set"
      ],
      "metadata": {
        "id": "WoOHoTVlQAee"
      }
    },
    {
      "cell_type": "code",
      "source": [
        "#from tqdm import tqdm\n",
        "#import pandas as pd\n",
        "#from scipy.special import softmax\n",
        "\n",
        "robertaTestResults = {}  # Initialize to store the sentiment analysis results for the test set\n",
        "\n",
        "for i, row in tqdm(test.iterrows(), total=len(test)):\n",
        "    text = row[\"text\"]\n",
        "\n",
        "    # Tokenize the text\n",
        "    tokens = myTokenizer(text, return_tensors=\"pt\", max_length=512, truncation=True)\n",
        "\n",
        "    # Apply the tokens to the RoBERTa model\n",
        "    out = myModel(**tokens)\n",
        "\n",
        "    # Get the scores and convert to probabilities\n",
        "    scores = out.logits[0].detach().numpy()  # Updated to use logits for clarity\n",
        "    softScores = softmax(scores)\n",
        "\n",
        "    # Map the results\n",
        "    robertaScores = {\n",
        "        \"roberta_negative\": softScores[0],\n",
        "        \"roberta_neutral\": softScores[1],\n",
        "        \"roberta_positive\": softScores[2],\n",
        "        \"predicted_label\": 1 if softScores[0] > softScores[2] else 2\n",
        "    }\n",
        "\n",
        "    # Add to the results\n",
        "    robertaTestResults[i] = robertaScores\n",
        "\n",
        "# Convert the results to a DataFrame\n",
        "robertaTestDf = pd.DataFrame(robertaTestResults).T\n",
        "\n",
        "# If your test DataFrame has an index or ID column that you'd like to maintain, adjust accordingly\n",
        "robertaTestDf = robertaTestDf.reset_index().rename(columns={\"index\": \"Id\"})\n",
        "\n",
        "# Merge with the original test DataFrame to align each text with its sentiment analysis results\n",
        "sentimentTestDf = robertaTestDf.merge(test, how=\"left\", on=\"Id\")\n",
        "\n",
        "print(sentimentTestDf.head())\n"
      ],
      "metadata": {
        "colab": {
          "base_uri": "https://localhost:8080/"
        },
        "id": "9a46W5Ob5wZH",
        "outputId": "b7ecf042-20af-4790-a652-c367317abb1d"
      },
      "execution_count": 7,
      "outputs": [
        {
          "output_type": "stream",
          "name": "stderr",
          "text": [
            "100%|██████████| 1000/1000 [06:13<00:00,  2.68it/s]"
          ]
        },
        {
          "output_type": "stream",
          "name": "stdout",
          "text": [
            "   Id  roberta_negative  roberta_neutral  roberta_positive  predicted_label  label                                               text\n",
            "0   0          0.005815         0.024149          0.970036              2.0      2  Great CD: My lovely Pat has one of the GREAT v...\n",
            "1   1          0.040374         0.114920          0.844705              2.0      2  One of the best game music soundtracks - for a...\n",
            "2   2          0.320658         0.420270          0.259072              1.0      1  Batteries died within a year ...: I bought thi...\n",
            "3   3          0.006435         0.099892          0.893673              2.0      2  works fine, but Maha Energy is better: Check o...\n",
            "4   4          0.076798         0.252621          0.670581              2.0      2  Great for the non-audiophile: Reviewed quite a...\n"
          ]
        },
        {
          "output_type": "stream",
          "name": "stderr",
          "text": [
            "\n"
          ]
        }
      ]
    },
    {
      "cell_type": "code",
      "source": [
        "fig, axs = plt.subplots(1, 2, figsize=(12, 3))\n",
        "sns.barplot(data=sentimentTestDf, x='label', y='roberta_positive', ax=axs[0])\n",
        "sns.barplot(data=sentimentTestDf, x='label', y='roberta_negative', ax=axs[1])\n",
        "axs[0].set_title('Positive')\n",
        "axs[1].set_title('Negative')\n",
        "plt.tight_layout()\n",
        "plt.show()"
      ],
      "metadata": {
        "colab": {
          "base_uri": "https://localhost:8080/",
          "height": 210
        },
        "id": "W3tDI1iHMKoW",
        "outputId": "5a50a933-a069-4b7f-c3b3-a796f27bd709"
      },
      "execution_count": 8,
      "outputs": [
        {
          "output_type": "display_data",
          "data": {
            "text/plain": [
              "<Figure size 1200x300 with 2 Axes>"
            ],
            "image/png": "[encoded data removed]"
          },
          "metadata": {}
        }
      ]
    },
    {
      "cell_type": "code",
      "source": [
        "correct = 0\n",
        "\n",
        "for i, row in sentimentDf.iterrows():\n",
        "\n",
        "    if row[\"label\"] == int(row[\"predicted_label\"]):\n",
        "        correct += 1\n",
        "\n",
        "\n",
        "accuracy = correct / len(sentimentDf)\n",
        "print(f\"Accuracy is {accuracy}\")\n"
      ],
      "metadata": {
        "colab": {
          "base_uri": "https://localhost:8080/"
        },
        "id": "Ti3nzQNGKrmU",
        "outputId": "50e1d0b9-4d58-4849-ee7c-2f323142eade"
      },
      "execution_count": 15,
      "outputs": [
        {
          "output_type": "stream",
          "name": "stdout",
          "text": [
            "Accuracy is 0.8952222222222223\n"
          ]
        }
      ]
    },
    {
      "cell_type": "code",
      "source": [
        "actual_labels = test[\"label\"].astype(int)  # Make sure this column exists in your test DataFrame\n",
        "predicted_labels = sentimentTestDf[\"predicted_label\"].astype(int)  # Assuming sentimentTestDf contains predictions for the test set"
      ],
      "metadata": {
        "id": "sdvqi4GJnvAZ"
      },
      "execution_count": 9,
      "outputs": []
    },
    {
      "cell_type": "code",
      "source": [
        "from sklearn.metrics import precision_score, recall_score, f1_score, confusion_matrix\n",
        "\n",
        "precision = precision_score(actual_labels, predicted_labels)\n",
        "recall = recall_score(actual_labels, predicted_labels)\n",
        "f1 = f1_score(actual_labels, predicted_labels)\n",
        "\n",
        "# To calculate specificity, first get the confusion matrix\n",
        "tn, fp, fn, tp = confusion_matrix(actual_labels, predicted_labels).ravel()\n",
        "\n",
        "# Specificity (also called True Negative Rate)\n",
        "specificity = tn / (tn + fp)\n",
        "\n",
        "print(f\"Precision: {precision}\")\n",
        "print(f\"Recall: {recall}\")\n",
        "print(f\"F1 Score: {f1}\")\n",
        "print(f\"Specificity: {specificity}\")"
      ],
      "metadata": {
        "colab": {
          "base_uri": "https://localhost:8080/"
        },
        "id": "L16407Acshdj",
        "outputId": "592434c9-0780-42f1-c762-1bc197d99b4c"
      },
      "execution_count": 11,
      "outputs": [
        {
          "output_type": "stream",
          "name": "stdout",
          "text": [
            "Precision: 0.889344262295082\n",
            "Recall: 0.868\n",
            "F1 Score: 0.8785425101214576\n",
            "Specificity: 0.868\n"
          ]
        }
      ]
    },
    {
      "cell_type": "markdown",
      "source": [
        "The performance metrics for RoBERTa model:\n",
        "* A precision of 0.889 means that approximately 88.9% of the reviews predicted as positive or negative by the model are correctly classified.\n",
        "* A recall of 0.868 signifies that the model successfully identifies about 86.8% of the actual positive reviews.\n",
        "* An F1 score of approximately 0.8785 indicates a good balance between precision and recall which means demonstrating a well performance in identifying both positive and negative reviews.\n",
        "* With specificity also at 0.868, the model shows an equal performance in identifying negative reviews as it does with positive reviews.\n",
        "* An accuracy of about 89.5% indicates that the model correctly predicts the sentiment of nearly 9 out of 10 reviews. This high level of accuracy showcases the effectiveness of the RoBERTa model in handling sentiment analysis tasks."
      ],
      "metadata": {
        "id": "LEJyEBYbMqKn"
      }
    },
    {
      "cell_type": "code",
      "source": [
        "from sklearn.metrics import confusion_matrix\n",
        "cm = confusion_matrix(actual_labels, predicted_labels)\n",
        "\n",
        "print('The confusion matrix for the test set is : ')\n",
        "sns.heatmap(cm, square = True, annot = True, cmap = 'Blues', fmt = 'd', cbar = False)"
      ],
      "metadata": {
        "colab": {
          "base_uri": "https://localhost:8080/",
          "height": 466
        },
        "id": "L3hreH5jIO6o",
        "outputId": "65541837-2470-44c0-ca37-1c6e55e0d977"
      },
      "execution_count": 14,
      "outputs": [
        {
          "output_type": "stream",
          "name": "stdout",
          "text": [
            "The confusion matrix for the test set is : \n"
          ]
        },
        {
          "output_type": "execute_result",
          "data": {
            "text/plain": [
              "<Axes: >"
            ]
          },
          "metadata": {},
          "execution_count": 14
        },
        {
          "output_type": "display_data",
          "data": {
            "text/plain": [
              "<Figure size 640x480 with 1 Axes>"
            ],
            "image/png": "[encoded data removed]"
          },
          "metadata": {}
        }
      ]
    },
    {
      "cell_type": "code",
      "source": [
        "predicted_yes = cm[0,1]+cm[1,1]\n",
        "predicted_no = cm[0,0]+cm[0,1]\n",
        "print(predicted_yes)\n",
        "print(predicted_no)"
      ],
      "metadata": {
        "colab": {
          "base_uri": "https://localhost:8080/"
        },
        "id": "zcJtB1n_I9HW",
        "outputId": "d2c16d64-3023-454b-caf7-90d62e9c83db"
      },
      "execution_count": 15,
      "outputs": [
        {
          "output_type": "stream",
          "name": "stdout",
          "text": [
            "512\n",
            "500\n"
          ]
        }
      ]
    },
    {
      "cell_type": "code",
      "source": [
        "positive_reviews = cm[1,0]+cm[1,1]\n",
        "negative_reviews = cm[0,0]+cm[0,1]\n",
        "print(positive_reviews)\n",
        "print(negative_reviews)"
      ],
      "metadata": {
        "colab": {
          "base_uri": "https://localhost:8080/"
        },
        "id": "jKmKnFF_I-pW",
        "outputId": "ac212109-a401-45b8-a33c-2502a06a6a54"
      },
      "execution_count": 16,
      "outputs": [
        {
          "output_type": "stream",
          "name": "stdout",
          "text": [
            "500\n",
            "500\n"
          ]
        }
      ]
    },
    {
      "cell_type": "markdown",
      "source": [
        "## Conclusion"
      ],
      "metadata": {
        "id": "yHvsZJ7JPqZa"
      }
    },
    {
      "cell_type": "markdown",
      "source": [
        "The model demonstrates strong performance across all key metrics. The high precision indicates few false positives, while the high recall shows that it misses few actual positives. The equal values of recall and specificity suggest a balanced ability to identify both positive and negative reviews accurately. The F1 score confirms a good balance between precision and recall, meaning the model makes its decisions confidently without being too cautious or too aggressive. High accuracy proves the model's strong ability in sorting reviews into positive and negative groups.\n",
        "\n",
        "The balanced performance across precision, recall, and specificity, combined with high overall accuracy, suggests that the RoBERTa model is well-tuned for this dataset, offering a solid option for sentiment analysis with a focus on both positive and negative review identification."
      ],
      "metadata": {
        "id": "OoJJJoqfPplS"
      }
    }
  ]
}